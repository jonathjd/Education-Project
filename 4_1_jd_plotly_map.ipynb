{
  "nbformat": 4,
  "nbformat_minor": 0,
  "metadata": {
    "colab": {
      "name": "4.1-jd-plotly-map.ipynb",
      "provenance": [],
      "authorship_tag": "ABX9TyPlnsd9cn1mC0ndpj9y+HtK",
      "include_colab_link": true
    },
    "kernelspec": {
      "name": "python3",
      "display_name": "Python 3"
    },
    "language_info": {
      "name": "python"
    }
  },
  "cells": [
    {
      "cell_type": "markdown",
      "metadata": {
        "id": "view-in-github",
        "colab_type": "text"
      },
      "source": [
        "<a href=\"https://colab.research.google.com/github/jonathjd/Education-Project/blob/main/4_1_jd_plotly_map.ipynb\" target=\"_parent\"><img src=\"https://colab.research.google.com/assets/colab-badge.svg\" alt=\"Open In Colab\"/></a>"
      ]
    },
    {
      "cell_type": "code",
      "execution_count": 12,
      "metadata": {
        "colab": {
          "base_uri": "https://localhost:8080/",
          "height": 17
        },
        "id": "taZFZY58glb5",
        "outputId": "b8b32e06-463a-480a-9524-0d06931da7d7"
      },
      "outputs": [
        {
          "output_type": "display_data",
          "data": {
            "text/html": [
              "        <script type=\"text/javascript\">\n",
              "        window.PlotlyConfig = {MathJaxConfig: 'local'};\n",
              "        if (window.MathJax) {MathJax.Hub.Config({SVG: {font: \"STIX-Web\"}});}\n",
              "        if (typeof require !== 'undefined') {\n",
              "        require.undef(\"plotly\");\n",
              "        requirejs.config({\n",
              "            paths: {\n",
              "                'plotly': ['https://cdn.plot.ly/plotly-2.8.3.min']\n",
              "            }\n",
              "        });\n",
              "        require(['plotly'], function(Plotly) {\n",
              "            window._Plotly = Plotly;\n",
              "        });\n",
              "        }\n",
              "        </script>\n",
              "        "
            ]
          },
          "metadata": {}
        }
      ],
      "source": [
        "# import libraries\n",
        "import pandas as pd\n",
        "import plotly as py\n",
        "from plotly.offline import download_plotlyjs, init_notebook_mode, plot, iplot\n",
        "import plotly.graph_objects as go\n",
        "init_notebook_mode(connected=True)"
      ]
    },
    {
      "cell_type": "code",
      "source": [
        "# import data\n",
        "df = pd.read_csv(\"https://raw.githubusercontent.com/jonathjd/Education-Project/main/data/processed/cleaned_data.csv\")"
      ],
      "metadata": {
        "id": "MQI9mrEChGZJ"
      },
      "execution_count": 13,
      "outputs": []
    },
    {
      "cell_type": "code",
      "source": [
        "# check head\n",
        "df.head()"
      ],
      "metadata": {
        "id": "c8xvV2UlhTES",
        "colab": {
          "base_uri": "https://localhost:8080/",
          "height": 461
        },
        "outputId": "b27510d9-f29c-4cba-a530-5a31d058c549"
      },
      "execution_count": 14,
      "outputs": [
        {
          "output_type": "execute_result",
          "data": {
            "text/plain": [
              "   UNITID                               INSTNM        CITY STABBR         ZIP  \\\n",
              "0  100654             Alabama A & M University      Normal     AL       35762   \n",
              "1  100663  University of Alabama at Birmingham  Birmingham     AL  35294-0110   \n",
              "2  100690                   Amridge University  Montgomery     AL  36117-3553   \n",
              "3  100706  University of Alabama in Huntsville  Huntsville     AL       35899   \n",
              "4  100724             Alabama State University  Montgomery     AL  36104-0271   \n",
              "\n",
              "                      INSTURL  HIGHDEG  CONTROL  REGION  COSTT4_A  \\\n",
              "0               www.aamu.edu/        4        1       5   23053.0   \n",
              "1        https://www.uab.edu/        4        1       5   24495.0   \n",
              "2  www.amridgeuniversity.edu/        4        2       5   14800.0   \n",
              "3                www.uah.edu/        4        1       5   23917.0   \n",
              "4              www.alasu.edu/        4        1       5   21866.0   \n",
              "\n",
              "   TUITIONFEE_IN  TUITIONFEE_OUT  TUITFTE  INEXPFTE  AVGFACSAL  \n",
              "0        10024.0         18634.0   7870.0    5546.0     7709.0  \n",
              "1         8568.0         20400.0  12096.0   14983.0    11049.0  \n",
              "2         6950.0          6950.0  16403.0    5245.0     4187.0  \n",
              "3        11122.0         23518.0   8275.0    8488.0     9688.0  \n",
              "4        11068.0         19396.0   9587.0    9346.0     7221.0  "
            ],
            "text/html": [
              "\n",
              "  <div id=\"df-aa0d4e11-6667-4e6b-bfd5-4d1b89a671ec\">\n",
              "    <div class=\"colab-df-container\">\n",
              "      <div>\n",
              "<style scoped>\n",
              "    .dataframe tbody tr th:only-of-type {\n",
              "        vertical-align: middle;\n",
              "    }\n",
              "\n",
              "    .dataframe tbody tr th {\n",
              "        vertical-align: top;\n",
              "    }\n",
              "\n",
              "    .dataframe thead th {\n",
              "        text-align: right;\n",
              "    }\n",
              "</style>\n",
              "<table border=\"1\" class=\"dataframe\">\n",
              "  <thead>\n",
              "    <tr style=\"text-align: right;\">\n",
              "      <th></th>\n",
              "      <th>UNITID</th>\n",
              "      <th>INSTNM</th>\n",
              "      <th>CITY</th>\n",
              "      <th>STABBR</th>\n",
              "      <th>ZIP</th>\n",
              "      <th>INSTURL</th>\n",
              "      <th>HIGHDEG</th>\n",
              "      <th>CONTROL</th>\n",
              "      <th>REGION</th>\n",
              "      <th>COSTT4_A</th>\n",
              "      <th>TUITIONFEE_IN</th>\n",
              "      <th>TUITIONFEE_OUT</th>\n",
              "      <th>TUITFTE</th>\n",
              "      <th>INEXPFTE</th>\n",
              "      <th>AVGFACSAL</th>\n",
              "    </tr>\n",
              "  </thead>\n",
              "  <tbody>\n",
              "    <tr>\n",
              "      <th>0</th>\n",
              "      <td>100654</td>\n",
              "      <td>Alabama A &amp; M University</td>\n",
              "      <td>Normal</td>\n",
              "      <td>AL</td>\n",
              "      <td>35762</td>\n",
              "      <td>www.aamu.edu/</td>\n",
              "      <td>4</td>\n",
              "      <td>1</td>\n",
              "      <td>5</td>\n",
              "      <td>23053.0</td>\n",
              "      <td>10024.0</td>\n",
              "      <td>18634.0</td>\n",
              "      <td>7870.0</td>\n",
              "      <td>5546.0</td>\n",
              "      <td>7709.0</td>\n",
              "    </tr>\n",
              "    <tr>\n",
              "      <th>1</th>\n",
              "      <td>100663</td>\n",
              "      <td>University of Alabama at Birmingham</td>\n",
              "      <td>Birmingham</td>\n",
              "      <td>AL</td>\n",
              "      <td>35294-0110</td>\n",
              "      <td>https://www.uab.edu/</td>\n",
              "      <td>4</td>\n",
              "      <td>1</td>\n",
              "      <td>5</td>\n",
              "      <td>24495.0</td>\n",
              "      <td>8568.0</td>\n",
              "      <td>20400.0</td>\n",
              "      <td>12096.0</td>\n",
              "      <td>14983.0</td>\n",
              "      <td>11049.0</td>\n",
              "    </tr>\n",
              "    <tr>\n",
              "      <th>2</th>\n",
              "      <td>100690</td>\n",
              "      <td>Amridge University</td>\n",
              "      <td>Montgomery</td>\n",
              "      <td>AL</td>\n",
              "      <td>36117-3553</td>\n",
              "      <td>www.amridgeuniversity.edu/</td>\n",
              "      <td>4</td>\n",
              "      <td>2</td>\n",
              "      <td>5</td>\n",
              "      <td>14800.0</td>\n",
              "      <td>6950.0</td>\n",
              "      <td>6950.0</td>\n",
              "      <td>16403.0</td>\n",
              "      <td>5245.0</td>\n",
              "      <td>4187.0</td>\n",
              "    </tr>\n",
              "    <tr>\n",
              "      <th>3</th>\n",
              "      <td>100706</td>\n",
              "      <td>University of Alabama in Huntsville</td>\n",
              "      <td>Huntsville</td>\n",
              "      <td>AL</td>\n",
              "      <td>35899</td>\n",
              "      <td>www.uah.edu/</td>\n",
              "      <td>4</td>\n",
              "      <td>1</td>\n",
              "      <td>5</td>\n",
              "      <td>23917.0</td>\n",
              "      <td>11122.0</td>\n",
              "      <td>23518.0</td>\n",
              "      <td>8275.0</td>\n",
              "      <td>8488.0</td>\n",
              "      <td>9688.0</td>\n",
              "    </tr>\n",
              "    <tr>\n",
              "      <th>4</th>\n",
              "      <td>100724</td>\n",
              "      <td>Alabama State University</td>\n",
              "      <td>Montgomery</td>\n",
              "      <td>AL</td>\n",
              "      <td>36104-0271</td>\n",
              "      <td>www.alasu.edu/</td>\n",
              "      <td>4</td>\n",
              "      <td>1</td>\n",
              "      <td>5</td>\n",
              "      <td>21866.0</td>\n",
              "      <td>11068.0</td>\n",
              "      <td>19396.0</td>\n",
              "      <td>9587.0</td>\n",
              "      <td>9346.0</td>\n",
              "      <td>7221.0</td>\n",
              "    </tr>\n",
              "  </tbody>\n",
              "</table>\n",
              "</div>\n",
              "      <button class=\"colab-df-convert\" onclick=\"convertToInteractive('df-aa0d4e11-6667-4e6b-bfd5-4d1b89a671ec')\"\n",
              "              title=\"Convert this dataframe to an interactive table.\"\n",
              "              style=\"display:none;\">\n",
              "        \n",
              "  <svg xmlns=\"http://www.w3.org/2000/svg\" height=\"24px\"viewBox=\"0 0 24 24\"\n",
              "       width=\"24px\">\n",
              "    <path d=\"M0 0h24v24H0V0z\" fill=\"none\"/>\n",
              "    <path d=\"M18.56 5.44l.94 2.06.94-2.06 2.06-.94-2.06-.94-.94-2.06-.94 2.06-2.06.94zm-11 1L8.5 8.5l.94-2.06 2.06-.94-2.06-.94L8.5 2.5l-.94 2.06-2.06.94zm10 10l.94 2.06.94-2.06 2.06-.94-2.06-.94-.94-2.06-.94 2.06-2.06.94z\"/><path d=\"M17.41 7.96l-1.37-1.37c-.4-.4-.92-.59-1.43-.59-.52 0-1.04.2-1.43.59L10.3 9.45l-7.72 7.72c-.78.78-.78 2.05 0 2.83L4 21.41c.39.39.9.59 1.41.59.51 0 1.02-.2 1.41-.59l7.78-7.78 2.81-2.81c.8-.78.8-2.07 0-2.86zM5.41 20L4 18.59l7.72-7.72 1.47 1.35L5.41 20z\"/>\n",
              "  </svg>\n",
              "      </button>\n",
              "      \n",
              "  <style>\n",
              "    .colab-df-container {\n",
              "      display:flex;\n",
              "      flex-wrap:wrap;\n",
              "      gap: 12px;\n",
              "    }\n",
              "\n",
              "    .colab-df-convert {\n",
              "      background-color: #E8F0FE;\n",
              "      border: none;\n",
              "      border-radius: 50%;\n",
              "      cursor: pointer;\n",
              "      display: none;\n",
              "      fill: #1967D2;\n",
              "      height: 32px;\n",
              "      padding: 0 0 0 0;\n",
              "      width: 32px;\n",
              "    }\n",
              "\n",
              "    .colab-df-convert:hover {\n",
              "      background-color: #E2EBFA;\n",
              "      box-shadow: 0px 1px 2px rgba(60, 64, 67, 0.3), 0px 1px 3px 1px rgba(60, 64, 67, 0.15);\n",
              "      fill: #174EA6;\n",
              "    }\n",
              "\n",
              "    [theme=dark] .colab-df-convert {\n",
              "      background-color: #3B4455;\n",
              "      fill: #D2E3FC;\n",
              "    }\n",
              "\n",
              "    [theme=dark] .colab-df-convert:hover {\n",
              "      background-color: #434B5C;\n",
              "      box-shadow: 0px 1px 3px 1px rgba(0, 0, 0, 0.15);\n",
              "      filter: drop-shadow(0px 1px 2px rgba(0, 0, 0, 0.3));\n",
              "      fill: #FFFFFF;\n",
              "    }\n",
              "  </style>\n",
              "\n",
              "      <script>\n",
              "        const buttonEl =\n",
              "          document.querySelector('#df-aa0d4e11-6667-4e6b-bfd5-4d1b89a671ec button.colab-df-convert');\n",
              "        buttonEl.style.display =\n",
              "          google.colab.kernel.accessAllowed ? 'block' : 'none';\n",
              "\n",
              "        async function convertToInteractive(key) {\n",
              "          const element = document.querySelector('#df-aa0d4e11-6667-4e6b-bfd5-4d1b89a671ec');\n",
              "          const dataTable =\n",
              "            await google.colab.kernel.invokeFunction('convertToInteractive',\n",
              "                                                     [key], {});\n",
              "          if (!dataTable) return;\n",
              "\n",
              "          const docLinkHtml = 'Like what you see? Visit the ' +\n",
              "            '<a target=\"_blank\" href=https://colab.research.google.com/notebooks/data_table.ipynb>data table notebook</a>'\n",
              "            + ' to learn more about interactive tables.';\n",
              "          element.innerHTML = '';\n",
              "          dataTable['output_type'] = 'display_data';\n",
              "          await google.colab.output.renderOutput(dataTable, element);\n",
              "          const docLink = document.createElement('div');\n",
              "          docLink.innerHTML = docLinkHtml;\n",
              "          element.appendChild(docLink);\n",
              "        }\n",
              "      </script>\n",
              "    </div>\n",
              "  </div>\n",
              "  "
            ]
          },
          "metadata": {},
          "execution_count": 14
        }
      ]
    },
    {
      "cell_type": "code",
      "source": [
        "# Groupby state\n",
        "# we will use the median values to get a more robust estimate of the middle of the data\n",
        "df2 = df.groupby(by=\"STABBR\").median().copy()\n",
        "df2.head()"
      ],
      "metadata": {
        "id": "ooMDbf1OhVxx",
        "colab": {
          "base_uri": "https://localhost:8080/",
          "height": 238
        },
        "outputId": "b05eba98-73d6-47cc-bf05-ede7756b2e52"
      },
      "execution_count": 15,
      "outputs": [
        {
          "output_type": "execute_result",
          "data": {
            "text/plain": [
              "          UNITID  HIGHDEG  CONTROL  REGION      COSTT4_A  TUITIONFEE_IN  \\\n",
              "STABBR                                                                    \n",
              "AK      102650.5      3.5      1.5     8.0  20545.000000    8158.500000   \n",
              "AL      101625.0      3.0      1.0     5.0  20173.900000    9163.000000   \n",
              "AR      107460.0      2.0      1.0     5.0  19101.000000    7909.000000   \n",
              "AZ      312312.5      3.0      2.0     6.0  20497.119048    9813.500000   \n",
              "CA      122205.0      3.0      2.0     8.0  23096.142857   10612.333333   \n",
              "\n",
              "        TUITIONFEE_OUT  TUITFTE  INEXPFTE  AVGFACSAL  \n",
              "STABBR                                                \n",
              "AK             18864.5   7899.5   13054.5     7432.5  \n",
              "AL             13530.5   7800.5    6210.0     6613.5  \n",
              "AR             11032.0   4061.0    6785.0     5268.0  \n",
              "AZ             13028.0   9286.0    5207.5     6383.0  \n",
              "CA             14040.0  10466.0    6755.0     8456.0  "
            ],
            "text/html": [
              "\n",
              "  <div id=\"df-1421cd90-4c60-4f81-b1ce-a5b33d1edcba\">\n",
              "    <div class=\"colab-df-container\">\n",
              "      <div>\n",
              "<style scoped>\n",
              "    .dataframe tbody tr th:only-of-type {\n",
              "        vertical-align: middle;\n",
              "    }\n",
              "\n",
              "    .dataframe tbody tr th {\n",
              "        vertical-align: top;\n",
              "    }\n",
              "\n",
              "    .dataframe thead th {\n",
              "        text-align: right;\n",
              "    }\n",
              "</style>\n",
              "<table border=\"1\" class=\"dataframe\">\n",
              "  <thead>\n",
              "    <tr style=\"text-align: right;\">\n",
              "      <th></th>\n",
              "      <th>UNITID</th>\n",
              "      <th>HIGHDEG</th>\n",
              "      <th>CONTROL</th>\n",
              "      <th>REGION</th>\n",
              "      <th>COSTT4_A</th>\n",
              "      <th>TUITIONFEE_IN</th>\n",
              "      <th>TUITIONFEE_OUT</th>\n",
              "      <th>TUITFTE</th>\n",
              "      <th>INEXPFTE</th>\n",
              "      <th>AVGFACSAL</th>\n",
              "    </tr>\n",
              "    <tr>\n",
              "      <th>STABBR</th>\n",
              "      <th></th>\n",
              "      <th></th>\n",
              "      <th></th>\n",
              "      <th></th>\n",
              "      <th></th>\n",
              "      <th></th>\n",
              "      <th></th>\n",
              "      <th></th>\n",
              "      <th></th>\n",
              "      <th></th>\n",
              "    </tr>\n",
              "  </thead>\n",
              "  <tbody>\n",
              "    <tr>\n",
              "      <th>AK</th>\n",
              "      <td>102650.5</td>\n",
              "      <td>3.5</td>\n",
              "      <td>1.5</td>\n",
              "      <td>8.0</td>\n",
              "      <td>20545.000000</td>\n",
              "      <td>8158.500000</td>\n",
              "      <td>18864.5</td>\n",
              "      <td>7899.5</td>\n",
              "      <td>13054.5</td>\n",
              "      <td>7432.5</td>\n",
              "    </tr>\n",
              "    <tr>\n",
              "      <th>AL</th>\n",
              "      <td>101625.0</td>\n",
              "      <td>3.0</td>\n",
              "      <td>1.0</td>\n",
              "      <td>5.0</td>\n",
              "      <td>20173.900000</td>\n",
              "      <td>9163.000000</td>\n",
              "      <td>13530.5</td>\n",
              "      <td>7800.5</td>\n",
              "      <td>6210.0</td>\n",
              "      <td>6613.5</td>\n",
              "    </tr>\n",
              "    <tr>\n",
              "      <th>AR</th>\n",
              "      <td>107460.0</td>\n",
              "      <td>2.0</td>\n",
              "      <td>1.0</td>\n",
              "      <td>5.0</td>\n",
              "      <td>19101.000000</td>\n",
              "      <td>7909.000000</td>\n",
              "      <td>11032.0</td>\n",
              "      <td>4061.0</td>\n",
              "      <td>6785.0</td>\n",
              "      <td>5268.0</td>\n",
              "    </tr>\n",
              "    <tr>\n",
              "      <th>AZ</th>\n",
              "      <td>312312.5</td>\n",
              "      <td>3.0</td>\n",
              "      <td>2.0</td>\n",
              "      <td>6.0</td>\n",
              "      <td>20497.119048</td>\n",
              "      <td>9813.500000</td>\n",
              "      <td>13028.0</td>\n",
              "      <td>9286.0</td>\n",
              "      <td>5207.5</td>\n",
              "      <td>6383.0</td>\n",
              "    </tr>\n",
              "    <tr>\n",
              "      <th>CA</th>\n",
              "      <td>122205.0</td>\n",
              "      <td>3.0</td>\n",
              "      <td>2.0</td>\n",
              "      <td>8.0</td>\n",
              "      <td>23096.142857</td>\n",
              "      <td>10612.333333</td>\n",
              "      <td>14040.0</td>\n",
              "      <td>10466.0</td>\n",
              "      <td>6755.0</td>\n",
              "      <td>8456.0</td>\n",
              "    </tr>\n",
              "  </tbody>\n",
              "</table>\n",
              "</div>\n",
              "      <button class=\"colab-df-convert\" onclick=\"convertToInteractive('df-1421cd90-4c60-4f81-b1ce-a5b33d1edcba')\"\n",
              "              title=\"Convert this dataframe to an interactive table.\"\n",
              "              style=\"display:none;\">\n",
              "        \n",
              "  <svg xmlns=\"http://www.w3.org/2000/svg\" height=\"24px\"viewBox=\"0 0 24 24\"\n",
              "       width=\"24px\">\n",
              "    <path d=\"M0 0h24v24H0V0z\" fill=\"none\"/>\n",
              "    <path d=\"M18.56 5.44l.94 2.06.94-2.06 2.06-.94-2.06-.94-.94-2.06-.94 2.06-2.06.94zm-11 1L8.5 8.5l.94-2.06 2.06-.94-2.06-.94L8.5 2.5l-.94 2.06-2.06.94zm10 10l.94 2.06.94-2.06 2.06-.94-2.06-.94-.94-2.06-.94 2.06-2.06.94z\"/><path d=\"M17.41 7.96l-1.37-1.37c-.4-.4-.92-.59-1.43-.59-.52 0-1.04.2-1.43.59L10.3 9.45l-7.72 7.72c-.78.78-.78 2.05 0 2.83L4 21.41c.39.39.9.59 1.41.59.51 0 1.02-.2 1.41-.59l7.78-7.78 2.81-2.81c.8-.78.8-2.07 0-2.86zM5.41 20L4 18.59l7.72-7.72 1.47 1.35L5.41 20z\"/>\n",
              "  </svg>\n",
              "      </button>\n",
              "      \n",
              "  <style>\n",
              "    .colab-df-container {\n",
              "      display:flex;\n",
              "      flex-wrap:wrap;\n",
              "      gap: 12px;\n",
              "    }\n",
              "\n",
              "    .colab-df-convert {\n",
              "      background-color: #E8F0FE;\n",
              "      border: none;\n",
              "      border-radius: 50%;\n",
              "      cursor: pointer;\n",
              "      display: none;\n",
              "      fill: #1967D2;\n",
              "      height: 32px;\n",
              "      padding: 0 0 0 0;\n",
              "      width: 32px;\n",
              "    }\n",
              "\n",
              "    .colab-df-convert:hover {\n",
              "      background-color: #E2EBFA;\n",
              "      box-shadow: 0px 1px 2px rgba(60, 64, 67, 0.3), 0px 1px 3px 1px rgba(60, 64, 67, 0.15);\n",
              "      fill: #174EA6;\n",
              "    }\n",
              "\n",
              "    [theme=dark] .colab-df-convert {\n",
              "      background-color: #3B4455;\n",
              "      fill: #D2E3FC;\n",
              "    }\n",
              "\n",
              "    [theme=dark] .colab-df-convert:hover {\n",
              "      background-color: #434B5C;\n",
              "      box-shadow: 0px 1px 3px 1px rgba(0, 0, 0, 0.15);\n",
              "      filter: drop-shadow(0px 1px 2px rgba(0, 0, 0, 0.3));\n",
              "      fill: #FFFFFF;\n",
              "    }\n",
              "  </style>\n",
              "\n",
              "      <script>\n",
              "        const buttonEl =\n",
              "          document.querySelector('#df-1421cd90-4c60-4f81-b1ce-a5b33d1edcba button.colab-df-convert');\n",
              "        buttonEl.style.display =\n",
              "          google.colab.kernel.accessAllowed ? 'block' : 'none';\n",
              "\n",
              "        async function convertToInteractive(key) {\n",
              "          const element = document.querySelector('#df-1421cd90-4c60-4f81-b1ce-a5b33d1edcba');\n",
              "          const dataTable =\n",
              "            await google.colab.kernel.invokeFunction('convertToInteractive',\n",
              "                                                     [key], {});\n",
              "          if (!dataTable) return;\n",
              "\n",
              "          const docLinkHtml = 'Like what you see? Visit the ' +\n",
              "            '<a target=\"_blank\" href=https://colab.research.google.com/notebooks/data_table.ipynb>data table notebook</a>'\n",
              "            + ' to learn more about interactive tables.';\n",
              "          element.innerHTML = '';\n",
              "          dataTable['output_type'] = 'display_data';\n",
              "          await google.colab.output.renderOutput(dataTable, element);\n",
              "          const docLink = document.createElement('div');\n",
              "          docLink.innerHTML = docLinkHtml;\n",
              "          element.appendChild(docLink);\n",
              "        }\n",
              "      </script>\n",
              "    </div>\n",
              "  </div>\n",
              "  "
            ]
          },
          "metadata": {},
          "execution_count": 15
        }
      ]
    },
    {
      "cell_type": "markdown",
      "source": [
        "# Interactive Map using Plotly\n",
        "\n",
        "We are going to generate an interactive US map displaying the ***median cost*** of attendance (**COSTT4_A**) using plotly. We will use the median as the data is positively skewed."
      ],
      "metadata": {
        "id": "lvz_j2FyiO1v"
      }
    },
    {
      "cell_type": "code",
      "source": [
        "# Create dictionary with data\n",
        "# This map will display median state income\n",
        "data = dict(type='choropleth',\n",
        "            locations = df2.index,\n",
        "            locationmode='USA-states',\n",
        "            z=df2['COSTT4_A'],\n",
        "            colorscale=\"Reds\",\n",
        "            colorbar_title=\"USD\"\n",
        "            )\n",
        "\n",
        "# configure layout\n",
        "layout = dict(title=\"Median Cost of Attendance Per Year\",\n",
        "              geo=dict(scope='usa',\n",
        "                      showlakes=True,\n",
        "                      lakecolor=\"rgb(85,173,240)\")\n",
        "             )"
      ],
      "metadata": {
        "id": "Y3FXPvCYh0dI"
      },
      "execution_count": 16,
      "outputs": []
    },
    {
      "cell_type": "code",
      "source": [
        "# Create figure object\n",
        "choromap = go.Figure(data=[data], layout=layout)"
      ],
      "metadata": {
        "id": "KutFH2AVh-JX"
      },
      "execution_count": 17,
      "outputs": []
    },
    {
      "cell_type": "code",
      "source": [
        "choromap.show()"
      ],
      "metadata": {
        "id": "TEvjzhWBiMkX",
        "colab": {
          "base_uri": "https://localhost:8080/",
          "height": 542
        },
        "outputId": "668ea728-26a9-4b2f-8b57-6ebc715a642c"
      },
      "execution_count": 18,
      "outputs": [
        {
          "output_type": "display_data",
          "data": {
            "application/vnd.plotly.v1+json": {
              "data": [
                {
                  "colorscale": [
                    [
                      0,
                      "rgb(255,245,240)"
                    ],
                    [
                      0.125,
                      "rgb(254,224,210)"
                    ],
                    [
                      0.25,
                      "rgb(252,187,161)"
                    ],
                    [
                      0.375,
                      "rgb(252,146,114)"
                    ],
                    [
                      0.5,
                      "rgb(251,106,74)"
                    ],
                    [
                      0.625,
                      "rgb(239,59,44)"
                    ],
                    [
                      0.75,
                      "rgb(203,24,29)"
                    ],
                    [
                      0.875,
                      "rgb(165,15,21)"
                    ],
                    [
                      1,
                      "rgb(103,0,13)"
                    ]
                  ],
                  "locationmode": "USA-states",
                  "locations": [
                    "AK",
                    "AL",
                    "AR",
                    "AZ",
                    "CA",
                    "CO",
                    "CT",
                    "DC",
                    "DE",
                    "FL",
                    "GA",
                    "HI",
                    "IA",
                    "ID",
                    "IL",
                    "IN",
                    "KS",
                    "KY",
                    "LA",
                    "MA",
                    "MD",
                    "ME",
                    "MI",
                    "MN",
                    "MO",
                    "MS",
                    "MT",
                    "NC",
                    "ND",
                    "NE",
                    "NH",
                    "NJ",
                    "NM",
                    "NV",
                    "NY",
                    "OH",
                    "OK",
                    "OR",
                    "PA",
                    "RI",
                    "SC",
                    "SD",
                    "TN",
                    "TX",
                    "UT",
                    "VA",
                    "VT",
                    "WA",
                    "WI",
                    "WV",
                    "WY"
                  ],
                  "z": [
                    20545,
                    20173.9,
                    19101,
                    20497.119047619046,
                    23096.14285714285,
                    23911,
                    23925.5,
                    30268,
                    27291,
                    25098,
                    22171,
                    18862,
                    29674.25,
                    20463.75,
                    24377.75,
                    28443.25,
                    19634.5,
                    23937.3,
                    20636,
                    47630,
                    23925,
                    23288,
                    22852,
                    20539,
                    24582,
                    18147.5,
                    15005,
                    18289,
                    16803.5,
                    24104,
                    33111,
                    24997.25,
                    14434.5,
                    22731,
                    25543,
                    25528.5,
                    20680,
                    23635,
                    32709.264705882353,
                    46017,
                    25955.5,
                    21675.25,
                    26450,
                    20574.8,
                    22116.5,
                    26880.5,
                    40231,
                    17143.75,
                    23049.5,
                    19118,
                    12424
                  ],
                  "type": "choropleth",
                  "colorbar": {
                    "title": {
                      "text": "USD"
                    }
                  }
                }
              ],
              "layout": {
                "geo": {
                  "lakecolor": "rgb(85,173,240)",
                  "scope": "usa",
                  "showlakes": true
                },
                "title": {
                  "text": "Median Cost of Attendance Per Year"
                },
                "template": {
                  "data": {
                    "bar": [
                      {
                        "error_x": {
                          "color": "#2a3f5f"
                        },
                        "error_y": {
                          "color": "#2a3f5f"
                        },
                        "marker": {
                          "line": {
                            "color": "#E5ECF6",
                            "width": 0.5
                          },
                          "pattern": {
                            "fillmode": "overlay",
                            "size": 10,
                            "solidity": 0.2
                          }
                        },
                        "type": "bar"
                      }
                    ],
                    "barpolar": [
                      {
                        "marker": {
                          "line": {
                            "color": "#E5ECF6",
                            "width": 0.5
                          },
                          "pattern": {
                            "fillmode": "overlay",
                            "size": 10,
                            "solidity": 0.2
                          }
                        },
                        "type": "barpolar"
                      }
                    ],
                    "carpet": [
                      {
                        "aaxis": {
                          "endlinecolor": "#2a3f5f",
                          "gridcolor": "white",
                          "linecolor": "white",
                          "minorgridcolor": "white",
                          "startlinecolor": "#2a3f5f"
                        },
                        "baxis": {
                          "endlinecolor": "#2a3f5f",
                          "gridcolor": "white",
                          "linecolor": "white",
                          "minorgridcolor": "white",
                          "startlinecolor": "#2a3f5f"
                        },
                        "type": "carpet"
                      }
                    ],
                    "choropleth": [
                      {
                        "colorbar": {
                          "outlinewidth": 0,
                          "ticks": ""
                        },
                        "type": "choropleth"
                      }
                    ],
                    "contour": [
                      {
                        "colorbar": {
                          "outlinewidth": 0,
                          "ticks": ""
                        },
                        "colorscale": [
                          [
                            0,
                            "#0d0887"
                          ],
                          [
                            0.1111111111111111,
                            "#46039f"
                          ],
                          [
                            0.2222222222222222,
                            "#7201a8"
                          ],
                          [
                            0.3333333333333333,
                            "#9c179e"
                          ],
                          [
                            0.4444444444444444,
                            "#bd3786"
                          ],
                          [
                            0.5555555555555556,
                            "#d8576b"
                          ],
                          [
                            0.6666666666666666,
                            "#ed7953"
                          ],
                          [
                            0.7777777777777778,
                            "#fb9f3a"
                          ],
                          [
                            0.8888888888888888,
                            "#fdca26"
                          ],
                          [
                            1,
                            "#f0f921"
                          ]
                        ],
                        "type": "contour"
                      }
                    ],
                    "contourcarpet": [
                      {
                        "colorbar": {
                          "outlinewidth": 0,
                          "ticks": ""
                        },
                        "type": "contourcarpet"
                      }
                    ],
                    "heatmap": [
                      {
                        "colorbar": {
                          "outlinewidth": 0,
                          "ticks": ""
                        },
                        "colorscale": [
                          [
                            0,
                            "#0d0887"
                          ],
                          [
                            0.1111111111111111,
                            "#46039f"
                          ],
                          [
                            0.2222222222222222,
                            "#7201a8"
                          ],
                          [
                            0.3333333333333333,
                            "#9c179e"
                          ],
                          [
                            0.4444444444444444,
                            "#bd3786"
                          ],
                          [
                            0.5555555555555556,
                            "#d8576b"
                          ],
                          [
                            0.6666666666666666,
                            "#ed7953"
                          ],
                          [
                            0.7777777777777778,
                            "#fb9f3a"
                          ],
                          [
                            0.8888888888888888,
                            "#fdca26"
                          ],
                          [
                            1,
                            "#f0f921"
                          ]
                        ],
                        "type": "heatmap"
                      }
                    ],
                    "heatmapgl": [
                      {
                        "colorbar": {
                          "outlinewidth": 0,
                          "ticks": ""
                        },
                        "colorscale": [
                          [
                            0,
                            "#0d0887"
                          ],
                          [
                            0.1111111111111111,
                            "#46039f"
                          ],
                          [
                            0.2222222222222222,
                            "#7201a8"
                          ],
                          [
                            0.3333333333333333,
                            "#9c179e"
                          ],
                          [
                            0.4444444444444444,
                            "#bd3786"
                          ],
                          [
                            0.5555555555555556,
                            "#d8576b"
                          ],
                          [
                            0.6666666666666666,
                            "#ed7953"
                          ],
                          [
                            0.7777777777777778,
                            "#fb9f3a"
                          ],
                          [
                            0.8888888888888888,
                            "#fdca26"
                          ],
                          [
                            1,
                            "#f0f921"
                          ]
                        ],
                        "type": "heatmapgl"
                      }
                    ],
                    "histogram": [
                      {
                        "marker": {
                          "pattern": {
                            "fillmode": "overlay",
                            "size": 10,
                            "solidity": 0.2
                          }
                        },
                        "type": "histogram"
                      }
                    ],
                    "histogram2d": [
                      {
                        "colorbar": {
                          "outlinewidth": 0,
                          "ticks": ""
                        },
                        "colorscale": [
                          [
                            0,
                            "#0d0887"
                          ],
                          [
                            0.1111111111111111,
                            "#46039f"
                          ],
                          [
                            0.2222222222222222,
                            "#7201a8"
                          ],
                          [
                            0.3333333333333333,
                            "#9c179e"
                          ],
                          [
                            0.4444444444444444,
                            "#bd3786"
                          ],
                          [
                            0.5555555555555556,
                            "#d8576b"
                          ],
                          [
                            0.6666666666666666,
                            "#ed7953"
                          ],
                          [
                            0.7777777777777778,
                            "#fb9f3a"
                          ],
                          [
                            0.8888888888888888,
                            "#fdca26"
                          ],
                          [
                            1,
                            "#f0f921"
                          ]
                        ],
                        "type": "histogram2d"
                      }
                    ],
                    "histogram2dcontour": [
                      {
                        "colorbar": {
                          "outlinewidth": 0,
                          "ticks": ""
                        },
                        "colorscale": [
                          [
                            0,
                            "#0d0887"
                          ],
                          [
                            0.1111111111111111,
                            "#46039f"
                          ],
                          [
                            0.2222222222222222,
                            "#7201a8"
                          ],
                          [
                            0.3333333333333333,
                            "#9c179e"
                          ],
                          [
                            0.4444444444444444,
                            "#bd3786"
                          ],
                          [
                            0.5555555555555556,
                            "#d8576b"
                          ],
                          [
                            0.6666666666666666,
                            "#ed7953"
                          ],
                          [
                            0.7777777777777778,
                            "#fb9f3a"
                          ],
                          [
                            0.8888888888888888,
                            "#fdca26"
                          ],
                          [
                            1,
                            "#f0f921"
                          ]
                        ],
                        "type": "histogram2dcontour"
                      }
                    ],
                    "mesh3d": [
                      {
                        "colorbar": {
                          "outlinewidth": 0,
                          "ticks": ""
                        },
                        "type": "mesh3d"
                      }
                    ],
                    "parcoords": [
                      {
                        "line": {
                          "colorbar": {
                            "outlinewidth": 0,
                            "ticks": ""
                          }
                        },
                        "type": "parcoords"
                      }
                    ],
                    "pie": [
                      {
                        "automargin": true,
                        "type": "pie"
                      }
                    ],
                    "scatter": [
                      {
                        "marker": {
                          "colorbar": {
                            "outlinewidth": 0,
                            "ticks": ""
                          }
                        },
                        "type": "scatter"
                      }
                    ],
                    "scatter3d": [
                      {
                        "line": {
                          "colorbar": {
                            "outlinewidth": 0,
                            "ticks": ""
                          }
                        },
                        "marker": {
                          "colorbar": {
                            "outlinewidth": 0,
                            "ticks": ""
                          }
                        },
                        "type": "scatter3d"
                      }
                    ],
                    "scattercarpet": [
                      {
                        "marker": {
                          "colorbar": {
                            "outlinewidth": 0,
                            "ticks": ""
                          }
                        },
                        "type": "scattercarpet"
                      }
                    ],
                    "scattergeo": [
                      {
                        "marker": {
                          "colorbar": {
                            "outlinewidth": 0,
                            "ticks": ""
                          }
                        },
                        "type": "scattergeo"
                      }
                    ],
                    "scattergl": [
                      {
                        "marker": {
                          "colorbar": {
                            "outlinewidth": 0,
                            "ticks": ""
                          }
                        },
                        "type": "scattergl"
                      }
                    ],
                    "scattermapbox": [
                      {
                        "marker": {
                          "colorbar": {
                            "outlinewidth": 0,
                            "ticks": ""
                          }
                        },
                        "type": "scattermapbox"
                      }
                    ],
                    "scatterpolar": [
                      {
                        "marker": {
                          "colorbar": {
                            "outlinewidth": 0,
                            "ticks": ""
                          }
                        },
                        "type": "scatterpolar"
                      }
                    ],
                    "scatterpolargl": [
                      {
                        "marker": {
                          "colorbar": {
                            "outlinewidth": 0,
                            "ticks": ""
                          }
                        },
                        "type": "scatterpolargl"
                      }
                    ],
                    "scatterternary": [
                      {
                        "marker": {
                          "colorbar": {
                            "outlinewidth": 0,
                            "ticks": ""
                          }
                        },
                        "type": "scatterternary"
                      }
                    ],
                    "surface": [
                      {
                        "colorbar": {
                          "outlinewidth": 0,
                          "ticks": ""
                        },
                        "colorscale": [
                          [
                            0,
                            "#0d0887"
                          ],
                          [
                            0.1111111111111111,
                            "#46039f"
                          ],
                          [
                            0.2222222222222222,
                            "#7201a8"
                          ],
                          [
                            0.3333333333333333,
                            "#9c179e"
                          ],
                          [
                            0.4444444444444444,
                            "#bd3786"
                          ],
                          [
                            0.5555555555555556,
                            "#d8576b"
                          ],
                          [
                            0.6666666666666666,
                            "#ed7953"
                          ],
                          [
                            0.7777777777777778,
                            "#fb9f3a"
                          ],
                          [
                            0.8888888888888888,
                            "#fdca26"
                          ],
                          [
                            1,
                            "#f0f921"
                          ]
                        ],
                        "type": "surface"
                      }
                    ],
                    "table": [
                      {
                        "cells": {
                          "fill": {
                            "color": "#EBF0F8"
                          },
                          "line": {
                            "color": "white"
                          }
                        },
                        "header": {
                          "fill": {
                            "color": "#C8D4E3"
                          },
                          "line": {
                            "color": "white"
                          }
                        },
                        "type": "table"
                      }
                    ]
                  },
                  "layout": {
                    "annotationdefaults": {
                      "arrowcolor": "#2a3f5f",
                      "arrowhead": 0,
                      "arrowwidth": 1
                    },
                    "autotypenumbers": "strict",
                    "coloraxis": {
                      "colorbar": {
                        "outlinewidth": 0,
                        "ticks": ""
                      }
                    },
                    "colorscale": {
                      "diverging": [
                        [
                          0,
                          "#8e0152"
                        ],
                        [
                          0.1,
                          "#c51b7d"
                        ],
                        [
                          0.2,
                          "#de77ae"
                        ],
                        [
                          0.3,
                          "#f1b6da"
                        ],
                        [
                          0.4,
                          "#fde0ef"
                        ],
                        [
                          0.5,
                          "#f7f7f7"
                        ],
                        [
                          0.6,
                          "#e6f5d0"
                        ],
                        [
                          0.7,
                          "#b8e186"
                        ],
                        [
                          0.8,
                          "#7fbc41"
                        ],
                        [
                          0.9,
                          "#4d9221"
                        ],
                        [
                          1,
                          "#276419"
                        ]
                      ],
                      "sequential": [
                        [
                          0,
                          "#0d0887"
                        ],
                        [
                          0.1111111111111111,
                          "#46039f"
                        ],
                        [
                          0.2222222222222222,
                          "#7201a8"
                        ],
                        [
                          0.3333333333333333,
                          "#9c179e"
                        ],
                        [
                          0.4444444444444444,
                          "#bd3786"
                        ],
                        [
                          0.5555555555555556,
                          "#d8576b"
                        ],
                        [
                          0.6666666666666666,
                          "#ed7953"
                        ],
                        [
                          0.7777777777777778,
                          "#fb9f3a"
                        ],
                        [
                          0.8888888888888888,
                          "#fdca26"
                        ],
                        [
                          1,
                          "#f0f921"
                        ]
                      ],
                      "sequentialminus": [
                        [
                          0,
                          "#0d0887"
                        ],
                        [
                          0.1111111111111111,
                          "#46039f"
                        ],
                        [
                          0.2222222222222222,
                          "#7201a8"
                        ],
                        [
                          0.3333333333333333,
                          "#9c179e"
                        ],
                        [
                          0.4444444444444444,
                          "#bd3786"
                        ],
                        [
                          0.5555555555555556,
                          "#d8576b"
                        ],
                        [
                          0.6666666666666666,
                          "#ed7953"
                        ],
                        [
                          0.7777777777777778,
                          "#fb9f3a"
                        ],
                        [
                          0.8888888888888888,
                          "#fdca26"
                        ],
                        [
                          1,
                          "#f0f921"
                        ]
                      ]
                    },
                    "colorway": [
                      "#636efa",
                      "#EF553B",
                      "#00cc96",
                      "#ab63fa",
                      "#FFA15A",
                      "#19d3f3",
                      "#FF6692",
                      "#B6E880",
                      "#FF97FF",
                      "#FECB52"
                    ],
                    "font": {
                      "color": "#2a3f5f"
                    },
                    "geo": {
                      "bgcolor": "white",
                      "lakecolor": "white",
                      "landcolor": "#E5ECF6",
                      "showlakes": true,
                      "showland": true,
                      "subunitcolor": "white"
                    },
                    "hoverlabel": {
                      "align": "left"
                    },
                    "hovermode": "closest",
                    "mapbox": {
                      "style": "light"
                    },
                    "paper_bgcolor": "white",
                    "plot_bgcolor": "#E5ECF6",
                    "polar": {
                      "angularaxis": {
                        "gridcolor": "white",
                        "linecolor": "white",
                        "ticks": ""
                      },
                      "bgcolor": "#E5ECF6",
                      "radialaxis": {
                        "gridcolor": "white",
                        "linecolor": "white",
                        "ticks": ""
                      }
                    },
                    "scene": {
                      "xaxis": {
                        "backgroundcolor": "#E5ECF6",
                        "gridcolor": "white",
                        "gridwidth": 2,
                        "linecolor": "white",
                        "showbackground": true,
                        "ticks": "",
                        "zerolinecolor": "white"
                      },
                      "yaxis": {
                        "backgroundcolor": "#E5ECF6",
                        "gridcolor": "white",
                        "gridwidth": 2,
                        "linecolor": "white",
                        "showbackground": true,
                        "ticks": "",
                        "zerolinecolor": "white"
                      },
                      "zaxis": {
                        "backgroundcolor": "#E5ECF6",
                        "gridcolor": "white",
                        "gridwidth": 2,
                        "linecolor": "white",
                        "showbackground": true,
                        "ticks": "",
                        "zerolinecolor": "white"
                      }
                    },
                    "shapedefaults": {
                      "line": {
                        "color": "#2a3f5f"
                      }
                    },
                    "ternary": {
                      "aaxis": {
                        "gridcolor": "white",
                        "linecolor": "white",
                        "ticks": ""
                      },
                      "baxis": {
                        "gridcolor": "white",
                        "linecolor": "white",
                        "ticks": ""
                      },
                      "bgcolor": "#E5ECF6",
                      "caxis": {
                        "gridcolor": "white",
                        "linecolor": "white",
                        "ticks": ""
                      }
                    },
                    "title": {
                      "x": 0.05
                    },
                    "xaxis": {
                      "automargin": true,
                      "gridcolor": "white",
                      "linecolor": "white",
                      "ticks": "",
                      "title": {
                        "standoff": 15
                      },
                      "zerolinecolor": "white",
                      "zerolinewidth": 2
                    },
                    "yaxis": {
                      "automargin": true,
                      "gridcolor": "white",
                      "linecolor": "white",
                      "ticks": "",
                      "title": {
                        "standoff": 15
                      },
                      "zerolinecolor": "white",
                      "zerolinewidth": 2
                    }
                  }
                }
              },
              "config": {
                "plotlyServerURL": "https://plot.ly"
              }
            },
            "text/html": [
              "<div>                            <div id=\"ac971d36-ca70-473a-90f0-0e7e720da226\" class=\"plotly-graph-div\" style=\"height:525px; width:100%;\"></div>            <script type=\"text/javascript\">                require([\"plotly\"], function(Plotly) {                    window.PLOTLYENV=window.PLOTLYENV || {};                                    if (document.getElementById(\"ac971d36-ca70-473a-90f0-0e7e720da226\")) {                    Plotly.newPlot(                        \"ac971d36-ca70-473a-90f0-0e7e720da226\",                        [{\"colorscale\":[[0.0,\"rgb(255,245,240)\"],[0.125,\"rgb(254,224,210)\"],[0.25,\"rgb(252,187,161)\"],[0.375,\"rgb(252,146,114)\"],[0.5,\"rgb(251,106,74)\"],[0.625,\"rgb(239,59,44)\"],[0.75,\"rgb(203,24,29)\"],[0.875,\"rgb(165,15,21)\"],[1.0,\"rgb(103,0,13)\"]],\"locationmode\":\"USA-states\",\"locations\":[\"AK\",\"AL\",\"AR\",\"AZ\",\"CA\",\"CO\",\"CT\",\"DC\",\"DE\",\"FL\",\"GA\",\"HI\",\"IA\",\"ID\",\"IL\",\"IN\",\"KS\",\"KY\",\"LA\",\"MA\",\"MD\",\"ME\",\"MI\",\"MN\",\"MO\",\"MS\",\"MT\",\"NC\",\"ND\",\"NE\",\"NH\",\"NJ\",\"NM\",\"NV\",\"NY\",\"OH\",\"OK\",\"OR\",\"PA\",\"RI\",\"SC\",\"SD\",\"TN\",\"TX\",\"UT\",\"VA\",\"VT\",\"WA\",\"WI\",\"WV\",\"WY\"],\"z\":[20545.0,20173.9,19101.0,20497.119047619046,23096.14285714285,23911.0,23925.5,30268.0,27291.0,25098.0,22171.0,18862.0,29674.25,20463.75,24377.75,28443.25,19634.5,23937.3,20636.0,47630.0,23925.0,23288.0,22852.0,20539.0,24582.0,18147.5,15005.0,18289.0,16803.5,24104.0,33111.0,24997.25,14434.5,22731.0,25543.0,25528.5,20680.0,23635.0,32709.264705882353,46017.0,25955.5,21675.25,26450.0,20574.8,22116.5,26880.5,40231.0,17143.75,23049.5,19118.0,12424.0],\"type\":\"choropleth\",\"colorbar\":{\"title\":{\"text\":\"USD\"}}}],                        {\"geo\":{\"lakecolor\":\"rgb(85,173,240)\",\"scope\":\"usa\",\"showlakes\":true},\"title\":{\"text\":\"Median Cost of Attendance Per Year\"},\"template\":{\"data\":{\"bar\":[{\"error_x\":{\"color\":\"#2a3f5f\"},\"error_y\":{\"color\":\"#2a3f5f\"},\"marker\":{\"line\":{\"color\":\"#E5ECF6\",\"width\":0.5},\"pattern\":{\"fillmode\":\"overlay\",\"size\":10,\"solidity\":0.2}},\"type\":\"bar\"}],\"barpolar\":[{\"marker\":{\"line\":{\"color\":\"#E5ECF6\",\"width\":0.5},\"pattern\":{\"fillmode\":\"overlay\",\"size\":10,\"solidity\":0.2}},\"type\":\"barpolar\"}],\"carpet\":[{\"aaxis\":{\"endlinecolor\":\"#2a3f5f\",\"gridcolor\":\"white\",\"linecolor\":\"white\",\"minorgridcolor\":\"white\",\"startlinecolor\":\"#2a3f5f\"},\"baxis\":{\"endlinecolor\":\"#2a3f5f\",\"gridcolor\":\"white\",\"linecolor\":\"white\",\"minorgridcolor\":\"white\",\"startlinecolor\":\"#2a3f5f\"},\"type\":\"carpet\"}],\"choropleth\":[{\"colorbar\":{\"outlinewidth\":0,\"ticks\":\"\"},\"type\":\"choropleth\"}],\"contour\":[{\"colorbar\":{\"outlinewidth\":0,\"ticks\":\"\"},\"colorscale\":[[0.0,\"#0d0887\"],[0.1111111111111111,\"#46039f\"],[0.2222222222222222,\"#7201a8\"],[0.3333333333333333,\"#9c179e\"],[0.4444444444444444,\"#bd3786\"],[0.5555555555555556,\"#d8576b\"],[0.6666666666666666,\"#ed7953\"],[0.7777777777777778,\"#fb9f3a\"],[0.8888888888888888,\"#fdca26\"],[1.0,\"#f0f921\"]],\"type\":\"contour\"}],\"contourcarpet\":[{\"colorbar\":{\"outlinewidth\":0,\"ticks\":\"\"},\"type\":\"contourcarpet\"}],\"heatmap\":[{\"colorbar\":{\"outlinewidth\":0,\"ticks\":\"\"},\"colorscale\":[[0.0,\"#0d0887\"],[0.1111111111111111,\"#46039f\"],[0.2222222222222222,\"#7201a8\"],[0.3333333333333333,\"#9c179e\"],[0.4444444444444444,\"#bd3786\"],[0.5555555555555556,\"#d8576b\"],[0.6666666666666666,\"#ed7953\"],[0.7777777777777778,\"#fb9f3a\"],[0.8888888888888888,\"#fdca26\"],[1.0,\"#f0f921\"]],\"type\":\"heatmap\"}],\"heatmapgl\":[{\"colorbar\":{\"outlinewidth\":0,\"ticks\":\"\"},\"colorscale\":[[0.0,\"#0d0887\"],[0.1111111111111111,\"#46039f\"],[0.2222222222222222,\"#7201a8\"],[0.3333333333333333,\"#9c179e\"],[0.4444444444444444,\"#bd3786\"],[0.5555555555555556,\"#d8576b\"],[0.6666666666666666,\"#ed7953\"],[0.7777777777777778,\"#fb9f3a\"],[0.8888888888888888,\"#fdca26\"],[1.0,\"#f0f921\"]],\"type\":\"heatmapgl\"}],\"histogram\":[{\"marker\":{\"pattern\":{\"fillmode\":\"overlay\",\"size\":10,\"solidity\":0.2}},\"type\":\"histogram\"}],\"histogram2d\":[{\"colorbar\":{\"outlinewidth\":0,\"ticks\":\"\"},\"colorscale\":[[0.0,\"#0d0887\"],[0.1111111111111111,\"#46039f\"],[0.2222222222222222,\"#7201a8\"],[0.3333333333333333,\"#9c179e\"],[0.4444444444444444,\"#bd3786\"],[0.5555555555555556,\"#d8576b\"],[0.6666666666666666,\"#ed7953\"],[0.7777777777777778,\"#fb9f3a\"],[0.8888888888888888,\"#fdca26\"],[1.0,\"#f0f921\"]],\"type\":\"histogram2d\"}],\"histogram2dcontour\":[{\"colorbar\":{\"outlinewidth\":0,\"ticks\":\"\"},\"colorscale\":[[0.0,\"#0d0887\"],[0.1111111111111111,\"#46039f\"],[0.2222222222222222,\"#7201a8\"],[0.3333333333333333,\"#9c179e\"],[0.4444444444444444,\"#bd3786\"],[0.5555555555555556,\"#d8576b\"],[0.6666666666666666,\"#ed7953\"],[0.7777777777777778,\"#fb9f3a\"],[0.8888888888888888,\"#fdca26\"],[1.0,\"#f0f921\"]],\"type\":\"histogram2dcontour\"}],\"mesh3d\":[{\"colorbar\":{\"outlinewidth\":0,\"ticks\":\"\"},\"type\":\"mesh3d\"}],\"parcoords\":[{\"line\":{\"colorbar\":{\"outlinewidth\":0,\"ticks\":\"\"}},\"type\":\"parcoords\"}],\"pie\":[{\"automargin\":true,\"type\":\"pie\"}],\"scatter\":[{\"marker\":{\"colorbar\":{\"outlinewidth\":0,\"ticks\":\"\"}},\"type\":\"scatter\"}],\"scatter3d\":[{\"line\":{\"colorbar\":{\"outlinewidth\":0,\"ticks\":\"\"}},\"marker\":{\"colorbar\":{\"outlinewidth\":0,\"ticks\":\"\"}},\"type\":\"scatter3d\"}],\"scattercarpet\":[{\"marker\":{\"colorbar\":{\"outlinewidth\":0,\"ticks\":\"\"}},\"type\":\"scattercarpet\"}],\"scattergeo\":[{\"marker\":{\"colorbar\":{\"outlinewidth\":0,\"ticks\":\"\"}},\"type\":\"scattergeo\"}],\"scattergl\":[{\"marker\":{\"colorbar\":{\"outlinewidth\":0,\"ticks\":\"\"}},\"type\":\"scattergl\"}],\"scattermapbox\":[{\"marker\":{\"colorbar\":{\"outlinewidth\":0,\"ticks\":\"\"}},\"type\":\"scattermapbox\"}],\"scatterpolar\":[{\"marker\":{\"colorbar\":{\"outlinewidth\":0,\"ticks\":\"\"}},\"type\":\"scatterpolar\"}],\"scatterpolargl\":[{\"marker\":{\"colorbar\":{\"outlinewidth\":0,\"ticks\":\"\"}},\"type\":\"scatterpolargl\"}],\"scatterternary\":[{\"marker\":{\"colorbar\":{\"outlinewidth\":0,\"ticks\":\"\"}},\"type\":\"scatterternary\"}],\"surface\":[{\"colorbar\":{\"outlinewidth\":0,\"ticks\":\"\"},\"colorscale\":[[0.0,\"#0d0887\"],[0.1111111111111111,\"#46039f\"],[0.2222222222222222,\"#7201a8\"],[0.3333333333333333,\"#9c179e\"],[0.4444444444444444,\"#bd3786\"],[0.5555555555555556,\"#d8576b\"],[0.6666666666666666,\"#ed7953\"],[0.7777777777777778,\"#fb9f3a\"],[0.8888888888888888,\"#fdca26\"],[1.0,\"#f0f921\"]],\"type\":\"surface\"}],\"table\":[{\"cells\":{\"fill\":{\"color\":\"#EBF0F8\"},\"line\":{\"color\":\"white\"}},\"header\":{\"fill\":{\"color\":\"#C8D4E3\"},\"line\":{\"color\":\"white\"}},\"type\":\"table\"}]},\"layout\":{\"annotationdefaults\":{\"arrowcolor\":\"#2a3f5f\",\"arrowhead\":0,\"arrowwidth\":1},\"autotypenumbers\":\"strict\",\"coloraxis\":{\"colorbar\":{\"outlinewidth\":0,\"ticks\":\"\"}},\"colorscale\":{\"diverging\":[[0,\"#8e0152\"],[0.1,\"#c51b7d\"],[0.2,\"#de77ae\"],[0.3,\"#f1b6da\"],[0.4,\"#fde0ef\"],[0.5,\"#f7f7f7\"],[0.6,\"#e6f5d0\"],[0.7,\"#b8e186\"],[0.8,\"#7fbc41\"],[0.9,\"#4d9221\"],[1,\"#276419\"]],\"sequential\":[[0.0,\"#0d0887\"],[0.1111111111111111,\"#46039f\"],[0.2222222222222222,\"#7201a8\"],[0.3333333333333333,\"#9c179e\"],[0.4444444444444444,\"#bd3786\"],[0.5555555555555556,\"#d8576b\"],[0.6666666666666666,\"#ed7953\"],[0.7777777777777778,\"#fb9f3a\"],[0.8888888888888888,\"#fdca26\"],[1.0,\"#f0f921\"]],\"sequentialminus\":[[0.0,\"#0d0887\"],[0.1111111111111111,\"#46039f\"],[0.2222222222222222,\"#7201a8\"],[0.3333333333333333,\"#9c179e\"],[0.4444444444444444,\"#bd3786\"],[0.5555555555555556,\"#d8576b\"],[0.6666666666666666,\"#ed7953\"],[0.7777777777777778,\"#fb9f3a\"],[0.8888888888888888,\"#fdca26\"],[1.0,\"#f0f921\"]]},\"colorway\":[\"#636efa\",\"#EF553B\",\"#00cc96\",\"#ab63fa\",\"#FFA15A\",\"#19d3f3\",\"#FF6692\",\"#B6E880\",\"#FF97FF\",\"#FECB52\"],\"font\":{\"color\":\"#2a3f5f\"},\"geo\":{\"bgcolor\":\"white\",\"lakecolor\":\"white\",\"landcolor\":\"#E5ECF6\",\"showlakes\":true,\"showland\":true,\"subunitcolor\":\"white\"},\"hoverlabel\":{\"align\":\"left\"},\"hovermode\":\"closest\",\"mapbox\":{\"style\":\"light\"},\"paper_bgcolor\":\"white\",\"plot_bgcolor\":\"#E5ECF6\",\"polar\":{\"angularaxis\":{\"gridcolor\":\"white\",\"linecolor\":\"white\",\"ticks\":\"\"},\"bgcolor\":\"#E5ECF6\",\"radialaxis\":{\"gridcolor\":\"white\",\"linecolor\":\"white\",\"ticks\":\"\"}},\"scene\":{\"xaxis\":{\"backgroundcolor\":\"#E5ECF6\",\"gridcolor\":\"white\",\"gridwidth\":2,\"linecolor\":\"white\",\"showbackground\":true,\"ticks\":\"\",\"zerolinecolor\":\"white\"},\"yaxis\":{\"backgroundcolor\":\"#E5ECF6\",\"gridcolor\":\"white\",\"gridwidth\":2,\"linecolor\":\"white\",\"showbackground\":true,\"ticks\":\"\",\"zerolinecolor\":\"white\"},\"zaxis\":{\"backgroundcolor\":\"#E5ECF6\",\"gridcolor\":\"white\",\"gridwidth\":2,\"linecolor\":\"white\",\"showbackground\":true,\"ticks\":\"\",\"zerolinecolor\":\"white\"}},\"shapedefaults\":{\"line\":{\"color\":\"#2a3f5f\"}},\"ternary\":{\"aaxis\":{\"gridcolor\":\"white\",\"linecolor\":\"white\",\"ticks\":\"\"},\"baxis\":{\"gridcolor\":\"white\",\"linecolor\":\"white\",\"ticks\":\"\"},\"bgcolor\":\"#E5ECF6\",\"caxis\":{\"gridcolor\":\"white\",\"linecolor\":\"white\",\"ticks\":\"\"}},\"title\":{\"x\":0.05},\"xaxis\":{\"automargin\":true,\"gridcolor\":\"white\",\"linecolor\":\"white\",\"ticks\":\"\",\"title\":{\"standoff\":15},\"zerolinecolor\":\"white\",\"zerolinewidth\":2},\"yaxis\":{\"automargin\":true,\"gridcolor\":\"white\",\"linecolor\":\"white\",\"ticks\":\"\",\"title\":{\"standoff\":15},\"zerolinecolor\":\"white\",\"zerolinewidth\":2}}}},                        {\"responsive\": true}                    ).then(function(){\n",
              "                            \n",
              "var gd = document.getElementById('ac971d36-ca70-473a-90f0-0e7e720da226');\n",
              "var x = new MutationObserver(function (mutations, observer) {{\n",
              "        var display = window.getComputedStyle(gd).display;\n",
              "        if (!display || display === 'none') {{\n",
              "            console.log([gd, 'removed!']);\n",
              "            Plotly.purge(gd);\n",
              "            observer.disconnect();\n",
              "        }}\n",
              "}});\n",
              "\n",
              "// Listen for the removal of the full notebook cells\n",
              "var notebookContainer = gd.closest('#notebook-container');\n",
              "if (notebookContainer) {{\n",
              "    x.observe(notebookContainer, {childList: true});\n",
              "}}\n",
              "\n",
              "// Listen for the clearing of the current output cell\n",
              "var outputEl = gd.closest('.output');\n",
              "if (outputEl) {{\n",
              "    x.observe(outputEl, {childList: true});\n",
              "}}\n",
              "\n",
              "                        })                };                });            </script>        </div>"
            ]
          },
          "metadata": {}
        }
      ]
    },
    {
      "cell_type": "markdown",
      "source": [
        "We are going to export the grouped dataframe and transfer this code to our streamlit app."
      ],
      "metadata": {
        "id": "X-xju-Hqkd7w"
      }
    },
    {
      "cell_type": "code",
      "source": [
        "# Lets export this dataset as a CSV to clean further later\n",
        "df2.to_csv(\"state_df.csv\")"
      ],
      "metadata": {
        "id": "vNrMCFQ6kh7F"
      },
      "execution_count": 24,
      "outputs": []
    },
    {
      "cell_type": "code",
      "source": [
        "from google.colab import files\n",
        "files.download(\"state_df.csv\")"
      ],
      "metadata": {
        "id": "eRGnkXy5k49s",
        "colab": {
          "base_uri": "https://localhost:8080/",
          "height": 17
        },
        "outputId": "7083ec44-2d55-4c38-c491-256bdad28e3a"
      },
      "execution_count": 25,
      "outputs": [
        {
          "output_type": "display_data",
          "data": {
            "text/plain": [
              "<IPython.core.display.Javascript object>"
            ],
            "application/javascript": [
              "\n",
              "    async function download(id, filename, size) {\n",
              "      if (!google.colab.kernel.accessAllowed) {\n",
              "        return;\n",
              "      }\n",
              "      const div = document.createElement('div');\n",
              "      const label = document.createElement('label');\n",
              "      label.textContent = `Downloading \"${filename}\": `;\n",
              "      div.appendChild(label);\n",
              "      const progress = document.createElement('progress');\n",
              "      progress.max = size;\n",
              "      div.appendChild(progress);\n",
              "      document.body.appendChild(div);\n",
              "\n",
              "      const buffers = [];\n",
              "      let downloaded = 0;\n",
              "\n",
              "      const channel = await google.colab.kernel.comms.open(id);\n",
              "      // Send a message to notify the kernel that we're ready.\n",
              "      channel.send({})\n",
              "\n",
              "      for await (const message of channel.messages) {\n",
              "        // Send a message to notify the kernel that we're ready.\n",
              "        channel.send({})\n",
              "        if (message.buffers) {\n",
              "          for (const buffer of message.buffers) {\n",
              "            buffers.push(buffer);\n",
              "            downloaded += buffer.byteLength;\n",
              "            progress.value = downloaded;\n",
              "          }\n",
              "        }\n",
              "      }\n",
              "      const blob = new Blob(buffers, {type: 'application/binary'});\n",
              "      const a = document.createElement('a');\n",
              "      a.href = window.URL.createObjectURL(blob);\n",
              "      a.download = filename;\n",
              "      div.appendChild(a);\n",
              "      a.click();\n",
              "      div.remove();\n",
              "    }\n",
              "  "
            ]
          },
          "metadata": {}
        },
        {
          "output_type": "display_data",
          "data": {
            "text/plain": [
              "<IPython.core.display.Javascript object>"
            ],
            "application/javascript": [
              "download(\"download_cf8dcd16-ebac-41c7-8305-87c19cb67161\", \"state_df.csv\", 3710)"
            ]
          },
          "metadata": {}
        }
      ]
    },
    {
      "cell_type": "code",
      "source": [
        "df2"
      ],
      "metadata": {
        "id": "_GvngUK3k90t",
        "colab": {
          "base_uri": "https://localhost:8080/",
          "height": 1000
        },
        "outputId": "ca8e5098-92e0-412e-9059-b743c89d442a"
      },
      "execution_count": 26,
      "outputs": [
        {
          "output_type": "execute_result",
          "data": {
            "text/plain": [
              "          UNITID  HIGHDEG  CONTROL  REGION      COSTT4_A  TUITIONFEE_IN  \\\n",
              "STABBR                                                                    \n",
              "AK      102650.5      3.5      1.5     8.0  20545.000000    8158.500000   \n",
              "AL      101625.0      3.0      1.0     5.0  20173.900000    9163.000000   \n",
              "AR      107460.0      2.0      1.0     5.0  19101.000000    7909.000000   \n",
              "AZ      312312.5      3.0      2.0     6.0  20497.119048    9813.500000   \n",
              "CA      122205.0      3.0      2.0     8.0  23096.142857   10612.333333   \n",
              "CO      127741.0      3.0      2.0     7.0  23911.000000    9335.000000   \n",
              "CT      129874.5      4.0      1.0     1.0  23925.500000   14643.000000   \n",
              "DC      131876.0      4.0      2.0     2.0  30268.000000   17038.000000   \n",
              "DE      131043.5      4.0      2.0     2.0  27291.000000   13897.500000   \n",
              "FL      262129.0      3.0      2.0     5.0  25098.000000   13716.000000   \n",
              "GA      140678.0      3.0      2.0     5.0  22171.000000    9802.000000   \n",
              "HI      141839.0      3.0      1.0     8.0  18862.000000    7584.000000   \n",
              "IA      153697.5      3.0      2.0     4.0  29674.250000   19001.000000   \n",
              "ID      142385.5      3.0      1.5     7.0  20463.750000    8062.500000   \n",
              "IL      146901.0      4.0      2.0     3.0  24377.750000   13295.000000   \n",
              "IN      151781.5      4.0      2.0     3.0  28443.250000   14992.500000   \n",
              "KS      155367.0      3.0      1.0     4.0  19634.500000    8509.500000   \n",
              "KY      157252.5      3.0      2.0     5.0  23937.300000   10107.250000   \n",
              "LA      160241.5      3.0      1.0     5.0  20636.000000    8770.000000   \n",
              "MA      166656.0      4.0      2.0     1.0  47630.000000   34350.000000   \n",
              "MD      163316.5      4.0      1.0     2.0  23925.000000   10055.000000   \n",
              "ME      161276.0      3.0      1.5     1.0  23288.000000   12615.000000   \n",
              "MI      170967.0      3.0      2.0     3.0  22852.000000   12860.000000   \n",
              "MN      174367.0      3.0      1.0     4.0  20539.000000    9310.000000   \n",
              "MO      178448.0      4.0      2.0     4.0  24582.000000   12600.000000   \n",
              "MS      176026.0      3.0      1.0     5.0  18147.500000    7018.000000   \n",
              "MT      180302.0      2.5      1.0     7.0  15005.000000    4663.000000   \n",
              "NC      199111.0      3.0      1.0     5.0  18289.000000    6534.000000   \n",
              "ND      200266.5      3.5      1.0     4.0  16803.500000    6213.500000   \n",
              "NE      181423.5      4.0      2.0     4.0  24104.000000   12303.000000   \n",
              "NH      183105.0      3.0      1.0     1.0  33111.000000   15685.000000   \n",
              "NJ      186389.5      3.0      2.0     2.0  24997.250000   12722.500000   \n",
              "NM      188039.5      2.0      1.0     6.0  14434.500000    4429.000000   \n",
              "NV      445230.0      3.0      2.0     8.0  22731.000000   14202.000000   \n",
              "NY      194617.5      4.0      2.0     2.0  25543.000000   13479.500000   \n",
              "OH      204194.0      3.0      2.0     3.0  25528.500000   13392.000000   \n",
              "OK      207403.0      4.0      1.0     6.0  20680.000000    7753.000000   \n",
              "OR      209776.5      4.0      2.0     8.0  23635.000000   10561.500000   \n",
              "PA      214693.5      4.0      2.0     2.0  32709.264706   18765.000000   \n",
              "RI      217479.5      4.0      2.0     1.0  46017.000000   32122.000000   \n",
              "SC      218464.0      3.0      1.5     5.0  25955.500000   12659.000000   \n",
              "SD      219286.0      4.0      1.0     4.0  21675.250000    9223.000000   \n",
              "TN      221351.0      4.0      2.0     5.0  26450.000000   14818.000000   \n",
              "TX      228468.0      3.0      2.0     6.0  20574.800000    9136.000000   \n",
              "UT      305622.5      3.0      2.0     7.0  22116.500000   12281.500000   \n",
              "VA      233391.0      3.0      2.0     5.0  26880.500000   13845.500000   \n",
              "VT      230995.0      4.0      2.0     1.0  40231.000000   27156.000000   \n",
              "WA      236586.0      3.0      1.0     8.0  17143.750000    6994.833333   \n",
              "WI      239743.0      4.0      2.0     3.0  23049.500000   10935.000000   \n",
              "WV      237932.0      3.0      1.0     5.0  19118.000000    8237.000000   \n",
              "WY      240638.5      2.0      1.0     7.0  12424.000000    4185.000000   \n",
              "\n",
              "        TUITIONFEE_OUT  TUITFTE  INEXPFTE  AVGFACSAL  \n",
              "STABBR                                                \n",
              "AK        18864.500000   7899.5   13054.5     7432.5  \n",
              "AL        13530.500000   7800.5    6210.0     6613.5  \n",
              "AR        11032.000000   4061.0    6785.0     5268.0  \n",
              "AZ        13028.000000   9286.0    5207.5     6383.0  \n",
              "CA        14040.000000  10466.0    6755.0     8456.0  \n",
              "CO        15350.000000  10806.0    6182.0     6340.0  \n",
              "CT        24606.000000  11034.0   10062.5     9008.5  \n",
              "DC        17038.000000  15127.0   15932.0     8820.0  \n",
              "DE        21037.000000  12495.0    7566.5     7431.5  \n",
              "FL        14814.000000  10973.0    5131.0     5715.0  \n",
              "GA        13924.333333   8353.0    5449.0     5445.0  \n",
              "HI         9552.000000   5465.0   12904.0     8569.0  \n",
              "IA        21787.000000  10572.0    8231.0     6593.0  \n",
              "ID        13867.500000   9001.5    7575.0     6135.0  \n",
              "IL        16490.000000  11694.5    8709.0     7597.5  \n",
              "IN        20233.333333  12427.5    8031.5     6697.5  \n",
              "KS        14627.500000   6396.5    6176.5     5639.5  \n",
              "KY        14888.000000   8347.0    5539.5     5825.5  \n",
              "LA        14172.500000   8424.5    5051.0     5781.5  \n",
              "MA        35075.000000  17149.0   10433.0     8598.0  \n",
              "MD        16920.500000   8468.5    9632.0     7641.5  \n",
              "ME        20782.000000  11705.0    8820.0     6918.0  \n",
              "MI        15900.000000  11168.0    8220.0     7931.0  \n",
              "MN        12133.000000   6307.0    7848.5     7824.0  \n",
              "MO        14898.000000   9882.0    6882.0     6372.0  \n",
              "MS         7339.000000   3320.0    5866.0     5690.0  \n",
              "MT        10946.500000   4506.0    8207.5     5784.5  \n",
              "NC         9695.000000   6171.0    7112.0     5586.0  \n",
              "ND         7254.500000   5991.5    8718.0     6248.5  \n",
              "NE        15642.000000   8185.0    8189.5     6502.5  \n",
              "NH        23330.000000  10467.0    7700.0     7230.0  \n",
              "NJ        13257.500000  11072.5    6920.0     7163.0  \n",
              "NM         6537.000000   3547.5    7038.5     6199.5  \n",
              "NV        16213.500000   8336.0    5901.0     8043.0  \n",
              "NY        17623.000000  11958.5   10500.5     7258.0  \n",
              "OH        16549.000000  10828.0    7012.0     6686.0  \n",
              "OK        15315.000000   6323.0    6871.0     5572.0  \n",
              "OR        19390.000000  11906.0    8316.5     7284.5  \n",
              "PA        23715.000000  13172.5    8460.5     7216.5  \n",
              "RI        32545.000000  18598.5   11100.5     9834.0  \n",
              "SC        18238.000000  10078.0    6882.0     5808.0  \n",
              "SD        12597.500000   7826.5    6736.5     6430.5  \n",
              "TN        18400.000000  10789.0    6767.0     5993.0  \n",
              "TX        14220.000000   8239.0    5791.0     6462.0  \n",
              "UT        14585.000000  10340.0    5699.5     6996.5  \n",
              "VA        17014.000000  11751.0    8008.5     6832.0  \n",
              "VT        33804.000000  17571.0   14416.0     6843.5  \n",
              "WA         9987.250000   6231.5    7202.0     7399.5  \n",
              "WI        16416.000000   9728.0    9408.0     7461.0  \n",
              "WV        13533.000000   6548.0    5180.0     5667.0  \n",
              "WY        10125.000000   3055.5    8469.5     6745.0  "
            ],
            "text/html": [
              "\n",
              "  <div id=\"df-04a59dc8-1b97-4d13-8eee-420a5cb67d44\">\n",
              "    <div class=\"colab-df-container\">\n",
              "      <div>\n",
              "<style scoped>\n",
              "    .dataframe tbody tr th:only-of-type {\n",
              "        vertical-align: middle;\n",
              "    }\n",
              "\n",
              "    .dataframe tbody tr th {\n",
              "        vertical-align: top;\n",
              "    }\n",
              "\n",
              "    .dataframe thead th {\n",
              "        text-align: right;\n",
              "    }\n",
              "</style>\n",
              "<table border=\"1\" class=\"dataframe\">\n",
              "  <thead>\n",
              "    <tr style=\"text-align: right;\">\n",
              "      <th></th>\n",
              "      <th>UNITID</th>\n",
              "      <th>HIGHDEG</th>\n",
              "      <th>CONTROL</th>\n",
              "      <th>REGION</th>\n",
              "      <th>COSTT4_A</th>\n",
              "      <th>TUITIONFEE_IN</th>\n",
              "      <th>TUITIONFEE_OUT</th>\n",
              "      <th>TUITFTE</th>\n",
              "      <th>INEXPFTE</th>\n",
              "      <th>AVGFACSAL</th>\n",
              "    </tr>\n",
              "    <tr>\n",
              "      <th>STABBR</th>\n",
              "      <th></th>\n",
              "      <th></th>\n",
              "      <th></th>\n",
              "      <th></th>\n",
              "      <th></th>\n",
              "      <th></th>\n",
              "      <th></th>\n",
              "      <th></th>\n",
              "      <th></th>\n",
              "      <th></th>\n",
              "    </tr>\n",
              "  </thead>\n",
              "  <tbody>\n",
              "    <tr>\n",
              "      <th>AK</th>\n",
              "      <td>102650.5</td>\n",
              "      <td>3.5</td>\n",
              "      <td>1.5</td>\n",
              "      <td>8.0</td>\n",
              "      <td>20545.000000</td>\n",
              "      <td>8158.500000</td>\n",
              "      <td>18864.500000</td>\n",
              "      <td>7899.5</td>\n",
              "      <td>13054.5</td>\n",
              "      <td>7432.5</td>\n",
              "    </tr>\n",
              "    <tr>\n",
              "      <th>AL</th>\n",
              "      <td>101625.0</td>\n",
              "      <td>3.0</td>\n",
              "      <td>1.0</td>\n",
              "      <td>5.0</td>\n",
              "      <td>20173.900000</td>\n",
              "      <td>9163.000000</td>\n",
              "      <td>13530.500000</td>\n",
              "      <td>7800.5</td>\n",
              "      <td>6210.0</td>\n",
              "      <td>6613.5</td>\n",
              "    </tr>\n",
              "    <tr>\n",
              "      <th>AR</th>\n",
              "      <td>107460.0</td>\n",
              "      <td>2.0</td>\n",
              "      <td>1.0</td>\n",
              "      <td>5.0</td>\n",
              "      <td>19101.000000</td>\n",
              "      <td>7909.000000</td>\n",
              "      <td>11032.000000</td>\n",
              "      <td>4061.0</td>\n",
              "      <td>6785.0</td>\n",
              "      <td>5268.0</td>\n",
              "    </tr>\n",
              "    <tr>\n",
              "      <th>AZ</th>\n",
              "      <td>312312.5</td>\n",
              "      <td>3.0</td>\n",
              "      <td>2.0</td>\n",
              "      <td>6.0</td>\n",
              "      <td>20497.119048</td>\n",
              "      <td>9813.500000</td>\n",
              "      <td>13028.000000</td>\n",
              "      <td>9286.0</td>\n",
              "      <td>5207.5</td>\n",
              "      <td>6383.0</td>\n",
              "    </tr>\n",
              "    <tr>\n",
              "      <th>CA</th>\n",
              "      <td>122205.0</td>\n",
              "      <td>3.0</td>\n",
              "      <td>2.0</td>\n",
              "      <td>8.0</td>\n",
              "      <td>23096.142857</td>\n",
              "      <td>10612.333333</td>\n",
              "      <td>14040.000000</td>\n",
              "      <td>10466.0</td>\n",
              "      <td>6755.0</td>\n",
              "      <td>8456.0</td>\n",
              "    </tr>\n",
              "    <tr>\n",
              "      <th>CO</th>\n",
              "      <td>127741.0</td>\n",
              "      <td>3.0</td>\n",
              "      <td>2.0</td>\n",
              "      <td>7.0</td>\n",
              "      <td>23911.000000</td>\n",
              "      <td>9335.000000</td>\n",
              "      <td>15350.000000</td>\n",
              "      <td>10806.0</td>\n",
              "      <td>6182.0</td>\n",
              "      <td>6340.0</td>\n",
              "    </tr>\n",
              "    <tr>\n",
              "      <th>CT</th>\n",
              "      <td>129874.5</td>\n",
              "      <td>4.0</td>\n",
              "      <td>1.0</td>\n",
              "      <td>1.0</td>\n",
              "      <td>23925.500000</td>\n",
              "      <td>14643.000000</td>\n",
              "      <td>24606.000000</td>\n",
              "      <td>11034.0</td>\n",
              "      <td>10062.5</td>\n",
              "      <td>9008.5</td>\n",
              "    </tr>\n",
              "    <tr>\n",
              "      <th>DC</th>\n",
              "      <td>131876.0</td>\n",
              "      <td>4.0</td>\n",
              "      <td>2.0</td>\n",
              "      <td>2.0</td>\n",
              "      <td>30268.000000</td>\n",
              "      <td>17038.000000</td>\n",
              "      <td>17038.000000</td>\n",
              "      <td>15127.0</td>\n",
              "      <td>15932.0</td>\n",
              "      <td>8820.0</td>\n",
              "    </tr>\n",
              "    <tr>\n",
              "      <th>DE</th>\n",
              "      <td>131043.5</td>\n",
              "      <td>4.0</td>\n",
              "      <td>2.0</td>\n",
              "      <td>2.0</td>\n",
              "      <td>27291.000000</td>\n",
              "      <td>13897.500000</td>\n",
              "      <td>21037.000000</td>\n",
              "      <td>12495.0</td>\n",
              "      <td>7566.5</td>\n",
              "      <td>7431.5</td>\n",
              "    </tr>\n",
              "    <tr>\n",
              "      <th>FL</th>\n",
              "      <td>262129.0</td>\n",
              "      <td>3.0</td>\n",
              "      <td>2.0</td>\n",
              "      <td>5.0</td>\n",
              "      <td>25098.000000</td>\n",
              "      <td>13716.000000</td>\n",
              "      <td>14814.000000</td>\n",
              "      <td>10973.0</td>\n",
              "      <td>5131.0</td>\n",
              "      <td>5715.0</td>\n",
              "    </tr>\n",
              "    <tr>\n",
              "      <th>GA</th>\n",
              "      <td>140678.0</td>\n",
              "      <td>3.0</td>\n",
              "      <td>2.0</td>\n",
              "      <td>5.0</td>\n",
              "      <td>22171.000000</td>\n",
              "      <td>9802.000000</td>\n",
              "      <td>13924.333333</td>\n",
              "      <td>8353.0</td>\n",
              "      <td>5449.0</td>\n",
              "      <td>5445.0</td>\n",
              "    </tr>\n",
              "    <tr>\n",
              "      <th>HI</th>\n",
              "      <td>141839.0</td>\n",
              "      <td>3.0</td>\n",
              "      <td>1.0</td>\n",
              "      <td>8.0</td>\n",
              "      <td>18862.000000</td>\n",
              "      <td>7584.000000</td>\n",
              "      <td>9552.000000</td>\n",
              "      <td>5465.0</td>\n",
              "      <td>12904.0</td>\n",
              "      <td>8569.0</td>\n",
              "    </tr>\n",
              "    <tr>\n",
              "      <th>IA</th>\n",
              "      <td>153697.5</td>\n",
              "      <td>3.0</td>\n",
              "      <td>2.0</td>\n",
              "      <td>4.0</td>\n",
              "      <td>29674.250000</td>\n",
              "      <td>19001.000000</td>\n",
              "      <td>21787.000000</td>\n",
              "      <td>10572.0</td>\n",
              "      <td>8231.0</td>\n",
              "      <td>6593.0</td>\n",
              "    </tr>\n",
              "    <tr>\n",
              "      <th>ID</th>\n",
              "      <td>142385.5</td>\n",
              "      <td>3.0</td>\n",
              "      <td>1.5</td>\n",
              "      <td>7.0</td>\n",
              "      <td>20463.750000</td>\n",
              "      <td>8062.500000</td>\n",
              "      <td>13867.500000</td>\n",
              "      <td>9001.5</td>\n",
              "      <td>7575.0</td>\n",
              "      <td>6135.0</td>\n",
              "    </tr>\n",
              "    <tr>\n",
              "      <th>IL</th>\n",
              "      <td>146901.0</td>\n",
              "      <td>4.0</td>\n",
              "      <td>2.0</td>\n",
              "      <td>3.0</td>\n",
              "      <td>24377.750000</td>\n",
              "      <td>13295.000000</td>\n",
              "      <td>16490.000000</td>\n",
              "      <td>11694.5</td>\n",
              "      <td>8709.0</td>\n",
              "      <td>7597.5</td>\n",
              "    </tr>\n",
              "    <tr>\n",
              "      <th>IN</th>\n",
              "      <td>151781.5</td>\n",
              "      <td>4.0</td>\n",
              "      <td>2.0</td>\n",
              "      <td>3.0</td>\n",
              "      <td>28443.250000</td>\n",
              "      <td>14992.500000</td>\n",
              "      <td>20233.333333</td>\n",
              "      <td>12427.5</td>\n",
              "      <td>8031.5</td>\n",
              "      <td>6697.5</td>\n",
              "    </tr>\n",
              "    <tr>\n",
              "      <th>KS</th>\n",
              "      <td>155367.0</td>\n",
              "      <td>3.0</td>\n",
              "      <td>1.0</td>\n",
              "      <td>4.0</td>\n",
              "      <td>19634.500000</td>\n",
              "      <td>8509.500000</td>\n",
              "      <td>14627.500000</td>\n",
              "      <td>6396.5</td>\n",
              "      <td>6176.5</td>\n",
              "      <td>5639.5</td>\n",
              "    </tr>\n",
              "    <tr>\n",
              "      <th>KY</th>\n",
              "      <td>157252.5</td>\n",
              "      <td>3.0</td>\n",
              "      <td>2.0</td>\n",
              "      <td>5.0</td>\n",
              "      <td>23937.300000</td>\n",
              "      <td>10107.250000</td>\n",
              "      <td>14888.000000</td>\n",
              "      <td>8347.0</td>\n",
              "      <td>5539.5</td>\n",
              "      <td>5825.5</td>\n",
              "    </tr>\n",
              "    <tr>\n",
              "      <th>LA</th>\n",
              "      <td>160241.5</td>\n",
              "      <td>3.0</td>\n",
              "      <td>1.0</td>\n",
              "      <td>5.0</td>\n",
              "      <td>20636.000000</td>\n",
              "      <td>8770.000000</td>\n",
              "      <td>14172.500000</td>\n",
              "      <td>8424.5</td>\n",
              "      <td>5051.0</td>\n",
              "      <td>5781.5</td>\n",
              "    </tr>\n",
              "    <tr>\n",
              "      <th>MA</th>\n",
              "      <td>166656.0</td>\n",
              "      <td>4.0</td>\n",
              "      <td>2.0</td>\n",
              "      <td>1.0</td>\n",
              "      <td>47630.000000</td>\n",
              "      <td>34350.000000</td>\n",
              "      <td>35075.000000</td>\n",
              "      <td>17149.0</td>\n",
              "      <td>10433.0</td>\n",
              "      <td>8598.0</td>\n",
              "    </tr>\n",
              "    <tr>\n",
              "      <th>MD</th>\n",
              "      <td>163316.5</td>\n",
              "      <td>4.0</td>\n",
              "      <td>1.0</td>\n",
              "      <td>2.0</td>\n",
              "      <td>23925.000000</td>\n",
              "      <td>10055.000000</td>\n",
              "      <td>16920.500000</td>\n",
              "      <td>8468.5</td>\n",
              "      <td>9632.0</td>\n",
              "      <td>7641.5</td>\n",
              "    </tr>\n",
              "    <tr>\n",
              "      <th>ME</th>\n",
              "      <td>161276.0</td>\n",
              "      <td>3.0</td>\n",
              "      <td>1.5</td>\n",
              "      <td>1.0</td>\n",
              "      <td>23288.000000</td>\n",
              "      <td>12615.000000</td>\n",
              "      <td>20782.000000</td>\n",
              "      <td>11705.0</td>\n",
              "      <td>8820.0</td>\n",
              "      <td>6918.0</td>\n",
              "    </tr>\n",
              "    <tr>\n",
              "      <th>MI</th>\n",
              "      <td>170967.0</td>\n",
              "      <td>3.0</td>\n",
              "      <td>2.0</td>\n",
              "      <td>3.0</td>\n",
              "      <td>22852.000000</td>\n",
              "      <td>12860.000000</td>\n",
              "      <td>15900.000000</td>\n",
              "      <td>11168.0</td>\n",
              "      <td>8220.0</td>\n",
              "      <td>7931.0</td>\n",
              "    </tr>\n",
              "    <tr>\n",
              "      <th>MN</th>\n",
              "      <td>174367.0</td>\n",
              "      <td>3.0</td>\n",
              "      <td>1.0</td>\n",
              "      <td>4.0</td>\n",
              "      <td>20539.000000</td>\n",
              "      <td>9310.000000</td>\n",
              "      <td>12133.000000</td>\n",
              "      <td>6307.0</td>\n",
              "      <td>7848.5</td>\n",
              "      <td>7824.0</td>\n",
              "    </tr>\n",
              "    <tr>\n",
              "      <th>MO</th>\n",
              "      <td>178448.0</td>\n",
              "      <td>4.0</td>\n",
              "      <td>2.0</td>\n",
              "      <td>4.0</td>\n",
              "      <td>24582.000000</td>\n",
              "      <td>12600.000000</td>\n",
              "      <td>14898.000000</td>\n",
              "      <td>9882.0</td>\n",
              "      <td>6882.0</td>\n",
              "      <td>6372.0</td>\n",
              "    </tr>\n",
              "    <tr>\n",
              "      <th>MS</th>\n",
              "      <td>176026.0</td>\n",
              "      <td>3.0</td>\n",
              "      <td>1.0</td>\n",
              "      <td>5.0</td>\n",
              "      <td>18147.500000</td>\n",
              "      <td>7018.000000</td>\n",
              "      <td>7339.000000</td>\n",
              "      <td>3320.0</td>\n",
              "      <td>5866.0</td>\n",
              "      <td>5690.0</td>\n",
              "    </tr>\n",
              "    <tr>\n",
              "      <th>MT</th>\n",
              "      <td>180302.0</td>\n",
              "      <td>2.5</td>\n",
              "      <td>1.0</td>\n",
              "      <td>7.0</td>\n",
              "      <td>15005.000000</td>\n",
              "      <td>4663.000000</td>\n",
              "      <td>10946.500000</td>\n",
              "      <td>4506.0</td>\n",
              "      <td>8207.5</td>\n",
              "      <td>5784.5</td>\n",
              "    </tr>\n",
              "    <tr>\n",
              "      <th>NC</th>\n",
              "      <td>199111.0</td>\n",
              "      <td>3.0</td>\n",
              "      <td>1.0</td>\n",
              "      <td>5.0</td>\n",
              "      <td>18289.000000</td>\n",
              "      <td>6534.000000</td>\n",
              "      <td>9695.000000</td>\n",
              "      <td>6171.0</td>\n",
              "      <td>7112.0</td>\n",
              "      <td>5586.0</td>\n",
              "    </tr>\n",
              "    <tr>\n",
              "      <th>ND</th>\n",
              "      <td>200266.5</td>\n",
              "      <td>3.5</td>\n",
              "      <td>1.0</td>\n",
              "      <td>4.0</td>\n",
              "      <td>16803.500000</td>\n",
              "      <td>6213.500000</td>\n",
              "      <td>7254.500000</td>\n",
              "      <td>5991.5</td>\n",
              "      <td>8718.0</td>\n",
              "      <td>6248.5</td>\n",
              "    </tr>\n",
              "    <tr>\n",
              "      <th>NE</th>\n",
              "      <td>181423.5</td>\n",
              "      <td>4.0</td>\n",
              "      <td>2.0</td>\n",
              "      <td>4.0</td>\n",
              "      <td>24104.000000</td>\n",
              "      <td>12303.000000</td>\n",
              "      <td>15642.000000</td>\n",
              "      <td>8185.0</td>\n",
              "      <td>8189.5</td>\n",
              "      <td>6502.5</td>\n",
              "    </tr>\n",
              "    <tr>\n",
              "      <th>NH</th>\n",
              "      <td>183105.0</td>\n",
              "      <td>3.0</td>\n",
              "      <td>1.0</td>\n",
              "      <td>1.0</td>\n",
              "      <td>33111.000000</td>\n",
              "      <td>15685.000000</td>\n",
              "      <td>23330.000000</td>\n",
              "      <td>10467.0</td>\n",
              "      <td>7700.0</td>\n",
              "      <td>7230.0</td>\n",
              "    </tr>\n",
              "    <tr>\n",
              "      <th>NJ</th>\n",
              "      <td>186389.5</td>\n",
              "      <td>3.0</td>\n",
              "      <td>2.0</td>\n",
              "      <td>2.0</td>\n",
              "      <td>24997.250000</td>\n",
              "      <td>12722.500000</td>\n",
              "      <td>13257.500000</td>\n",
              "      <td>11072.5</td>\n",
              "      <td>6920.0</td>\n",
              "      <td>7163.0</td>\n",
              "    </tr>\n",
              "    <tr>\n",
              "      <th>NM</th>\n",
              "      <td>188039.5</td>\n",
              "      <td>2.0</td>\n",
              "      <td>1.0</td>\n",
              "      <td>6.0</td>\n",
              "      <td>14434.500000</td>\n",
              "      <td>4429.000000</td>\n",
              "      <td>6537.000000</td>\n",
              "      <td>3547.5</td>\n",
              "      <td>7038.5</td>\n",
              "      <td>6199.5</td>\n",
              "    </tr>\n",
              "    <tr>\n",
              "      <th>NV</th>\n",
              "      <td>445230.0</td>\n",
              "      <td>3.0</td>\n",
              "      <td>2.0</td>\n",
              "      <td>8.0</td>\n",
              "      <td>22731.000000</td>\n",
              "      <td>14202.000000</td>\n",
              "      <td>16213.500000</td>\n",
              "      <td>8336.0</td>\n",
              "      <td>5901.0</td>\n",
              "      <td>8043.0</td>\n",
              "    </tr>\n",
              "    <tr>\n",
              "      <th>NY</th>\n",
              "      <td>194617.5</td>\n",
              "      <td>4.0</td>\n",
              "      <td>2.0</td>\n",
              "      <td>2.0</td>\n",
              "      <td>25543.000000</td>\n",
              "      <td>13479.500000</td>\n",
              "      <td>17623.000000</td>\n",
              "      <td>11958.5</td>\n",
              "      <td>10500.5</td>\n",
              "      <td>7258.0</td>\n",
              "    </tr>\n",
              "    <tr>\n",
              "      <th>OH</th>\n",
              "      <td>204194.0</td>\n",
              "      <td>3.0</td>\n",
              "      <td>2.0</td>\n",
              "      <td>3.0</td>\n",
              "      <td>25528.500000</td>\n",
              "      <td>13392.000000</td>\n",
              "      <td>16549.000000</td>\n",
              "      <td>10828.0</td>\n",
              "      <td>7012.0</td>\n",
              "      <td>6686.0</td>\n",
              "    </tr>\n",
              "    <tr>\n",
              "      <th>OK</th>\n",
              "      <td>207403.0</td>\n",
              "      <td>4.0</td>\n",
              "      <td>1.0</td>\n",
              "      <td>6.0</td>\n",
              "      <td>20680.000000</td>\n",
              "      <td>7753.000000</td>\n",
              "      <td>15315.000000</td>\n",
              "      <td>6323.0</td>\n",
              "      <td>6871.0</td>\n",
              "      <td>5572.0</td>\n",
              "    </tr>\n",
              "    <tr>\n",
              "      <th>OR</th>\n",
              "      <td>209776.5</td>\n",
              "      <td>4.0</td>\n",
              "      <td>2.0</td>\n",
              "      <td>8.0</td>\n",
              "      <td>23635.000000</td>\n",
              "      <td>10561.500000</td>\n",
              "      <td>19390.000000</td>\n",
              "      <td>11906.0</td>\n",
              "      <td>8316.5</td>\n",
              "      <td>7284.5</td>\n",
              "    </tr>\n",
              "    <tr>\n",
              "      <th>PA</th>\n",
              "      <td>214693.5</td>\n",
              "      <td>4.0</td>\n",
              "      <td>2.0</td>\n",
              "      <td>2.0</td>\n",
              "      <td>32709.264706</td>\n",
              "      <td>18765.000000</td>\n",
              "      <td>23715.000000</td>\n",
              "      <td>13172.5</td>\n",
              "      <td>8460.5</td>\n",
              "      <td>7216.5</td>\n",
              "    </tr>\n",
              "    <tr>\n",
              "      <th>RI</th>\n",
              "      <td>217479.5</td>\n",
              "      <td>4.0</td>\n",
              "      <td>2.0</td>\n",
              "      <td>1.0</td>\n",
              "      <td>46017.000000</td>\n",
              "      <td>32122.000000</td>\n",
              "      <td>32545.000000</td>\n",
              "      <td>18598.5</td>\n",
              "      <td>11100.5</td>\n",
              "      <td>9834.0</td>\n",
              "    </tr>\n",
              "    <tr>\n",
              "      <th>SC</th>\n",
              "      <td>218464.0</td>\n",
              "      <td>3.0</td>\n",
              "      <td>1.5</td>\n",
              "      <td>5.0</td>\n",
              "      <td>25955.500000</td>\n",
              "      <td>12659.000000</td>\n",
              "      <td>18238.000000</td>\n",
              "      <td>10078.0</td>\n",
              "      <td>6882.0</td>\n",
              "      <td>5808.0</td>\n",
              "    </tr>\n",
              "    <tr>\n",
              "      <th>SD</th>\n",
              "      <td>219286.0</td>\n",
              "      <td>4.0</td>\n",
              "      <td>1.0</td>\n",
              "      <td>4.0</td>\n",
              "      <td>21675.250000</td>\n",
              "      <td>9223.000000</td>\n",
              "      <td>12597.500000</td>\n",
              "      <td>7826.5</td>\n",
              "      <td>6736.5</td>\n",
              "      <td>6430.5</td>\n",
              "    </tr>\n",
              "    <tr>\n",
              "      <th>TN</th>\n",
              "      <td>221351.0</td>\n",
              "      <td>4.0</td>\n",
              "      <td>2.0</td>\n",
              "      <td>5.0</td>\n",
              "      <td>26450.000000</td>\n",
              "      <td>14818.000000</td>\n",
              "      <td>18400.000000</td>\n",
              "      <td>10789.0</td>\n",
              "      <td>6767.0</td>\n",
              "      <td>5993.0</td>\n",
              "    </tr>\n",
              "    <tr>\n",
              "      <th>TX</th>\n",
              "      <td>228468.0</td>\n",
              "      <td>3.0</td>\n",
              "      <td>2.0</td>\n",
              "      <td>6.0</td>\n",
              "      <td>20574.800000</td>\n",
              "      <td>9136.000000</td>\n",
              "      <td>14220.000000</td>\n",
              "      <td>8239.0</td>\n",
              "      <td>5791.0</td>\n",
              "      <td>6462.0</td>\n",
              "    </tr>\n",
              "    <tr>\n",
              "      <th>UT</th>\n",
              "      <td>305622.5</td>\n",
              "      <td>3.0</td>\n",
              "      <td>2.0</td>\n",
              "      <td>7.0</td>\n",
              "      <td>22116.500000</td>\n",
              "      <td>12281.500000</td>\n",
              "      <td>14585.000000</td>\n",
              "      <td>10340.0</td>\n",
              "      <td>5699.5</td>\n",
              "      <td>6996.5</td>\n",
              "    </tr>\n",
              "    <tr>\n",
              "      <th>VA</th>\n",
              "      <td>233391.0</td>\n",
              "      <td>3.0</td>\n",
              "      <td>2.0</td>\n",
              "      <td>5.0</td>\n",
              "      <td>26880.500000</td>\n",
              "      <td>13845.500000</td>\n",
              "      <td>17014.000000</td>\n",
              "      <td>11751.0</td>\n",
              "      <td>8008.5</td>\n",
              "      <td>6832.0</td>\n",
              "    </tr>\n",
              "    <tr>\n",
              "      <th>VT</th>\n",
              "      <td>230995.0</td>\n",
              "      <td>4.0</td>\n",
              "      <td>2.0</td>\n",
              "      <td>1.0</td>\n",
              "      <td>40231.000000</td>\n",
              "      <td>27156.000000</td>\n",
              "      <td>33804.000000</td>\n",
              "      <td>17571.0</td>\n",
              "      <td>14416.0</td>\n",
              "      <td>6843.5</td>\n",
              "    </tr>\n",
              "    <tr>\n",
              "      <th>WA</th>\n",
              "      <td>236586.0</td>\n",
              "      <td>3.0</td>\n",
              "      <td>1.0</td>\n",
              "      <td>8.0</td>\n",
              "      <td>17143.750000</td>\n",
              "      <td>6994.833333</td>\n",
              "      <td>9987.250000</td>\n",
              "      <td>6231.5</td>\n",
              "      <td>7202.0</td>\n",
              "      <td>7399.5</td>\n",
              "    </tr>\n",
              "    <tr>\n",
              "      <th>WI</th>\n",
              "      <td>239743.0</td>\n",
              "      <td>4.0</td>\n",
              "      <td>2.0</td>\n",
              "      <td>3.0</td>\n",
              "      <td>23049.500000</td>\n",
              "      <td>10935.000000</td>\n",
              "      <td>16416.000000</td>\n",
              "      <td>9728.0</td>\n",
              "      <td>9408.0</td>\n",
              "      <td>7461.0</td>\n",
              "    </tr>\n",
              "    <tr>\n",
              "      <th>WV</th>\n",
              "      <td>237932.0</td>\n",
              "      <td>3.0</td>\n",
              "      <td>1.0</td>\n",
              "      <td>5.0</td>\n",
              "      <td>19118.000000</td>\n",
              "      <td>8237.000000</td>\n",
              "      <td>13533.000000</td>\n",
              "      <td>6548.0</td>\n",
              "      <td>5180.0</td>\n",
              "      <td>5667.0</td>\n",
              "    </tr>\n",
              "    <tr>\n",
              "      <th>WY</th>\n",
              "      <td>240638.5</td>\n",
              "      <td>2.0</td>\n",
              "      <td>1.0</td>\n",
              "      <td>7.0</td>\n",
              "      <td>12424.000000</td>\n",
              "      <td>4185.000000</td>\n",
              "      <td>10125.000000</td>\n",
              "      <td>3055.5</td>\n",
              "      <td>8469.5</td>\n",
              "      <td>6745.0</td>\n",
              "    </tr>\n",
              "  </tbody>\n",
              "</table>\n",
              "</div>\n",
              "      <button class=\"colab-df-convert\" onclick=\"convertToInteractive('df-04a59dc8-1b97-4d13-8eee-420a5cb67d44')\"\n",
              "              title=\"Convert this dataframe to an interactive table.\"\n",
              "              style=\"display:none;\">\n",
              "        \n",
              "  <svg xmlns=\"http://www.w3.org/2000/svg\" height=\"24px\"viewBox=\"0 0 24 24\"\n",
              "       width=\"24px\">\n",
              "    <path d=\"M0 0h24v24H0V0z\" fill=\"none\"/>\n",
              "    <path d=\"M18.56 5.44l.94 2.06.94-2.06 2.06-.94-2.06-.94-.94-2.06-.94 2.06-2.06.94zm-11 1L8.5 8.5l.94-2.06 2.06-.94-2.06-.94L8.5 2.5l-.94 2.06-2.06.94zm10 10l.94 2.06.94-2.06 2.06-.94-2.06-.94-.94-2.06-.94 2.06-2.06.94z\"/><path d=\"M17.41 7.96l-1.37-1.37c-.4-.4-.92-.59-1.43-.59-.52 0-1.04.2-1.43.59L10.3 9.45l-7.72 7.72c-.78.78-.78 2.05 0 2.83L4 21.41c.39.39.9.59 1.41.59.51 0 1.02-.2 1.41-.59l7.78-7.78 2.81-2.81c.8-.78.8-2.07 0-2.86zM5.41 20L4 18.59l7.72-7.72 1.47 1.35L5.41 20z\"/>\n",
              "  </svg>\n",
              "      </button>\n",
              "      \n",
              "  <style>\n",
              "    .colab-df-container {\n",
              "      display:flex;\n",
              "      flex-wrap:wrap;\n",
              "      gap: 12px;\n",
              "    }\n",
              "\n",
              "    .colab-df-convert {\n",
              "      background-color: #E8F0FE;\n",
              "      border: none;\n",
              "      border-radius: 50%;\n",
              "      cursor: pointer;\n",
              "      display: none;\n",
              "      fill: #1967D2;\n",
              "      height: 32px;\n",
              "      padding: 0 0 0 0;\n",
              "      width: 32px;\n",
              "    }\n",
              "\n",
              "    .colab-df-convert:hover {\n",
              "      background-color: #E2EBFA;\n",
              "      box-shadow: 0px 1px 2px rgba(60, 64, 67, 0.3), 0px 1px 3px 1px rgba(60, 64, 67, 0.15);\n",
              "      fill: #174EA6;\n",
              "    }\n",
              "\n",
              "    [theme=dark] .colab-df-convert {\n",
              "      background-color: #3B4455;\n",
              "      fill: #D2E3FC;\n",
              "    }\n",
              "\n",
              "    [theme=dark] .colab-df-convert:hover {\n",
              "      background-color: #434B5C;\n",
              "      box-shadow: 0px 1px 3px 1px rgba(0, 0, 0, 0.15);\n",
              "      filter: drop-shadow(0px 1px 2px rgba(0, 0, 0, 0.3));\n",
              "      fill: #FFFFFF;\n",
              "    }\n",
              "  </style>\n",
              "\n",
              "      <script>\n",
              "        const buttonEl =\n",
              "          document.querySelector('#df-04a59dc8-1b97-4d13-8eee-420a5cb67d44 button.colab-df-convert');\n",
              "        buttonEl.style.display =\n",
              "          google.colab.kernel.accessAllowed ? 'block' : 'none';\n",
              "\n",
              "        async function convertToInteractive(key) {\n",
              "          const element = document.querySelector('#df-04a59dc8-1b97-4d13-8eee-420a5cb67d44');\n",
              "          const dataTable =\n",
              "            await google.colab.kernel.invokeFunction('convertToInteractive',\n",
              "                                                     [key], {});\n",
              "          if (!dataTable) return;\n",
              "\n",
              "          const docLinkHtml = 'Like what you see? Visit the ' +\n",
              "            '<a target=\"_blank\" href=https://colab.research.google.com/notebooks/data_table.ipynb>data table notebook</a>'\n",
              "            + ' to learn more about interactive tables.';\n",
              "          element.innerHTML = '';\n",
              "          dataTable['output_type'] = 'display_data';\n",
              "          await google.colab.output.renderOutput(dataTable, element);\n",
              "          const docLink = document.createElement('div');\n",
              "          docLink.innerHTML = docLinkHtml;\n",
              "          element.appendChild(docLink);\n",
              "        }\n",
              "      </script>\n",
              "    </div>\n",
              "  </div>\n",
              "  "
            ]
          },
          "metadata": {},
          "execution_count": 26
        }
      ]
    },
    {
      "cell_type": "code",
      "source": [
        ""
      ],
      "metadata": {
        "id": "5SU16C5tc_XZ"
      },
      "execution_count": null,
      "outputs": []
    }
  ]
}
{
  "nbformat": 4,
  "nbformat_minor": 0,
  "metadata": {
    "colab": {
      "name": "2.1-jd-initial-exploration.ipynb",
      "provenance": [],
      "authorship_tag": "ABX9TyOzY/WaxRecIUTmfNvnHuTx",
      "include_colab_link": true
    },
    "kernelspec": {
      "name": "python3",
      "display_name": "Python 3"
    },
    "language_info": {
      "name": "python"
    }
  },
  "cells": [
    {
      "cell_type": "markdown",
      "metadata": {
        "id": "view-in-github",
        "colab_type": "text"
      },
      "source": [
        "<a href=\"https://colab.research.google.com/github/jonathjd/Education-Project/blob/main/2_1_jd_initial_exploration.ipynb\" target=\"_parent\"><img src=\"https://colab.research.google.com/assets/colab-badge.svg\" alt=\"Open In Colab\"/></a>"
      ]
    },
    {
      "cell_type": "markdown",
      "source": [
        "# After working with the data during the descriptive statistics, I decided that the median was not a great choice for imputing the data, and instead I am going to use the pandas interpolate method."
      ],
      "metadata": {
        "id": "lAXo3fBZ0un4"
      }
    },
    {
      "cell_type": "code",
      "execution_count": null,
      "metadata": {
        "id": "9XCkDaLb0qWh"
      },
      "outputs": [],
      "source": [
        "# import libraries\n",
        "import pandas as pd"
      ]
    },
    {
      "cell_type": "code",
      "source": [
        "# read in data\n",
        "df = pd.read_csv(\"https://raw.githubusercontent.com/jonathjd/Education-Project/main/data/interim/selected_columns.csv\")"
      ],
      "metadata": {
        "id": "TNhzij9V0_X9"
      },
      "execution_count": null,
      "outputs": []
    },
    {
      "cell_type": "code",
      "source": [
        "# when exporting, need to export without the index, for now, drop index\n",
        "df.drop(\"Unnamed: 0\", axis=1, inplace=True)"
      ],
      "metadata": {
        "id": "c5VUY3Gx1Cgv"
      },
      "execution_count": null,
      "outputs": []
    },
    {
      "cell_type": "code",
      "source": [
        "# grab all rows that are in the outlying regions\n",
        "reg9 = df[df[\"REGION\"]==9]"
      ],
      "metadata": {
        "id": "d7aZ82RH1HEH"
      },
      "execution_count": null,
      "outputs": []
    },
    {
      "cell_type": "code",
      "source": [
        "# Drop them\n",
        "df.drop(reg9.index, inplace=True)"
      ],
      "metadata": {
        "id": "AXMw-hur1KFu"
      },
      "execution_count": null,
      "outputs": []
    },
    {
      "cell_type": "code",
      "source": [
        "# Check shape\n",
        "df.shape"
      ],
      "metadata": {
        "colab": {
          "base_uri": "https://localhost:8080/"
        },
        "id": "FeWbtISv1NAe",
        "outputId": "39de8c6f-aae4-499e-df93-62c31ec94793"
      },
      "execution_count": null,
      "outputs": [
        {
          "output_type": "execute_result",
          "data": {
            "text/plain": [
              "(6540, 17)"
            ]
          },
          "metadata": {},
          "execution_count": 6
        }
      ]
    },
    {
      "cell_type": "code",
      "source": [
        "# Grab all the rows that have a highdeg of less than 2\n",
        "deg = df[df[\"HIGHDEG\"]<2]"
      ],
      "metadata": {
        "id": "rvREMCg41PSO"
      },
      "execution_count": null,
      "outputs": []
    },
    {
      "cell_type": "code",
      "source": [
        "# Drop them\n",
        "df.drop(deg.index, inplace=True)"
      ],
      "metadata": {
        "id": "pXeCDjTm1RX_"
      },
      "execution_count": null,
      "outputs": []
    },
    {
      "cell_type": "code",
      "source": [
        "# Check shape\n",
        "df.shape"
      ],
      "metadata": {
        "colab": {
          "base_uri": "https://localhost:8080/"
        },
        "id": "4CGE9sg61TTf",
        "outputId": "66a36179-353b-43b8-b0fb-bfcca43148fd"
      },
      "execution_count": null,
      "outputs": [
        {
          "output_type": "execute_result",
          "data": {
            "text/plain": [
              "(3946, 17)"
            ]
          },
          "metadata": {},
          "execution_count": 10
        }
      ]
    },
    {
      "cell_type": "code",
      "source": [
        "# Check for null values\n",
        "df.isna().sum()"
      ],
      "metadata": {
        "colab": {
          "base_uri": "https://localhost:8080/"
        },
        "id": "oRGjEliw1ZvW",
        "outputId": "d404bae2-ca5a-48f1-ee1b-2c9d6dd16631"
      },
      "execution_count": null,
      "outputs": [
        {
          "output_type": "execute_result",
          "data": {
            "text/plain": [
              "UNITID               0\n",
              "INSTNM               0\n",
              "CITY                 0\n",
              "STABBR               0\n",
              "ZIP                  0\n",
              "INSTURL              0\n",
              "HIGHDEG              0\n",
              "CONTROL              0\n",
              "REGION               0\n",
              "COSTT4_A           777\n",
              "TUITIONFEE_IN      651\n",
              "TUITIONFEE_OUT     651\n",
              "NPT4_PUB          2392\n",
              "NPT4_PRIV         2103\n",
              "TUITFTE              6\n",
              "INEXPFTE             6\n",
              "AVGFACSAL          156\n",
              "dtype: int64"
            ]
          },
          "metadata": {},
          "execution_count": 11
        }
      ]
    },
    {
      "cell_type": "code",
      "source": [
        "# Drop data with too many missing values\n",
        "df.drop([\"NPT4_PRIV\",\"NPT4_PUB\"], axis=1, inplace=True)"
      ],
      "metadata": {
        "id": "mCV9FQ0F1pkI"
      },
      "execution_count": null,
      "outputs": []
    },
    {
      "cell_type": "code",
      "source": [
        "df2 = df.interpolate()"
      ],
      "metadata": {
        "id": "U2t_GfCy1aNe"
      },
      "execution_count": null,
      "outputs": []
    },
    {
      "cell_type": "code",
      "source": [
        "df2.isna().sum()"
      ],
      "metadata": {
        "colab": {
          "base_uri": "https://localhost:8080/"
        },
        "id": "pb85Rcef1ffn",
        "outputId": "df814eaf-47bf-4584-9405-6d9a292c7c30"
      },
      "execution_count": null,
      "outputs": [
        {
          "output_type": "execute_result",
          "data": {
            "text/plain": [
              "UNITID            0\n",
              "INSTNM            0\n",
              "CITY              0\n",
              "STABBR            0\n",
              "ZIP               0\n",
              "INSTURL           0\n",
              "HIGHDEG           0\n",
              "CONTROL           0\n",
              "REGION            0\n",
              "COSTT4_A          0\n",
              "TUITIONFEE_IN     0\n",
              "TUITIONFEE_OUT    0\n",
              "TUITFTE           0\n",
              "INEXPFTE          0\n",
              "AVGFACSAL         0\n",
              "dtype: int64"
            ]
          },
          "metadata": {},
          "execution_count": 16
        }
      ]
    },
    {
      "cell_type": "code",
      "source": [
        "df2.to_csv(\"cleaned_data.csv\", index=False)"
      ],
      "metadata": {
        "id": "zHZaP23v1if-"
      },
      "execution_count": null,
      "outputs": []
    },
    {
      "cell_type": "code",
      "source": [
        ""
      ],
      "metadata": {
        "id": "NW6Edt721yL-"
      },
      "execution_count": null,
      "outputs": []
    }
  ]
}

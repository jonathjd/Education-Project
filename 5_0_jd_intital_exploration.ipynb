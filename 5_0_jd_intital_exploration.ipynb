{
  "nbformat": 4,
  "nbformat_minor": 0,
  "metadata": {
    "colab": {
      "name": "5.0-jd-intital-exploration.ipynb",
      "provenance": [],
      "authorship_tag": "ABX9TyOjNORhXM0n9z30TEzX+4Hp",
      "include_colab_link": true
    },
    "kernelspec": {
      "name": "python3",
      "display_name": "Python 3"
    },
    "language_info": {
      "name": "python"
    }
  },
  "cells": [
    {
      "cell_type": "markdown",
      "metadata": {
        "id": "view-in-github",
        "colab_type": "text"
      },
      "source": [
        "<a href=\"https://colab.research.google.com/github/jonathjd/Education-Project/blob/main/5_0_jd_intital_exploration.ipynb\" target=\"_parent\"><img src=\"https://colab.research.google.com/assets/colab-badge.svg\" alt=\"Open In Colab\"/></a>"
      ]
    },
    {
      "cell_type": "markdown",
      "source": [
        "# Exploratory Data Analysis Continued"
      ],
      "metadata": {
        "id": "fBkGb42efe8F"
      }
    },
    {
      "cell_type": "markdown",
      "source": [
        "We will continue our EDA of the cost dataset using pandas. We will also be using some Matplotlib as well.\n",
        "\n",
        "We will be looking at:\n",
        "1. Descriptive statistics such as mean, trimmed mean, median, mode for institutions which primarily confer:\n",
        "- Associates degrees\n",
        "- Bachelors degrees\n",
        "- Graduate degrees\n",
        " both in the US, Northwest region, and Washington (my current state), and for both public, private for-profit, and private non-profit.\n",
        " 2. We will generate some visualizations such as histograms, boxplots, and bar charts."
      ],
      "metadata": {
        "id": "sz22IlDmfk5E"
      }
    },
    {
      "cell_type": "markdown",
      "source": [
        "## Columns of interest"
      ],
      "metadata": {
        "id": "IvAOVZwOkXlp"
      }
    },
    {
      "cell_type": "markdown",
      "source": [
        " 1. **Control**:\n",
        " - 1: Public\n",
        " - 2: Private non-proft\n",
        " - 3: Private for-profit\n",
        " 2. **Region**:\n",
        " - 8: Far West (AK, CA, HI, NV, OR, WA)\n",
        " 3. **HIGHDEG**:\n",
        " - 2: Associates degree\n",
        " - 3: Bachelors degree\n",
        " - 4: Graduate degree "
      ],
      "metadata": {
        "id": "igaQOLaYkXpY"
      }
    },
    {
      "cell_type": "code",
      "source": [
        "# import libraries\n",
        "# We'll begin with pandas and import matplotlib, numpy, and scipy as needed.\n",
        "import pandas as pd"
      ],
      "metadata": {
        "id": "XjPtHnCEffId"
      },
      "execution_count": null,
      "outputs": []
    },
    {
      "cell_type": "code",
      "source": [
        "df = pd.read_csv(\"https://raw.githubusercontent.com/jonathjd/Education-Project/main/data/processed/cleaned_data.csv\")\n",
        "df.head()"
      ],
      "metadata": {
        "colab": {
          "base_uri": "https://localhost:8080/",
          "height": 461
        },
        "id": "yREU8c24krnN",
        "outputId": "e284d5bd-24b0-458c-886c-2604aa020488"
      },
      "execution_count": null,
      "outputs": [
        {
          "output_type": "execute_result",
          "data": {
            "text/plain": [
              "   UNITID                               INSTNM        CITY STABBR         ZIP  \\\n",
              "0  100654             Alabama A & M University      Normal     AL       35762   \n",
              "1  100663  University of Alabama at Birmingham  Birmingham     AL  35294-0110   \n",
              "2  100690                   Amridge University  Montgomery     AL  36117-3553   \n",
              "3  100706  University of Alabama in Huntsville  Huntsville     AL       35899   \n",
              "4  100724             Alabama State University  Montgomery     AL  36104-0271   \n",
              "\n",
              "                      INSTURL  HIGHDEG  CONTROL  REGION  COSTT4_A  \\\n",
              "0               www.aamu.edu/        4        1       5   23053.0   \n",
              "1        https://www.uab.edu/        4        1       5   24495.0   \n",
              "2  www.amridgeuniversity.edu/        4        2       5   14800.0   \n",
              "3                www.uah.edu/        4        1       5   23917.0   \n",
              "4              www.alasu.edu/        4        1       5   21866.0   \n",
              "\n",
              "   TUITIONFEE_IN  TUITIONFEE_OUT  TUITFTE  INEXPFTE  AVGFACSAL  \n",
              "0        10024.0         18634.0   7870.0    5546.0     7709.0  \n",
              "1         8568.0         20400.0  12096.0   14983.0    11049.0  \n",
              "2         6950.0          6950.0  16403.0    5245.0     4187.0  \n",
              "3        11122.0         23518.0   8275.0    8488.0     9688.0  \n",
              "4        11068.0         19396.0   9587.0    9346.0     7221.0  "
            ],
            "text/html": [
              "\n",
              "  <div id=\"df-9ffb67e9-6cc8-4c78-a3f2-193c402ac1a8\">\n",
              "    <div class=\"colab-df-container\">\n",
              "      <div>\n",
              "<style scoped>\n",
              "    .dataframe tbody tr th:only-of-type {\n",
              "        vertical-align: middle;\n",
              "    }\n",
              "\n",
              "    .dataframe tbody tr th {\n",
              "        vertical-align: top;\n",
              "    }\n",
              "\n",
              "    .dataframe thead th {\n",
              "        text-align: right;\n",
              "    }\n",
              "</style>\n",
              "<table border=\"1\" class=\"dataframe\">\n",
              "  <thead>\n",
              "    <tr style=\"text-align: right;\">\n",
              "      <th></th>\n",
              "      <th>UNITID</th>\n",
              "      <th>INSTNM</th>\n",
              "      <th>CITY</th>\n",
              "      <th>STABBR</th>\n",
              "      <th>ZIP</th>\n",
              "      <th>INSTURL</th>\n",
              "      <th>HIGHDEG</th>\n",
              "      <th>CONTROL</th>\n",
              "      <th>REGION</th>\n",
              "      <th>COSTT4_A</th>\n",
              "      <th>TUITIONFEE_IN</th>\n",
              "      <th>TUITIONFEE_OUT</th>\n",
              "      <th>TUITFTE</th>\n",
              "      <th>INEXPFTE</th>\n",
              "      <th>AVGFACSAL</th>\n",
              "    </tr>\n",
              "  </thead>\n",
              "  <tbody>\n",
              "    <tr>\n",
              "      <th>0</th>\n",
              "      <td>100654</td>\n",
              "      <td>Alabama A &amp; M University</td>\n",
              "      <td>Normal</td>\n",
              "      <td>AL</td>\n",
              "      <td>35762</td>\n",
              "      <td>www.aamu.edu/</td>\n",
              "      <td>4</td>\n",
              "      <td>1</td>\n",
              "      <td>5</td>\n",
              "      <td>23053.0</td>\n",
              "      <td>10024.0</td>\n",
              "      <td>18634.0</td>\n",
              "      <td>7870.0</td>\n",
              "      <td>5546.0</td>\n",
              "      <td>7709.0</td>\n",
              "    </tr>\n",
              "    <tr>\n",
              "      <th>1</th>\n",
              "      <td>100663</td>\n",
              "      <td>University of Alabama at Birmingham</td>\n",
              "      <td>Birmingham</td>\n",
              "      <td>AL</td>\n",
              "      <td>35294-0110</td>\n",
              "      <td>https://www.uab.edu/</td>\n",
              "      <td>4</td>\n",
              "      <td>1</td>\n",
              "      <td>5</td>\n",
              "      <td>24495.0</td>\n",
              "      <td>8568.0</td>\n",
              "      <td>20400.0</td>\n",
              "      <td>12096.0</td>\n",
              "      <td>14983.0</td>\n",
              "      <td>11049.0</td>\n",
              "    </tr>\n",
              "    <tr>\n",
              "      <th>2</th>\n",
              "      <td>100690</td>\n",
              "      <td>Amridge University</td>\n",
              "      <td>Montgomery</td>\n",
              "      <td>AL</td>\n",
              "      <td>36117-3553</td>\n",
              "      <td>www.amridgeuniversity.edu/</td>\n",
              "      <td>4</td>\n",
              "      <td>2</td>\n",
              "      <td>5</td>\n",
              "      <td>14800.0</td>\n",
              "      <td>6950.0</td>\n",
              "      <td>6950.0</td>\n",
              "      <td>16403.0</td>\n",
              "      <td>5245.0</td>\n",
              "      <td>4187.0</td>\n",
              "    </tr>\n",
              "    <tr>\n",
              "      <th>3</th>\n",
              "      <td>100706</td>\n",
              "      <td>University of Alabama in Huntsville</td>\n",
              "      <td>Huntsville</td>\n",
              "      <td>AL</td>\n",
              "      <td>35899</td>\n",
              "      <td>www.uah.edu/</td>\n",
              "      <td>4</td>\n",
              "      <td>1</td>\n",
              "      <td>5</td>\n",
              "      <td>23917.0</td>\n",
              "      <td>11122.0</td>\n",
              "      <td>23518.0</td>\n",
              "      <td>8275.0</td>\n",
              "      <td>8488.0</td>\n",
              "      <td>9688.0</td>\n",
              "    </tr>\n",
              "    <tr>\n",
              "      <th>4</th>\n",
              "      <td>100724</td>\n",
              "      <td>Alabama State University</td>\n",
              "      <td>Montgomery</td>\n",
              "      <td>AL</td>\n",
              "      <td>36104-0271</td>\n",
              "      <td>www.alasu.edu/</td>\n",
              "      <td>4</td>\n",
              "      <td>1</td>\n",
              "      <td>5</td>\n",
              "      <td>21866.0</td>\n",
              "      <td>11068.0</td>\n",
              "      <td>19396.0</td>\n",
              "      <td>9587.0</td>\n",
              "      <td>9346.0</td>\n",
              "      <td>7221.0</td>\n",
              "    </tr>\n",
              "  </tbody>\n",
              "</table>\n",
              "</div>\n",
              "      <button class=\"colab-df-convert\" onclick=\"convertToInteractive('df-9ffb67e9-6cc8-4c78-a3f2-193c402ac1a8')\"\n",
              "              title=\"Convert this dataframe to an interactive table.\"\n",
              "              style=\"display:none;\">\n",
              "        \n",
              "  <svg xmlns=\"http://www.w3.org/2000/svg\" height=\"24px\"viewBox=\"0 0 24 24\"\n",
              "       width=\"24px\">\n",
              "    <path d=\"M0 0h24v24H0V0z\" fill=\"none\"/>\n",
              "    <path d=\"M18.56 5.44l.94 2.06.94-2.06 2.06-.94-2.06-.94-.94-2.06-.94 2.06-2.06.94zm-11 1L8.5 8.5l.94-2.06 2.06-.94-2.06-.94L8.5 2.5l-.94 2.06-2.06.94zm10 10l.94 2.06.94-2.06 2.06-.94-2.06-.94-.94-2.06-.94 2.06-2.06.94z\"/><path d=\"M17.41 7.96l-1.37-1.37c-.4-.4-.92-.59-1.43-.59-.52 0-1.04.2-1.43.59L10.3 9.45l-7.72 7.72c-.78.78-.78 2.05 0 2.83L4 21.41c.39.39.9.59 1.41.59.51 0 1.02-.2 1.41-.59l7.78-7.78 2.81-2.81c.8-.78.8-2.07 0-2.86zM5.41 20L4 18.59l7.72-7.72 1.47 1.35L5.41 20z\"/>\n",
              "  </svg>\n",
              "      </button>\n",
              "      \n",
              "  <style>\n",
              "    .colab-df-container {\n",
              "      display:flex;\n",
              "      flex-wrap:wrap;\n",
              "      gap: 12px;\n",
              "    }\n",
              "\n",
              "    .colab-df-convert {\n",
              "      background-color: #E8F0FE;\n",
              "      border: none;\n",
              "      border-radius: 50%;\n",
              "      cursor: pointer;\n",
              "      display: none;\n",
              "      fill: #1967D2;\n",
              "      height: 32px;\n",
              "      padding: 0 0 0 0;\n",
              "      width: 32px;\n",
              "    }\n",
              "\n",
              "    .colab-df-convert:hover {\n",
              "      background-color: #E2EBFA;\n",
              "      box-shadow: 0px 1px 2px rgba(60, 64, 67, 0.3), 0px 1px 3px 1px rgba(60, 64, 67, 0.15);\n",
              "      fill: #174EA6;\n",
              "    }\n",
              "\n",
              "    [theme=dark] .colab-df-convert {\n",
              "      background-color: #3B4455;\n",
              "      fill: #D2E3FC;\n",
              "    }\n",
              "\n",
              "    [theme=dark] .colab-df-convert:hover {\n",
              "      background-color: #434B5C;\n",
              "      box-shadow: 0px 1px 3px 1px rgba(0, 0, 0, 0.15);\n",
              "      filter: drop-shadow(0px 1px 2px rgba(0, 0, 0, 0.3));\n",
              "      fill: #FFFFFF;\n",
              "    }\n",
              "  </style>\n",
              "\n",
              "      <script>\n",
              "        const buttonEl =\n",
              "          document.querySelector('#df-9ffb67e9-6cc8-4c78-a3f2-193c402ac1a8 button.colab-df-convert');\n",
              "        buttonEl.style.display =\n",
              "          google.colab.kernel.accessAllowed ? 'block' : 'none';\n",
              "\n",
              "        async function convertToInteractive(key) {\n",
              "          const element = document.querySelector('#df-9ffb67e9-6cc8-4c78-a3f2-193c402ac1a8');\n",
              "          const dataTable =\n",
              "            await google.colab.kernel.invokeFunction('convertToInteractive',\n",
              "                                                     [key], {});\n",
              "          if (!dataTable) return;\n",
              "\n",
              "          const docLinkHtml = 'Like what you see? Visit the ' +\n",
              "            '<a target=\"_blank\" href=https://colab.research.google.com/notebooks/data_table.ipynb>data table notebook</a>'\n",
              "            + ' to learn more about interactive tables.';\n",
              "          element.innerHTML = '';\n",
              "          dataTable['output_type'] = 'display_data';\n",
              "          await google.colab.output.renderOutput(dataTable, element);\n",
              "          const docLink = document.createElement('div');\n",
              "          docLink.innerHTML = docLinkHtml;\n",
              "          element.appendChild(docLink);\n",
              "        }\n",
              "      </script>\n",
              "    </div>\n",
              "  </div>\n",
              "  "
            ]
          },
          "metadata": {},
          "execution_count": 2
        }
      ]
    },
    {
      "cell_type": "code",
      "source": [
        "df.describe().transpose()"
      ],
      "metadata": {
        "colab": {
          "base_uri": "https://localhost:8080/",
          "height": 363
        },
        "id": "huvjXL-5jtVZ",
        "outputId": "38e0eaf7-ff1d-4eac-d1e1-55d44aeda468"
      },
      "execution_count": null,
      "outputs": [
        {
          "output_type": "execute_result",
          "data": {
            "text/plain": [
              "                 count           mean            std       min        25%  \\\n",
              "UNITID          3946.0  236362.039280  118013.339610  100654.0  155629.25   \n",
              "HIGHDEG         3946.0       3.158388       0.894995       2.0       2.00   \n",
              "CONTROL         3946.0       1.753168       0.719031       1.0       1.00   \n",
              "REGION          3946.0       4.471363       2.122919       0.0       3.00   \n",
              "COSTT4_A        3946.0   28040.147238   15662.719280    6525.0   15403.80   \n",
              "TUITIONFEE_IN   3946.0   16391.476432   13837.107108     480.0    5604.75   \n",
              "TUITIONFEE_OUT  3946.0   19698.498860   12755.145053     480.0    9733.75   \n",
              "TUITFTE         3946.0   11572.383933   11669.078887       0.0    4195.75   \n",
              "INEXPFTE        3946.0   10316.409022   16075.745133       0.0    5041.00   \n",
              "AVGFACSAL       3946.0    7063.467562    2542.040241     527.0    5394.25   \n",
              "\n",
              "                          50%         75%       max  \n",
              "UNITID          198631.000000  237063.750  494852.0  \n",
              "HIGHDEG              3.000000       4.000       4.0  \n",
              "CONTROL              2.000000       2.000       3.0  \n",
              "REGION               5.000000       6.000       8.0  \n",
              "COSTT4_A         24000.000000   36389.875   78555.0  \n",
              "TUITIONFEE_IN    11994.500000   23408.750   61788.0  \n",
              "TUITIONFEE_OUT   15762.666667   27203.750   61788.0  \n",
              "TUITFTE           9882.000000   15639.500  440373.0  \n",
              "INEXPFTE          7331.500000   10861.000  497549.0  \n",
              "AVGFACSAL         6773.000000    8403.500   21150.0  "
            ],
            "text/html": [
              "\n",
              "  <div id=\"df-7538ecee-fdb3-40cd-8881-c29fe5bff698\">\n",
              "    <div class=\"colab-df-container\">\n",
              "      <div>\n",
              "<style scoped>\n",
              "    .dataframe tbody tr th:only-of-type {\n",
              "        vertical-align: middle;\n",
              "    }\n",
              "\n",
              "    .dataframe tbody tr th {\n",
              "        vertical-align: top;\n",
              "    }\n",
              "\n",
              "    .dataframe thead th {\n",
              "        text-align: right;\n",
              "    }\n",
              "</style>\n",
              "<table border=\"1\" class=\"dataframe\">\n",
              "  <thead>\n",
              "    <tr style=\"text-align: right;\">\n",
              "      <th></th>\n",
              "      <th>count</th>\n",
              "      <th>mean</th>\n",
              "      <th>std</th>\n",
              "      <th>min</th>\n",
              "      <th>25%</th>\n",
              "      <th>50%</th>\n",
              "      <th>75%</th>\n",
              "      <th>max</th>\n",
              "    </tr>\n",
              "  </thead>\n",
              "  <tbody>\n",
              "    <tr>\n",
              "      <th>UNITID</th>\n",
              "      <td>3946.0</td>\n",
              "      <td>236362.039280</td>\n",
              "      <td>118013.339610</td>\n",
              "      <td>100654.0</td>\n",
              "      <td>155629.25</td>\n",
              "      <td>198631.000000</td>\n",
              "      <td>237063.750</td>\n",
              "      <td>494852.0</td>\n",
              "    </tr>\n",
              "    <tr>\n",
              "      <th>HIGHDEG</th>\n",
              "      <td>3946.0</td>\n",
              "      <td>3.158388</td>\n",
              "      <td>0.894995</td>\n",
              "      <td>2.0</td>\n",
              "      <td>2.00</td>\n",
              "      <td>3.000000</td>\n",
              "      <td>4.000</td>\n",
              "      <td>4.0</td>\n",
              "    </tr>\n",
              "    <tr>\n",
              "      <th>CONTROL</th>\n",
              "      <td>3946.0</td>\n",
              "      <td>1.753168</td>\n",
              "      <td>0.719031</td>\n",
              "      <td>1.0</td>\n",
              "      <td>1.00</td>\n",
              "      <td>2.000000</td>\n",
              "      <td>2.000</td>\n",
              "      <td>3.0</td>\n",
              "    </tr>\n",
              "    <tr>\n",
              "      <th>REGION</th>\n",
              "      <td>3946.0</td>\n",
              "      <td>4.471363</td>\n",
              "      <td>2.122919</td>\n",
              "      <td>0.0</td>\n",
              "      <td>3.00</td>\n",
              "      <td>5.000000</td>\n",
              "      <td>6.000</td>\n",
              "      <td>8.0</td>\n",
              "    </tr>\n",
              "    <tr>\n",
              "      <th>COSTT4_A</th>\n",
              "      <td>3946.0</td>\n",
              "      <td>28040.147238</td>\n",
              "      <td>15662.719280</td>\n",
              "      <td>6525.0</td>\n",
              "      <td>15403.80</td>\n",
              "      <td>24000.000000</td>\n",
              "      <td>36389.875</td>\n",
              "      <td>78555.0</td>\n",
              "    </tr>\n",
              "    <tr>\n",
              "      <th>TUITIONFEE_IN</th>\n",
              "      <td>3946.0</td>\n",
              "      <td>16391.476432</td>\n",
              "      <td>13837.107108</td>\n",
              "      <td>480.0</td>\n",
              "      <td>5604.75</td>\n",
              "      <td>11994.500000</td>\n",
              "      <td>23408.750</td>\n",
              "      <td>61788.0</td>\n",
              "    </tr>\n",
              "    <tr>\n",
              "      <th>TUITIONFEE_OUT</th>\n",
              "      <td>3946.0</td>\n",
              "      <td>19698.498860</td>\n",
              "      <td>12755.145053</td>\n",
              "      <td>480.0</td>\n",
              "      <td>9733.75</td>\n",
              "      <td>15762.666667</td>\n",
              "      <td>27203.750</td>\n",
              "      <td>61788.0</td>\n",
              "    </tr>\n",
              "    <tr>\n",
              "      <th>TUITFTE</th>\n",
              "      <td>3946.0</td>\n",
              "      <td>11572.383933</td>\n",
              "      <td>11669.078887</td>\n",
              "      <td>0.0</td>\n",
              "      <td>4195.75</td>\n",
              "      <td>9882.000000</td>\n",
              "      <td>15639.500</td>\n",
              "      <td>440373.0</td>\n",
              "    </tr>\n",
              "    <tr>\n",
              "      <th>INEXPFTE</th>\n",
              "      <td>3946.0</td>\n",
              "      <td>10316.409022</td>\n",
              "      <td>16075.745133</td>\n",
              "      <td>0.0</td>\n",
              "      <td>5041.00</td>\n",
              "      <td>7331.500000</td>\n",
              "      <td>10861.000</td>\n",
              "      <td>497549.0</td>\n",
              "    </tr>\n",
              "    <tr>\n",
              "      <th>AVGFACSAL</th>\n",
              "      <td>3946.0</td>\n",
              "      <td>7063.467562</td>\n",
              "      <td>2542.040241</td>\n",
              "      <td>527.0</td>\n",
              "      <td>5394.25</td>\n",
              "      <td>6773.000000</td>\n",
              "      <td>8403.500</td>\n",
              "      <td>21150.0</td>\n",
              "    </tr>\n",
              "  </tbody>\n",
              "</table>\n",
              "</div>\n",
              "      <button class=\"colab-df-convert\" onclick=\"convertToInteractive('df-7538ecee-fdb3-40cd-8881-c29fe5bff698')\"\n",
              "              title=\"Convert this dataframe to an interactive table.\"\n",
              "              style=\"display:none;\">\n",
              "        \n",
              "  <svg xmlns=\"http://www.w3.org/2000/svg\" height=\"24px\"viewBox=\"0 0 24 24\"\n",
              "       width=\"24px\">\n",
              "    <path d=\"M0 0h24v24H0V0z\" fill=\"none\"/>\n",
              "    <path d=\"M18.56 5.44l.94 2.06.94-2.06 2.06-.94-2.06-.94-.94-2.06-.94 2.06-2.06.94zm-11 1L8.5 8.5l.94-2.06 2.06-.94-2.06-.94L8.5 2.5l-.94 2.06-2.06.94zm10 10l.94 2.06.94-2.06 2.06-.94-2.06-.94-.94-2.06-.94 2.06-2.06.94z\"/><path d=\"M17.41 7.96l-1.37-1.37c-.4-.4-.92-.59-1.43-.59-.52 0-1.04.2-1.43.59L10.3 9.45l-7.72 7.72c-.78.78-.78 2.05 0 2.83L4 21.41c.39.39.9.59 1.41.59.51 0 1.02-.2 1.41-.59l7.78-7.78 2.81-2.81c.8-.78.8-2.07 0-2.86zM5.41 20L4 18.59l7.72-7.72 1.47 1.35L5.41 20z\"/>\n",
              "  </svg>\n",
              "      </button>\n",
              "      \n",
              "  <style>\n",
              "    .colab-df-container {\n",
              "      display:flex;\n",
              "      flex-wrap:wrap;\n",
              "      gap: 12px;\n",
              "    }\n",
              "\n",
              "    .colab-df-convert {\n",
              "      background-color: #E8F0FE;\n",
              "      border: none;\n",
              "      border-radius: 50%;\n",
              "      cursor: pointer;\n",
              "      display: none;\n",
              "      fill: #1967D2;\n",
              "      height: 32px;\n",
              "      padding: 0 0 0 0;\n",
              "      width: 32px;\n",
              "    }\n",
              "\n",
              "    .colab-df-convert:hover {\n",
              "      background-color: #E2EBFA;\n",
              "      box-shadow: 0px 1px 2px rgba(60, 64, 67, 0.3), 0px 1px 3px 1px rgba(60, 64, 67, 0.15);\n",
              "      fill: #174EA6;\n",
              "    }\n",
              "\n",
              "    [theme=dark] .colab-df-convert {\n",
              "      background-color: #3B4455;\n",
              "      fill: #D2E3FC;\n",
              "    }\n",
              "\n",
              "    [theme=dark] .colab-df-convert:hover {\n",
              "      background-color: #434B5C;\n",
              "      box-shadow: 0px 1px 3px 1px rgba(0, 0, 0, 0.15);\n",
              "      filter: drop-shadow(0px 1px 2px rgba(0, 0, 0, 0.3));\n",
              "      fill: #FFFFFF;\n",
              "    }\n",
              "  </style>\n",
              "\n",
              "      <script>\n",
              "        const buttonEl =\n",
              "          document.querySelector('#df-7538ecee-fdb3-40cd-8881-c29fe5bff698 button.colab-df-convert');\n",
              "        buttonEl.style.display =\n",
              "          google.colab.kernel.accessAllowed ? 'block' : 'none';\n",
              "\n",
              "        async function convertToInteractive(key) {\n",
              "          const element = document.querySelector('#df-7538ecee-fdb3-40cd-8881-c29fe5bff698');\n",
              "          const dataTable =\n",
              "            await google.colab.kernel.invokeFunction('convertToInteractive',\n",
              "                                                     [key], {});\n",
              "          if (!dataTable) return;\n",
              "\n",
              "          const docLinkHtml = 'Like what you see? Visit the ' +\n",
              "            '<a target=\"_blank\" href=https://colab.research.google.com/notebooks/data_table.ipynb>data table notebook</a>'\n",
              "            + ' to learn more about interactive tables.';\n",
              "          element.innerHTML = '';\n",
              "          dataTable['output_type'] = 'display_data';\n",
              "          await google.colab.output.renderOutput(dataTable, element);\n",
              "          const docLink = document.createElement('div');\n",
              "          docLink.innerHTML = docLinkHtml;\n",
              "          element.appendChild(docLink);\n",
              "        }\n",
              "      </script>\n",
              "    </div>\n",
              "  </div>\n",
              "  "
            ]
          },
          "metadata": {},
          "execution_count": 33
        }
      ]
    },
    {
      "cell_type": "code",
      "source": [
        "# Create new df separating all institutions into the degree they primarily grant\n",
        "us_associates_df = df[df[\"HIGHDEG\"] == 2].copy()\n",
        "us_associates_df.describe().transpose()"
      ],
      "metadata": {
        "colab": {
          "base_uri": "https://localhost:8080/",
          "height": 363
        },
        "id": "OikWR3silHDv",
        "outputId": "12a2c491-4f4c-47ec-a3ac-7329ba97a0c6"
      },
      "execution_count": null,
      "outputs": [
        {
          "output_type": "execute_result",
          "data": {
            "text/plain": [
              "                 count           mean            std       min       25%  \\\n",
              "UNITID          1317.0  244287.987092  123261.404275  100760.0  155858.0   \n",
              "HIGHDEG         1317.0       2.000000       0.000000       2.0       2.0   \n",
              "CONTROL         1317.0       1.590737       0.871015       1.0       1.0   \n",
              "REGION          1317.0       4.751708       2.012463       1.0       3.0   \n",
              "COSTT4_A        1317.0   17667.568048    8646.705979    7338.0   11936.0   \n",
              "TUITIONFEE_IN   1317.0    7600.870231    6933.620241     932.0    3236.0   \n",
              "TUITIONFEE_OUT  1317.0   11046.705982    6126.886207     932.0    6972.0   \n",
              "TUITFTE         1317.0    5897.785877    5783.308665     215.0    2023.0   \n",
              "INEXPFTE        1317.0    6263.754366    3392.174532     453.0    4346.0   \n",
              "AVGFACSAL       1317.0    6187.424272    1947.238597    1194.0    4848.0   \n",
              "\n",
              "                     50%       75%       max  \n",
              "UNITID          199856.0  366261.0  494852.0  \n",
              "HIGHDEG              2.0       2.0       2.0  \n",
              "CONTROL              1.0       3.0       3.0  \n",
              "REGION               5.0       6.0       8.0  \n",
              "COSTT4_A         14379.0   21080.0   70939.0  \n",
              "TUITIONFEE_IN     4800.0   10645.0   56016.5  \n",
              "TUITIONFEE_OUT    9370.0   14019.0   56016.5  \n",
              "TUITFTE           3561.0    9012.0   65766.0  \n",
              "INEXPFTE          5631.0    7468.0   46910.0  \n",
              "AVGFACSAL         6000.0    7421.0   14583.0  "
            ],
            "text/html": [
              "\n",
              "  <div id=\"df-267133a2-a7c6-423e-b2a2-ef214399e31a\">\n",
              "    <div class=\"colab-df-container\">\n",
              "      <div>\n",
              "<style scoped>\n",
              "    .dataframe tbody tr th:only-of-type {\n",
              "        vertical-align: middle;\n",
              "    }\n",
              "\n",
              "    .dataframe tbody tr th {\n",
              "        vertical-align: top;\n",
              "    }\n",
              "\n",
              "    .dataframe thead th {\n",
              "        text-align: right;\n",
              "    }\n",
              "</style>\n",
              "<table border=\"1\" class=\"dataframe\">\n",
              "  <thead>\n",
              "    <tr style=\"text-align: right;\">\n",
              "      <th></th>\n",
              "      <th>count</th>\n",
              "      <th>mean</th>\n",
              "      <th>std</th>\n",
              "      <th>min</th>\n",
              "      <th>25%</th>\n",
              "      <th>50%</th>\n",
              "      <th>75%</th>\n",
              "      <th>max</th>\n",
              "    </tr>\n",
              "  </thead>\n",
              "  <tbody>\n",
              "    <tr>\n",
              "      <th>UNITID</th>\n",
              "      <td>1317.0</td>\n",
              "      <td>244287.987092</td>\n",
              "      <td>123261.404275</td>\n",
              "      <td>100760.0</td>\n",
              "      <td>155858.0</td>\n",
              "      <td>199856.0</td>\n",
              "      <td>366261.0</td>\n",
              "      <td>494852.0</td>\n",
              "    </tr>\n",
              "    <tr>\n",
              "      <th>HIGHDEG</th>\n",
              "      <td>1317.0</td>\n",
              "      <td>2.000000</td>\n",
              "      <td>0.000000</td>\n",
              "      <td>2.0</td>\n",
              "      <td>2.0</td>\n",
              "      <td>2.0</td>\n",
              "      <td>2.0</td>\n",
              "      <td>2.0</td>\n",
              "    </tr>\n",
              "    <tr>\n",
              "      <th>CONTROL</th>\n",
              "      <td>1317.0</td>\n",
              "      <td>1.590737</td>\n",
              "      <td>0.871015</td>\n",
              "      <td>1.0</td>\n",
              "      <td>1.0</td>\n",
              "      <td>1.0</td>\n",
              "      <td>3.0</td>\n",
              "      <td>3.0</td>\n",
              "    </tr>\n",
              "    <tr>\n",
              "      <th>REGION</th>\n",
              "      <td>1317.0</td>\n",
              "      <td>4.751708</td>\n",
              "      <td>2.012463</td>\n",
              "      <td>1.0</td>\n",
              "      <td>3.0</td>\n",
              "      <td>5.0</td>\n",
              "      <td>6.0</td>\n",
              "      <td>8.0</td>\n",
              "    </tr>\n",
              "    <tr>\n",
              "      <th>COSTT4_A</th>\n",
              "      <td>1317.0</td>\n",
              "      <td>17667.568048</td>\n",
              "      <td>8646.705979</td>\n",
              "      <td>7338.0</td>\n",
              "      <td>11936.0</td>\n",
              "      <td>14379.0</td>\n",
              "      <td>21080.0</td>\n",
              "      <td>70939.0</td>\n",
              "    </tr>\n",
              "    <tr>\n",
              "      <th>TUITIONFEE_IN</th>\n",
              "      <td>1317.0</td>\n",
              "      <td>7600.870231</td>\n",
              "      <td>6933.620241</td>\n",
              "      <td>932.0</td>\n",
              "      <td>3236.0</td>\n",
              "      <td>4800.0</td>\n",
              "      <td>10645.0</td>\n",
              "      <td>56016.5</td>\n",
              "    </tr>\n",
              "    <tr>\n",
              "      <th>TUITIONFEE_OUT</th>\n",
              "      <td>1317.0</td>\n",
              "      <td>11046.705982</td>\n",
              "      <td>6126.886207</td>\n",
              "      <td>932.0</td>\n",
              "      <td>6972.0</td>\n",
              "      <td>9370.0</td>\n",
              "      <td>14019.0</td>\n",
              "      <td>56016.5</td>\n",
              "    </tr>\n",
              "    <tr>\n",
              "      <th>TUITFTE</th>\n",
              "      <td>1317.0</td>\n",
              "      <td>5897.785877</td>\n",
              "      <td>5783.308665</td>\n",
              "      <td>215.0</td>\n",
              "      <td>2023.0</td>\n",
              "      <td>3561.0</td>\n",
              "      <td>9012.0</td>\n",
              "      <td>65766.0</td>\n",
              "    </tr>\n",
              "    <tr>\n",
              "      <th>INEXPFTE</th>\n",
              "      <td>1317.0</td>\n",
              "      <td>6263.754366</td>\n",
              "      <td>3392.174532</td>\n",
              "      <td>453.0</td>\n",
              "      <td>4346.0</td>\n",
              "      <td>5631.0</td>\n",
              "      <td>7468.0</td>\n",
              "      <td>46910.0</td>\n",
              "    </tr>\n",
              "    <tr>\n",
              "      <th>AVGFACSAL</th>\n",
              "      <td>1317.0</td>\n",
              "      <td>6187.424272</td>\n",
              "      <td>1947.238597</td>\n",
              "      <td>1194.0</td>\n",
              "      <td>4848.0</td>\n",
              "      <td>6000.0</td>\n",
              "      <td>7421.0</td>\n",
              "      <td>14583.0</td>\n",
              "    </tr>\n",
              "  </tbody>\n",
              "</table>\n",
              "</div>\n",
              "      <button class=\"colab-df-convert\" onclick=\"convertToInteractive('df-267133a2-a7c6-423e-b2a2-ef214399e31a')\"\n",
              "              title=\"Convert this dataframe to an interactive table.\"\n",
              "              style=\"display:none;\">\n",
              "        \n",
              "  <svg xmlns=\"http://www.w3.org/2000/svg\" height=\"24px\"viewBox=\"0 0 24 24\"\n",
              "       width=\"24px\">\n",
              "    <path d=\"M0 0h24v24H0V0z\" fill=\"none\"/>\n",
              "    <path d=\"M18.56 5.44l.94 2.06.94-2.06 2.06-.94-2.06-.94-.94-2.06-.94 2.06-2.06.94zm-11 1L8.5 8.5l.94-2.06 2.06-.94-2.06-.94L8.5 2.5l-.94 2.06-2.06.94zm10 10l.94 2.06.94-2.06 2.06-.94-2.06-.94-.94-2.06-.94 2.06-2.06.94z\"/><path d=\"M17.41 7.96l-1.37-1.37c-.4-.4-.92-.59-1.43-.59-.52 0-1.04.2-1.43.59L10.3 9.45l-7.72 7.72c-.78.78-.78 2.05 0 2.83L4 21.41c.39.39.9.59 1.41.59.51 0 1.02-.2 1.41-.59l7.78-7.78 2.81-2.81c.8-.78.8-2.07 0-2.86zM5.41 20L4 18.59l7.72-7.72 1.47 1.35L5.41 20z\"/>\n",
              "  </svg>\n",
              "      </button>\n",
              "      \n",
              "  <style>\n",
              "    .colab-df-container {\n",
              "      display:flex;\n",
              "      flex-wrap:wrap;\n",
              "      gap: 12px;\n",
              "    }\n",
              "\n",
              "    .colab-df-convert {\n",
              "      background-color: #E8F0FE;\n",
              "      border: none;\n",
              "      border-radius: 50%;\n",
              "      cursor: pointer;\n",
              "      display: none;\n",
              "      fill: #1967D2;\n",
              "      height: 32px;\n",
              "      padding: 0 0 0 0;\n",
              "      width: 32px;\n",
              "    }\n",
              "\n",
              "    .colab-df-convert:hover {\n",
              "      background-color: #E2EBFA;\n",
              "      box-shadow: 0px 1px 2px rgba(60, 64, 67, 0.3), 0px 1px 3px 1px rgba(60, 64, 67, 0.15);\n",
              "      fill: #174EA6;\n",
              "    }\n",
              "\n",
              "    [theme=dark] .colab-df-convert {\n",
              "      background-color: #3B4455;\n",
              "      fill: #D2E3FC;\n",
              "    }\n",
              "\n",
              "    [theme=dark] .colab-df-convert:hover {\n",
              "      background-color: #434B5C;\n",
              "      box-shadow: 0px 1px 3px 1px rgba(0, 0, 0, 0.15);\n",
              "      filter: drop-shadow(0px 1px 2px rgba(0, 0, 0, 0.3));\n",
              "      fill: #FFFFFF;\n",
              "    }\n",
              "  </style>\n",
              "\n",
              "      <script>\n",
              "        const buttonEl =\n",
              "          document.querySelector('#df-267133a2-a7c6-423e-b2a2-ef214399e31a button.colab-df-convert');\n",
              "        buttonEl.style.display =\n",
              "          google.colab.kernel.accessAllowed ? 'block' : 'none';\n",
              "\n",
              "        async function convertToInteractive(key) {\n",
              "          const element = document.querySelector('#df-267133a2-a7c6-423e-b2a2-ef214399e31a');\n",
              "          const dataTable =\n",
              "            await google.colab.kernel.invokeFunction('convertToInteractive',\n",
              "                                                     [key], {});\n",
              "          if (!dataTable) return;\n",
              "\n",
              "          const docLinkHtml = 'Like what you see? Visit the ' +\n",
              "            '<a target=\"_blank\" href=https://colab.research.google.com/notebooks/data_table.ipynb>data table notebook</a>'\n",
              "            + ' to learn more about interactive tables.';\n",
              "          element.innerHTML = '';\n",
              "          dataTable['output_type'] = 'display_data';\n",
              "          await google.colab.output.renderOutput(dataTable, element);\n",
              "          const docLink = document.createElement('div');\n",
              "          docLink.innerHTML = docLinkHtml;\n",
              "          element.appendChild(docLink);\n",
              "        }\n",
              "      </script>\n",
              "    </div>\n",
              "  </div>\n",
              "  "
            ]
          },
          "metadata": {},
          "execution_count": 3
        }
      ]
    },
    {
      "cell_type": "code",
      "source": [
        "# trimmed mean\n",
        "from scipy.stats import trim_mean\n",
        "trim_mean(us_associates_df[\"COSTT4_A\"], 0.1)"
      ],
      "metadata": {
        "colab": {
          "base_uri": "https://localhost:8080/"
        },
        "id": "xj7hZ37pnbwD",
        "outputId": "dc5d340e-8c70-437b-b0a4-1e9822f66505"
      },
      "execution_count": null,
      "outputs": [
        {
          "output_type": "execute_result",
          "data": {
            "text/plain": [
              "16235.325804558792"
            ]
          },
          "metadata": {},
          "execution_count": 4
        }
      ]
    },
    {
      "cell_type": "code",
      "source": [
        "# Median\n",
        "us_associates_df[\"COSTT4_A\"].median()"
      ],
      "metadata": {
        "colab": {
          "base_uri": "https://localhost:8080/"
        },
        "id": "yKeL-ZounyGK",
        "outputId": "0dc0dd30-cf5a-48d9-8e83-b01cf3c4d349"
      },
      "execution_count": null,
      "outputs": [
        {
          "output_type": "execute_result",
          "data": {
            "text/plain": [
              "14379.0"
            ]
          },
          "metadata": {},
          "execution_count": 5
        }
      ]
    },
    {
      "cell_type": "code",
      "source": [
        "# mode\n",
        "us_associates_df[\"COSTT4_A\"].mode()"
      ],
      "metadata": {
        "colab": {
          "base_uri": "https://localhost:8080/"
        },
        "id": "I50KbPrnoXcI",
        "outputId": "729827bf-dc2d-463b-d84a-c6f781aabd97"
      },
      "execution_count": null,
      "outputs": [
        {
          "output_type": "execute_result",
          "data": {
            "text/plain": [
              "0    11349.0\n",
              "dtype: float64"
            ]
          },
          "metadata": {},
          "execution_count": 6
        }
      ]
    },
    {
      "cell_type": "code",
      "source": [
        "us_bachelors_df = df[df[\"HIGHDEG\"] == 3].copy()\n",
        "us_bachelors_df.describe().transpose()"
      ],
      "metadata": {
        "colab": {
          "base_uri": "https://localhost:8080/",
          "height": 363
        },
        "id": "251H2Mmsl6sn",
        "outputId": "a48f07eb-c535-4a9f-8698-c3d66df26a2f"
      },
      "execution_count": null,
      "outputs": [
        {
          "output_type": "execute_result",
          "data": {
            "text/plain": [
              "                count           mean            std       min            25%  \\\n",
              "UNITID          687.0  254633.224163  128266.251175  100937.0  157447.000000   \n",
              "HIGHDEG         687.0       3.000000       0.000000       3.0       3.000000   \n",
              "CONTROL         687.0       1.919942       0.675041       1.0       1.000000   \n",
              "REGION          687.0       4.427948       2.174656       0.0       2.000000   \n",
              "COSTT4_A        687.0   29524.097738   16391.918654    6525.0   17182.000000   \n",
              "TUITIONFEE_IN   687.0   18241.374090   14495.518529     480.0    7690.000000   \n",
              "TUITIONFEE_OUT  687.0   20162.736293   13494.368114     480.0   10583.166667   \n",
              "TUITFTE         687.0   12165.744541    8722.859421       0.0    5815.500000   \n",
              "INEXPFTE        687.0    9462.368268    8613.261678     209.0    4780.500000   \n",
              "AVGFACSAL       687.0    6377.887686    2293.100696     527.0    4903.000000   \n",
              "\n",
              "                     50%       75%       max  \n",
              "UNITID          203535.0  384337.5  494737.0  \n",
              "HIGHDEG              3.0       3.0       3.0  \n",
              "CONTROL              2.0       2.0       3.0  \n",
              "REGION               5.0       6.0       8.0  \n",
              "COSTT4_A         25406.0   36471.5   76953.0  \n",
              "TUITIONFEE_IN    14354.0   23274.5   58800.0  \n",
              "TUITIONFEE_OUT   15477.0   24855.5   58800.0  \n",
              "TUITFTE          10875.0   17064.5   66251.0  \n",
              "INEXPFTE          6948.0   11032.0   94758.0  \n",
              "AVGFACSAL         6133.0    7679.5   14733.0  "
            ],
            "text/html": [
              "\n",
              "  <div id=\"df-013b0060-d01d-4e02-8f49-5287fdb5b116\">\n",
              "    <div class=\"colab-df-container\">\n",
              "      <div>\n",
              "<style scoped>\n",
              "    .dataframe tbody tr th:only-of-type {\n",
              "        vertical-align: middle;\n",
              "    }\n",
              "\n",
              "    .dataframe tbody tr th {\n",
              "        vertical-align: top;\n",
              "    }\n",
              "\n",
              "    .dataframe thead th {\n",
              "        text-align: right;\n",
              "    }\n",
              "</style>\n",
              "<table border=\"1\" class=\"dataframe\">\n",
              "  <thead>\n",
              "    <tr style=\"text-align: right;\">\n",
              "      <th></th>\n",
              "      <th>count</th>\n",
              "      <th>mean</th>\n",
              "      <th>std</th>\n",
              "      <th>min</th>\n",
              "      <th>25%</th>\n",
              "      <th>50%</th>\n",
              "      <th>75%</th>\n",
              "      <th>max</th>\n",
              "    </tr>\n",
              "  </thead>\n",
              "  <tbody>\n",
              "    <tr>\n",
              "      <th>UNITID</th>\n",
              "      <td>687.0</td>\n",
              "      <td>254633.224163</td>\n",
              "      <td>128266.251175</td>\n",
              "      <td>100937.0</td>\n",
              "      <td>157447.000000</td>\n",
              "      <td>203535.0</td>\n",
              "      <td>384337.5</td>\n",
              "      <td>494737.0</td>\n",
              "    </tr>\n",
              "    <tr>\n",
              "      <th>HIGHDEG</th>\n",
              "      <td>687.0</td>\n",
              "      <td>3.000000</td>\n",
              "      <td>0.000000</td>\n",
              "      <td>3.0</td>\n",
              "      <td>3.000000</td>\n",
              "      <td>3.0</td>\n",
              "      <td>3.0</td>\n",
              "      <td>3.0</td>\n",
              "    </tr>\n",
              "    <tr>\n",
              "      <th>CONTROL</th>\n",
              "      <td>687.0</td>\n",
              "      <td>1.919942</td>\n",
              "      <td>0.675041</td>\n",
              "      <td>1.0</td>\n",
              "      <td>1.000000</td>\n",
              "      <td>2.0</td>\n",
              "      <td>2.0</td>\n",
              "      <td>3.0</td>\n",
              "    </tr>\n",
              "    <tr>\n",
              "      <th>REGION</th>\n",
              "      <td>687.0</td>\n",
              "      <td>4.427948</td>\n",
              "      <td>2.174656</td>\n",
              "      <td>0.0</td>\n",
              "      <td>2.000000</td>\n",
              "      <td>5.0</td>\n",
              "      <td>6.0</td>\n",
              "      <td>8.0</td>\n",
              "    </tr>\n",
              "    <tr>\n",
              "      <th>COSTT4_A</th>\n",
              "      <td>687.0</td>\n",
              "      <td>29524.097738</td>\n",
              "      <td>16391.918654</td>\n",
              "      <td>6525.0</td>\n",
              "      <td>17182.000000</td>\n",
              "      <td>25406.0</td>\n",
              "      <td>36471.5</td>\n",
              "      <td>76953.0</td>\n",
              "    </tr>\n",
              "    <tr>\n",
              "      <th>TUITIONFEE_IN</th>\n",
              "      <td>687.0</td>\n",
              "      <td>18241.374090</td>\n",
              "      <td>14495.518529</td>\n",
              "      <td>480.0</td>\n",
              "      <td>7690.000000</td>\n",
              "      <td>14354.0</td>\n",
              "      <td>23274.5</td>\n",
              "      <td>58800.0</td>\n",
              "    </tr>\n",
              "    <tr>\n",
              "      <th>TUITIONFEE_OUT</th>\n",
              "      <td>687.0</td>\n",
              "      <td>20162.736293</td>\n",
              "      <td>13494.368114</td>\n",
              "      <td>480.0</td>\n",
              "      <td>10583.166667</td>\n",
              "      <td>15477.0</td>\n",
              "      <td>24855.5</td>\n",
              "      <td>58800.0</td>\n",
              "    </tr>\n",
              "    <tr>\n",
              "      <th>TUITFTE</th>\n",
              "      <td>687.0</td>\n",
              "      <td>12165.744541</td>\n",
              "      <td>8722.859421</td>\n",
              "      <td>0.0</td>\n",
              "      <td>5815.500000</td>\n",
              "      <td>10875.0</td>\n",
              "      <td>17064.5</td>\n",
              "      <td>66251.0</td>\n",
              "    </tr>\n",
              "    <tr>\n",
              "      <th>INEXPFTE</th>\n",
              "      <td>687.0</td>\n",
              "      <td>9462.368268</td>\n",
              "      <td>8613.261678</td>\n",
              "      <td>209.0</td>\n",
              "      <td>4780.500000</td>\n",
              "      <td>6948.0</td>\n",
              "      <td>11032.0</td>\n",
              "      <td>94758.0</td>\n",
              "    </tr>\n",
              "    <tr>\n",
              "      <th>AVGFACSAL</th>\n",
              "      <td>687.0</td>\n",
              "      <td>6377.887686</td>\n",
              "      <td>2293.100696</td>\n",
              "      <td>527.0</td>\n",
              "      <td>4903.000000</td>\n",
              "      <td>6133.0</td>\n",
              "      <td>7679.5</td>\n",
              "      <td>14733.0</td>\n",
              "    </tr>\n",
              "  </tbody>\n",
              "</table>\n",
              "</div>\n",
              "      <button class=\"colab-df-convert\" onclick=\"convertToInteractive('df-013b0060-d01d-4e02-8f49-5287fdb5b116')\"\n",
              "              title=\"Convert this dataframe to an interactive table.\"\n",
              "              style=\"display:none;\">\n",
              "        \n",
              "  <svg xmlns=\"http://www.w3.org/2000/svg\" height=\"24px\"viewBox=\"0 0 24 24\"\n",
              "       width=\"24px\">\n",
              "    <path d=\"M0 0h24v24H0V0z\" fill=\"none\"/>\n",
              "    <path d=\"M18.56 5.44l.94 2.06.94-2.06 2.06-.94-2.06-.94-.94-2.06-.94 2.06-2.06.94zm-11 1L8.5 8.5l.94-2.06 2.06-.94-2.06-.94L8.5 2.5l-.94 2.06-2.06.94zm10 10l.94 2.06.94-2.06 2.06-.94-2.06-.94-.94-2.06-.94 2.06-2.06.94z\"/><path d=\"M17.41 7.96l-1.37-1.37c-.4-.4-.92-.59-1.43-.59-.52 0-1.04.2-1.43.59L10.3 9.45l-7.72 7.72c-.78.78-.78 2.05 0 2.83L4 21.41c.39.39.9.59 1.41.59.51 0 1.02-.2 1.41-.59l7.78-7.78 2.81-2.81c.8-.78.8-2.07 0-2.86zM5.41 20L4 18.59l7.72-7.72 1.47 1.35L5.41 20z\"/>\n",
              "  </svg>\n",
              "      </button>\n",
              "      \n",
              "  <style>\n",
              "    .colab-df-container {\n",
              "      display:flex;\n",
              "      flex-wrap:wrap;\n",
              "      gap: 12px;\n",
              "    }\n",
              "\n",
              "    .colab-df-convert {\n",
              "      background-color: #E8F0FE;\n",
              "      border: none;\n",
              "      border-radius: 50%;\n",
              "      cursor: pointer;\n",
              "      display: none;\n",
              "      fill: #1967D2;\n",
              "      height: 32px;\n",
              "      padding: 0 0 0 0;\n",
              "      width: 32px;\n",
              "    }\n",
              "\n",
              "    .colab-df-convert:hover {\n",
              "      background-color: #E2EBFA;\n",
              "      box-shadow: 0px 1px 2px rgba(60, 64, 67, 0.3), 0px 1px 3px 1px rgba(60, 64, 67, 0.15);\n",
              "      fill: #174EA6;\n",
              "    }\n",
              "\n",
              "    [theme=dark] .colab-df-convert {\n",
              "      background-color: #3B4455;\n",
              "      fill: #D2E3FC;\n",
              "    }\n",
              "\n",
              "    [theme=dark] .colab-df-convert:hover {\n",
              "      background-color: #434B5C;\n",
              "      box-shadow: 0px 1px 3px 1px rgba(0, 0, 0, 0.15);\n",
              "      filter: drop-shadow(0px 1px 2px rgba(0, 0, 0, 0.3));\n",
              "      fill: #FFFFFF;\n",
              "    }\n",
              "  </style>\n",
              "\n",
              "      <script>\n",
              "        const buttonEl =\n",
              "          document.querySelector('#df-013b0060-d01d-4e02-8f49-5287fdb5b116 button.colab-df-convert');\n",
              "        buttonEl.style.display =\n",
              "          google.colab.kernel.accessAllowed ? 'block' : 'none';\n",
              "\n",
              "        async function convertToInteractive(key) {\n",
              "          const element = document.querySelector('#df-013b0060-d01d-4e02-8f49-5287fdb5b116');\n",
              "          const dataTable =\n",
              "            await google.colab.kernel.invokeFunction('convertToInteractive',\n",
              "                                                     [key], {});\n",
              "          if (!dataTable) return;\n",
              "\n",
              "          const docLinkHtml = 'Like what you see? Visit the ' +\n",
              "            '<a target=\"_blank\" href=https://colab.research.google.com/notebooks/data_table.ipynb>data table notebook</a>'\n",
              "            + ' to learn more about interactive tables.';\n",
              "          element.innerHTML = '';\n",
              "          dataTable['output_type'] = 'display_data';\n",
              "          await google.colab.output.renderOutput(dataTable, element);\n",
              "          const docLink = document.createElement('div');\n",
              "          docLink.innerHTML = docLinkHtml;\n",
              "          element.appendChild(docLink);\n",
              "        }\n",
              "      </script>\n",
              "    </div>\n",
              "  </div>\n",
              "  "
            ]
          },
          "metadata": {},
          "execution_count": 7
        }
      ]
    },
    {
      "cell_type": "markdown",
      "source": [
        "# Descriptive Statistics"
      ],
      "metadata": {
        "id": "qqpDYQgxoyyW"
      }
    },
    {
      "cell_type": "code",
      "source": [
        "# trimmed mean\n",
        "trim_mean(us_bachelors_df[\"COSTT4_A\"], 0.1)"
      ],
      "metadata": {
        "colab": {
          "base_uri": "https://localhost:8080/"
        },
        "id": "Sj72wwk-oCjQ",
        "outputId": "5e920b4a-cb87-417a-cab6-ce0f0c092f94"
      },
      "execution_count": null,
      "outputs": [
        {
          "output_type": "execute_result",
          "data": {
            "text/plain": [
              "27326.264071182013"
            ]
          },
          "metadata": {},
          "execution_count": 8
        }
      ]
    },
    {
      "cell_type": "code",
      "source": [
        "# median\n",
        "us_bachelors_df[\"COSTT4_A\"].median()"
      ],
      "metadata": {
        "colab": {
          "base_uri": "https://localhost:8080/"
        },
        "id": "7h2zsoubnwyK",
        "outputId": "e62083f8-9eaf-47ef-c0c9-d89c89f95330"
      },
      "execution_count": null,
      "outputs": [
        {
          "output_type": "execute_result",
          "data": {
            "text/plain": [
              "25406.0"
            ]
          },
          "metadata": {},
          "execution_count": 9
        }
      ]
    },
    {
      "cell_type": "code",
      "source": [
        "# mode\n",
        "us_bachelors_df[\"COSTT4_A\"].mode()"
      ],
      "metadata": {
        "colab": {
          "base_uri": "https://localhost:8080/"
        },
        "id": "vjJAxz4XodUh",
        "outputId": "cc02c964-b534-446c-ccd7-3bb454c9b73c"
      },
      "execution_count": null,
      "outputs": [
        {
          "output_type": "execute_result",
          "data": {
            "text/plain": [
              "0    23766.0\n",
              "1    39815.0\n",
              "dtype: float64"
            ]
          },
          "metadata": {},
          "execution_count": 10
        }
      ]
    },
    {
      "cell_type": "code",
      "source": [
        "us_graduate_df = df[df[\"HIGHDEG\"] == 4].copy()\n",
        "us_graduate_df.describe().transpose()"
      ],
      "metadata": {
        "colab": {
          "base_uri": "https://localhost:8080/",
          "height": 363
        },
        "id": "qVpcQDacl61c",
        "outputId": "e4c29fec-577b-44b8-c395-637cea1d5d8d"
      },
      "execution_count": null,
      "outputs": [
        {
          "output_type": "execute_result",
          "data": {
            "text/plain": [
              "                 count           mean            std       min         25%  \\\n",
              "UNITID          1942.0  224523.328012  109039.240685  100654.0  155034.000   \n",
              "HIGHDEG         1942.0       4.000000       0.000000       4.0       4.000   \n",
              "CONTROL         1942.0       1.804325       0.587366       1.0       1.000   \n",
              "REGION          1942.0       4.296601       2.158238       0.0       2.000   \n",
              "COSTT4_A        1942.0   34549.525610   15387.463847    8588.0   22257.500   \n",
              "TUITIONFEE_IN   1942.0   21698.556079   14158.590320    1050.0    9630.500   \n",
              "TUITIONFEE_OUT  1942.0   25401.629706   12547.929869    1050.0   15442.500   \n",
              "TUITFTE         1942.0   15210.801493   13855.235338       0.0    8549.250   \n",
              "INEXPFTE        1942.0   13366.909629   21691.310460       0.0    6586.250   \n",
              "AVGFACSAL       1942.0    7900.101129    2705.003833     538.0    6234.875   \n",
              "\n",
              "                     50%        75%       max  \n",
              "UNITID          195088.5  229008.75  494551.0  \n",
              "HIGHDEG              4.0       4.00       4.0  \n",
              "CONTROL              2.0       2.00       3.0  \n",
              "REGION               4.0       6.00       8.0  \n",
              "COSTT4_A         29900.0   44684.00   78555.0  \n",
              "TUITIONFEE_IN    16876.0   31909.00   61788.0  \n",
              "TUITIONFEE_OUT   23378.0   33419.00   61788.0  \n",
              "TUITFTE          12911.5   18581.75  440373.0  \n",
              "INEXPFTE          9201.0   13403.50  497549.0  \n",
              "AVGFACSAL         7544.0    9264.75   21150.0  "
            ],
            "text/html": [
              "\n",
              "  <div id=\"df-10653114-59e5-4cc0-899a-3965a22277ab\">\n",
              "    <div class=\"colab-df-container\">\n",
              "      <div>\n",
              "<style scoped>\n",
              "    .dataframe tbody tr th:only-of-type {\n",
              "        vertical-align: middle;\n",
              "    }\n",
              "\n",
              "    .dataframe tbody tr th {\n",
              "        vertical-align: top;\n",
              "    }\n",
              "\n",
              "    .dataframe thead th {\n",
              "        text-align: right;\n",
              "    }\n",
              "</style>\n",
              "<table border=\"1\" class=\"dataframe\">\n",
              "  <thead>\n",
              "    <tr style=\"text-align: right;\">\n",
              "      <th></th>\n",
              "      <th>count</th>\n",
              "      <th>mean</th>\n",
              "      <th>std</th>\n",
              "      <th>min</th>\n",
              "      <th>25%</th>\n",
              "      <th>50%</th>\n",
              "      <th>75%</th>\n",
              "      <th>max</th>\n",
              "    </tr>\n",
              "  </thead>\n",
              "  <tbody>\n",
              "    <tr>\n",
              "      <th>UNITID</th>\n",
              "      <td>1942.0</td>\n",
              "      <td>224523.328012</td>\n",
              "      <td>109039.240685</td>\n",
              "      <td>100654.0</td>\n",
              "      <td>155034.000</td>\n",
              "      <td>195088.5</td>\n",
              "      <td>229008.75</td>\n",
              "      <td>494551.0</td>\n",
              "    </tr>\n",
              "    <tr>\n",
              "      <th>HIGHDEG</th>\n",
              "      <td>1942.0</td>\n",
              "      <td>4.000000</td>\n",
              "      <td>0.000000</td>\n",
              "      <td>4.0</td>\n",
              "      <td>4.000</td>\n",
              "      <td>4.0</td>\n",
              "      <td>4.00</td>\n",
              "      <td>4.0</td>\n",
              "    </tr>\n",
              "    <tr>\n",
              "      <th>CONTROL</th>\n",
              "      <td>1942.0</td>\n",
              "      <td>1.804325</td>\n",
              "      <td>0.587366</td>\n",
              "      <td>1.0</td>\n",
              "      <td>1.000</td>\n",
              "      <td>2.0</td>\n",
              "      <td>2.00</td>\n",
              "      <td>3.0</td>\n",
              "    </tr>\n",
              "    <tr>\n",
              "      <th>REGION</th>\n",
              "      <td>1942.0</td>\n",
              "      <td>4.296601</td>\n",
              "      <td>2.158238</td>\n",
              "      <td>0.0</td>\n",
              "      <td>2.000</td>\n",
              "      <td>4.0</td>\n",
              "      <td>6.00</td>\n",
              "      <td>8.0</td>\n",
              "    </tr>\n",
              "    <tr>\n",
              "      <th>COSTT4_A</th>\n",
              "      <td>1942.0</td>\n",
              "      <td>34549.525610</td>\n",
              "      <td>15387.463847</td>\n",
              "      <td>8588.0</td>\n",
              "      <td>22257.500</td>\n",
              "      <td>29900.0</td>\n",
              "      <td>44684.00</td>\n",
              "      <td>78555.0</td>\n",
              "    </tr>\n",
              "    <tr>\n",
              "      <th>TUITIONFEE_IN</th>\n",
              "      <td>1942.0</td>\n",
              "      <td>21698.556079</td>\n",
              "      <td>14158.590320</td>\n",
              "      <td>1050.0</td>\n",
              "      <td>9630.500</td>\n",
              "      <td>16876.0</td>\n",
              "      <td>31909.00</td>\n",
              "      <td>61788.0</td>\n",
              "    </tr>\n",
              "    <tr>\n",
              "      <th>TUITIONFEE_OUT</th>\n",
              "      <td>1942.0</td>\n",
              "      <td>25401.629706</td>\n",
              "      <td>12547.929869</td>\n",
              "      <td>1050.0</td>\n",
              "      <td>15442.500</td>\n",
              "      <td>23378.0</td>\n",
              "      <td>33419.00</td>\n",
              "      <td>61788.0</td>\n",
              "    </tr>\n",
              "    <tr>\n",
              "      <th>TUITFTE</th>\n",
              "      <td>1942.0</td>\n",
              "      <td>15210.801493</td>\n",
              "      <td>13855.235338</td>\n",
              "      <td>0.0</td>\n",
              "      <td>8549.250</td>\n",
              "      <td>12911.5</td>\n",
              "      <td>18581.75</td>\n",
              "      <td>440373.0</td>\n",
              "    </tr>\n",
              "    <tr>\n",
              "      <th>INEXPFTE</th>\n",
              "      <td>1942.0</td>\n",
              "      <td>13366.909629</td>\n",
              "      <td>21691.310460</td>\n",
              "      <td>0.0</td>\n",
              "      <td>6586.250</td>\n",
              "      <td>9201.0</td>\n",
              "      <td>13403.50</td>\n",
              "      <td>497549.0</td>\n",
              "    </tr>\n",
              "    <tr>\n",
              "      <th>AVGFACSAL</th>\n",
              "      <td>1942.0</td>\n",
              "      <td>7900.101129</td>\n",
              "      <td>2705.003833</td>\n",
              "      <td>538.0</td>\n",
              "      <td>6234.875</td>\n",
              "      <td>7544.0</td>\n",
              "      <td>9264.75</td>\n",
              "      <td>21150.0</td>\n",
              "    </tr>\n",
              "  </tbody>\n",
              "</table>\n",
              "</div>\n",
              "      <button class=\"colab-df-convert\" onclick=\"convertToInteractive('df-10653114-59e5-4cc0-899a-3965a22277ab')\"\n",
              "              title=\"Convert this dataframe to an interactive table.\"\n",
              "              style=\"display:none;\">\n",
              "        \n",
              "  <svg xmlns=\"http://www.w3.org/2000/svg\" height=\"24px\"viewBox=\"0 0 24 24\"\n",
              "       width=\"24px\">\n",
              "    <path d=\"M0 0h24v24H0V0z\" fill=\"none\"/>\n",
              "    <path d=\"M18.56 5.44l.94 2.06.94-2.06 2.06-.94-2.06-.94-.94-2.06-.94 2.06-2.06.94zm-11 1L8.5 8.5l.94-2.06 2.06-.94-2.06-.94L8.5 2.5l-.94 2.06-2.06.94zm10 10l.94 2.06.94-2.06 2.06-.94-2.06-.94-.94-2.06-.94 2.06-2.06.94z\"/><path d=\"M17.41 7.96l-1.37-1.37c-.4-.4-.92-.59-1.43-.59-.52 0-1.04.2-1.43.59L10.3 9.45l-7.72 7.72c-.78.78-.78 2.05 0 2.83L4 21.41c.39.39.9.59 1.41.59.51 0 1.02-.2 1.41-.59l7.78-7.78 2.81-2.81c.8-.78.8-2.07 0-2.86zM5.41 20L4 18.59l7.72-7.72 1.47 1.35L5.41 20z\"/>\n",
              "  </svg>\n",
              "      </button>\n",
              "      \n",
              "  <style>\n",
              "    .colab-df-container {\n",
              "      display:flex;\n",
              "      flex-wrap:wrap;\n",
              "      gap: 12px;\n",
              "    }\n",
              "\n",
              "    .colab-df-convert {\n",
              "      background-color: #E8F0FE;\n",
              "      border: none;\n",
              "      border-radius: 50%;\n",
              "      cursor: pointer;\n",
              "      display: none;\n",
              "      fill: #1967D2;\n",
              "      height: 32px;\n",
              "      padding: 0 0 0 0;\n",
              "      width: 32px;\n",
              "    }\n",
              "\n",
              "    .colab-df-convert:hover {\n",
              "      background-color: #E2EBFA;\n",
              "      box-shadow: 0px 1px 2px rgba(60, 64, 67, 0.3), 0px 1px 3px 1px rgba(60, 64, 67, 0.15);\n",
              "      fill: #174EA6;\n",
              "    }\n",
              "\n",
              "    [theme=dark] .colab-df-convert {\n",
              "      background-color: #3B4455;\n",
              "      fill: #D2E3FC;\n",
              "    }\n",
              "\n",
              "    [theme=dark] .colab-df-convert:hover {\n",
              "      background-color: #434B5C;\n",
              "      box-shadow: 0px 1px 3px 1px rgba(0, 0, 0, 0.15);\n",
              "      filter: drop-shadow(0px 1px 2px rgba(0, 0, 0, 0.3));\n",
              "      fill: #FFFFFF;\n",
              "    }\n",
              "  </style>\n",
              "\n",
              "      <script>\n",
              "        const buttonEl =\n",
              "          document.querySelector('#df-10653114-59e5-4cc0-899a-3965a22277ab button.colab-df-convert');\n",
              "        buttonEl.style.display =\n",
              "          google.colab.kernel.accessAllowed ? 'block' : 'none';\n",
              "\n",
              "        async function convertToInteractive(key) {\n",
              "          const element = document.querySelector('#df-10653114-59e5-4cc0-899a-3965a22277ab');\n",
              "          const dataTable =\n",
              "            await google.colab.kernel.invokeFunction('convertToInteractive',\n",
              "                                                     [key], {});\n",
              "          if (!dataTable) return;\n",
              "\n",
              "          const docLinkHtml = 'Like what you see? Visit the ' +\n",
              "            '<a target=\"_blank\" href=https://colab.research.google.com/notebooks/data_table.ipynb>data table notebook</a>'\n",
              "            + ' to learn more about interactive tables.';\n",
              "          element.innerHTML = '';\n",
              "          dataTable['output_type'] = 'display_data';\n",
              "          await google.colab.output.renderOutput(dataTable, element);\n",
              "          const docLink = document.createElement('div');\n",
              "          docLink.innerHTML = docLinkHtml;\n",
              "          element.appendChild(docLink);\n",
              "        }\n",
              "      </script>\n",
              "    </div>\n",
              "  </div>\n",
              "  "
            ]
          },
          "metadata": {},
          "execution_count": 11
        }
      ]
    },
    {
      "cell_type": "code",
      "source": [
        "# trimmed mean\n",
        "trim_mean(us_graduate_df[\"COSTT4_A\"], 0.1)"
      ],
      "metadata": {
        "colab": {
          "base_uri": "https://localhost:8080/"
        },
        "id": "vGvoioFwnxRK",
        "outputId": "f3b6134b-5ee9-40e4-a890-e9406a98ed9b"
      },
      "execution_count": null,
      "outputs": [
        {
          "output_type": "execute_result",
          "data": {
            "text/plain": [
              "33010.57432633714"
            ]
          },
          "metadata": {},
          "execution_count": 12
        }
      ]
    },
    {
      "cell_type": "code",
      "source": [
        "# median\n",
        "us_graduate_df[\"COSTT4_A\"].median()"
      ],
      "metadata": {
        "colab": {
          "base_uri": "https://localhost:8080/"
        },
        "id": "lxsbPRpPo4Nw",
        "outputId": "6a84a3a4-192c-45ac-9a8f-99629d7de082"
      },
      "execution_count": null,
      "outputs": [
        {
          "output_type": "execute_result",
          "data": {
            "text/plain": [
              "29900.0"
            ]
          },
          "metadata": {},
          "execution_count": 13
        }
      ]
    },
    {
      "cell_type": "code",
      "source": [
        "# mode\n",
        "us_graduate_df[\"COSTT4_A\"].mode()"
      ],
      "metadata": {
        "colab": {
          "base_uri": "https://localhost:8080/"
        },
        "id": "ajy5GHjoo9o4",
        "outputId": "7cf7c67a-0a77-41ac-fd97-cf75247ff9a8"
      },
      "execution_count": null,
      "outputs": [
        {
          "output_type": "execute_result",
          "data": {
            "text/plain": [
              "0    28149.0\n",
              "dtype: float64"
            ]
          },
          "metadata": {},
          "execution_count": 14
        }
      ]
    },
    {
      "cell_type": "markdown",
      "source": [
        "### Descriptives:\n",
        "The mean/median/mode cost of attendance for one year at an instituiton which primarily confers:\n",
        "1. Associates degrees: 17,667 / 14,379 / 11,349\n",
        "2. Bachelors degrees: 29,529 / $25,406 / 23,776\n",
        "3. Graduate degrees: 34,549 / 29,990 / 28,149"
      ],
      "metadata": {
        "id": "f58GXemFmT_1"
      }
    },
    {
      "cell_type": "code",
      "source": [
        "us_associates_df[\"COSTT4_A\"].hist(bins=50)"
      ],
      "metadata": {
        "colab": {
          "base_uri": "https://localhost:8080/"
        },
        "id": "kSO7WhmXmSn8",
        "outputId": "3f8f9ad8-401b-45cd-b4a1-c26e88bb287d"
      },
      "execution_count": null,
      "outputs": [
        {
          "output_type": "execute_result",
          "data": {
            "text/plain": [
              "<matplotlib.axes._subplots.AxesSubplot at 0x7f9874c5d290>"
            ]
          },
          "metadata": {},
          "execution_count": 15
        },
        {
          "output_type": "display_data",
          "data": {
            "text/plain": [
              "<Figure size 432x288 with 1 Axes>"
            ],
            "image/png": "[encoded data removed]"
          },
          "metadata": {
            "needs_background": "light"
          }
        }
      ]
    },
    {
      "cell_type": "code",
      "source": [
        "us_bachelors_df[\"COSTT4_A\"].hist(bins=40)"
      ],
      "metadata": {
        "colab": {
          "base_uri": "https://localhost:8080/"
        },
        "id": "hbj0Trb2ppYU",
        "outputId": "1a801918-a415-432e-8aa9-7c9a3a7ad10e"
      },
      "execution_count": null,
      "outputs": [
        {
          "output_type": "execute_result",
          "data": {
            "text/plain": [
              "<matplotlib.axes._subplots.AxesSubplot at 0x7f9874bd3650>"
            ]
          },
          "metadata": {},
          "execution_count": 16
        },
        {
          "output_type": "display_data",
          "data": {
            "text/plain": [
              "<Figure size 432x288 with 1 Axes>"
            ],
            "image/png": "[encoded data removed]"
          },
          "metadata": {
            "needs_background": "light"
          }
        }
      ]
    },
    {
      "cell_type": "code",
      "source": [
        "us_graduate_df[\"COSTT4_A\"].hist(bins=40)"
      ],
      "metadata": {
        "id": "6jogyfPIp2tU",
        "colab": {
          "base_uri": "https://localhost:8080/"
        },
        "outputId": "a4a58764-c881-4f79-e96d-8a242639457d"
      },
      "execution_count": null,
      "outputs": [
        {
          "output_type": "execute_result",
          "data": {
            "text/plain": [
              "<matplotlib.axes._subplots.AxesSubplot at 0x7f98745887d0>"
            ]
          },
          "metadata": {},
          "execution_count": 17
        },
        {
          "output_type": "display_data",
          "data": {
            "text/plain": [
              "<Figure size 432x288 with 1 Axes>"
            ],
            "image/png": "[encoded data removed]"
          },
          "metadata": {
            "needs_background": "light"
          }
        }
      ]
    },
    {
      "cell_type": "code",
      "source": [
        "#What is the variance in the cost of attendance?\n",
        "from statistics import variance\n",
        "\n",
        "variance(us_associates_df[\"COSTT4_A\"])"
      ],
      "metadata": {
        "colab": {
          "base_uri": "https://localhost:8080/"
        },
        "id": "-adr--ncwN_i",
        "outputId": "8b91105f-921a-47b1-cefb-705a5744815f"
      },
      "execution_count": null,
      "outputs": [
        {
          "output_type": "execute_result",
          "data": {
            "text/plain": [
              "74765524.28360748"
            ]
          },
          "metadata": {},
          "execution_count": 18
        }
      ]
    },
    {
      "cell_type": "code",
      "source": [
        "variance(us_bachelors_df[\"COSTT4_A\"])"
      ],
      "metadata": {
        "colab": {
          "base_uri": "https://localhost:8080/"
        },
        "id": "y4wvdxcJx_YO",
        "outputId": "da872c38-0b3f-4d3e-b63a-e5bcbe7451a5"
      },
      "execution_count": null,
      "outputs": [
        {
          "output_type": "execute_result",
          "data": {
            "text/plain": [
              "268694997.1605992"
            ]
          },
          "metadata": {},
          "execution_count": 19
        }
      ]
    },
    {
      "cell_type": "code",
      "source": [
        "variance(us_graduate_df[\"COSTT4_A\"])"
      ],
      "metadata": {
        "colab": {
          "base_uri": "https://localhost:8080/"
        },
        "id": "wUyhxfcByEmd",
        "outputId": "676054c7-8089-4239-aa14-6114614b60cd"
      },
      "execution_count": null,
      "outputs": [
        {
          "output_type": "execute_result",
          "data": {
            "text/plain": [
              "236774043.6472517"
            ]
          },
          "metadata": {},
          "execution_count": 20
        }
      ]
    },
    {
      "cell_type": "code",
      "source": [
        "#Standard deviation\n",
        "from statistics import stdev\n",
        "\n",
        "stdev(us_associates_df[\"COSTT4_A\"])"
      ],
      "metadata": {
        "colab": {
          "base_uri": "https://localhost:8080/"
        },
        "id": "E3cxGpXXyG8C",
        "outputId": "afd088ae-31aa-4a0f-9a3a-2e62fc30319c"
      },
      "execution_count": null,
      "outputs": [
        {
          "output_type": "execute_result",
          "data": {
            "text/plain": [
              "8646.705978787963"
            ]
          },
          "metadata": {},
          "execution_count": 21
        }
      ]
    },
    {
      "cell_type": "code",
      "source": [
        "stdev(us_bachelors_df[\"COSTT4_A\"])"
      ],
      "metadata": {
        "colab": {
          "base_uri": "https://localhost:8080/"
        },
        "id": "AYKDdUy6yLFC",
        "outputId": "b95dcb8c-59a8-4e79-e26b-bb481cc118ed"
      },
      "execution_count": null,
      "outputs": [
        {
          "output_type": "execute_result",
          "data": {
            "text/plain": [
              "16391.918654038007"
            ]
          },
          "metadata": {},
          "execution_count": 22
        }
      ]
    },
    {
      "cell_type": "code",
      "source": [
        "stdev(us_graduate_df[\"COSTT4_A\"])"
      ],
      "metadata": {
        "colab": {
          "base_uri": "https://localhost:8080/"
        },
        "id": "yRs76yhnyVKx",
        "outputId": "67ab9d87-c606-4d23-9cb6-7b398fbde9c4"
      },
      "execution_count": null,
      "outputs": [
        {
          "output_type": "execute_result",
          "data": {
            "text/plain": [
              "15387.463847146862"
            ]
          },
          "metadata": {},
          "execution_count": 23
        }
      ]
    },
    {
      "cell_type": "code",
      "source": [
        "# Mean absolute deviation\n",
        "import numpy as np\n",
        "\n",
        "np.mean(np.absolute(us_associates_df[\"COSTT4_A\"] - np.mean(us_associates_df[\"COSTT4_A\"])))"
      ],
      "metadata": {
        "id": "z32R719AyZhL",
        "colab": {
          "base_uri": "https://localhost:8080/"
        },
        "outputId": "7c14ab68-30f7-45c5-a530-42e3324ee3bf"
      },
      "execution_count": null,
      "outputs": [
        {
          "output_type": "execute_result",
          "data": {
            "text/plain": [
              "6500.3476821685335"
            ]
          },
          "metadata": {},
          "execution_count": 24
        }
      ]
    },
    {
      "cell_type": "markdown",
      "source": [
        "# Seaborn Visualizations"
      ],
      "metadata": {
        "id": "5BmXW-ReosBV"
      }
    },
    {
      "cell_type": "code",
      "source": [
        "# Let's visuaze these histograms using seaborn and the \"hue\" parameter\n",
        "\n",
        "# import seaborn\n",
        "import seaborn as sns\n",
        "import matplotlib.pyplot as plt\n",
        "%matplotlib inline"
      ],
      "metadata": {
        "id": "sJhNHjbXjobz"
      },
      "execution_count": null,
      "outputs": []
    },
    {
      "cell_type": "code",
      "source": [
        "\n",
        "# make figure\n",
        "fig = plt.figure(figsize=(12,7))\n",
        "fig = sns.histplot(data=df, x=\"COSTT4_A\", hue=\"HIGHDEG\", bins=40)\n",
        "\n",
        "# set style\n",
        "sns.set_style(style=\"ticks\")\n",
        "sns.despine()\n"
      ],
      "metadata": {
        "colab": {
          "base_uri": "https://localhost:8080/",
          "height": 443
        },
        "id": "-gSepVBcl75J",
        "outputId": "dcfcc2d5-cf79-42d8-aa8c-c5f1b46aae1e"
      },
      "execution_count": null,
      "outputs": [
        {
          "output_type": "display_data",
          "data": {
            "text/plain": [
              "<Figure size 864x504 with 1 Axes>"
            ],
            "image/png": "[encoded data removed]"
          },
          "metadata": {
            "needs_background": "light"
          }
        }
      ]
    },
    {
      "cell_type": "code",
      "source": [
        "# make figure\n",
        "fig = plt.figure(figsize=(12,7))\n",
        "fig = sns.histplot(data=df, x=\"COSTT4_A\", hue=\"CONTROL\", bins=40)\n",
        "\n",
        "# set style\n",
        "sns.set_style(style=\"ticks\")\n",
        "sns.despine()"
      ],
      "metadata": {
        "colab": {
          "base_uri": "https://localhost:8080/",
          "height": 443
        },
        "id": "ex5TgSvIoa_v",
        "outputId": "6f177eea-8121-42eb-ba8d-485af87009bb"
      },
      "execution_count": null,
      "outputs": [
        {
          "output_type": "display_data",
          "data": {
            "text/plain": [
              "<Figure size 864x504 with 1 Axes>"
            ],
            "image/png": "[encoded data removed]"
          },
          "metadata": {}
        }
      ]
    },
    {
      "cell_type": "code",
      "source": [
        "# make figure\n",
        "fig = plt.figure(figsize=(12,7))\n",
        "fig = sns.histplot(data=df, x=\"COSTT4_A\", hue=\"REGION\", bins=40)\n",
        "\n",
        "# set style\n",
        "sns.set_style(style=\"ticks\")\n",
        "sns.despine()"
      ],
      "metadata": {
        "colab": {
          "base_uri": "https://localhost:8080/",
          "height": 443
        },
        "id": "kieG_zRcpF1b",
        "outputId": "499e036a-cb6d-4e67-b811-34253e124fc5"
      },
      "execution_count": null,
      "outputs": [
        {
          "output_type": "display_data",
          "data": {
            "text/plain": [
              "<Figure size 864x504 with 1 Axes>"
            ],
            "image/png": "[encoded data removed]"
          },
          "metadata": {}
        }
      ]
    },
    {
      "cell_type": "markdown",
      "source": [
        "- It seems as if there is a higher density of instituions between ~10k and ~35k in region 6 but this isnt clear, let's try and put some numbers to these estimates."
      ],
      "metadata": {
        "id": "-dulJs3gpRsB"
      }
    },
    {
      "cell_type": "code",
      "source": [
        "def proportion(dataframe, col, upper_bound: int, lower_bound: int, hue=None):\n",
        "  \"\"\"\n",
        "  Returns None.\n",
        "\n",
        "  Keyword Arguments:\n",
        "  dataframe -- dataframe\n",
        "  col -- column dataType = str\n",
        "  upper_bound -- the upper bound\n",
        "  lower_bound -- the lower bound\n",
        "  hue --- how to categorize the data dataType = str (default=None)\n",
        "  \"\"\"\n",
        "\n",
        "  # Grab whole subset\n",
        "  whole_subset = dataframe[(dataframe[col] >= lower_bound) & (dataframe[col] <= upper_bound)]\n",
        "\n",
        "  if hue == None: # if no hue is defined\n",
        "    proportion = round(whole_subset[col].count() / df[col].count(), 2) * 100\n",
        "    print(f\"The proportion of the data that falls within the upper and lower bounds is {proportion}%\")\n",
        "  \n",
        "  else: # if hue is defined\n",
        "    hue_subset = whole_subset.groupby(by=hue).count()\n",
        "    for i in range(len(hue_subset)):\n",
        "      proportion = round(hue_subset[col].iloc[i] / whole_subset[col].count(), 4) * 100\n",
        "      print(f\"The proportion of schools between ${lower_bound} and ${upper_bound} in {hue} {i} is:\")\n",
        "      print(f\"{proportion}%\")\n",
        "      print(\"\\n\")\n",
        "    return hue_subset[col]"
      ],
      "metadata": {
        "id": "Y4-_GUDsqMeV"
      },
      "execution_count": null,
      "outputs": []
    },
    {
      "cell_type": "code",
      "source": [
        "proportion(df, col=\"COSTT4_A\", lower_bound=10000, upper_bound=25000, hue=\"REGION\")"
      ],
      "metadata": {
        "colab": {
          "base_uri": "https://localhost:8080/"
        },
        "id": "C7cKOdQp37wz",
        "outputId": "1f33d3ee-3add-475b-d02c-4db18ed711e7"
      },
      "execution_count": null,
      "outputs": [
        {
          "output_type": "stream",
          "name": "stdout",
          "text": [
            "The proportion of schools between $10000 and $25000 in REGION 0 is:\n",
            "0.15%\n",
            "\n",
            "\n",
            "The proportion of schools between $10000 and $25000 in REGION 1 is:\n",
            "4.19%\n",
            "\n",
            "\n",
            "The proportion of schools between $10000 and $25000 in REGION 2 is:\n",
            "13.63%\n",
            "\n",
            "\n",
            "The proportion of schools between $10000 and $25000 in REGION 3 is:\n",
            "12.870000000000001%\n",
            "\n",
            "\n",
            "The proportion of schools between $10000 and $25000 in REGION 4 is:\n",
            "10.5%\n",
            "\n",
            "\n",
            "The proportion of schools between $10000 and $25000 in REGION 5 is:\n",
            "26.0%\n",
            "\n",
            "\n",
            "The proportion of schools between $10000 and $25000 in REGION 6 is:\n",
            "12.27%\n",
            "\n",
            "\n",
            "The proportion of schools between $10000 and $25000 in REGION 7 is:\n",
            "4.64%\n",
            "\n",
            "\n",
            "The proportion of schools between $10000 and $25000 in REGION 8 is:\n",
            "15.75%\n",
            "\n",
            "\n"
          ]
        },
        {
          "output_type": "execute_result",
          "data": {
            "text/plain": [
              "REGION\n",
              "0      3\n",
              "1     83\n",
              "2    270\n",
              "3    255\n",
              "4    208\n",
              "5    515\n",
              "6    243\n",
              "7     92\n",
              "8    312\n",
              "Name: COSTT4_A, dtype: int64"
            ]
          },
          "metadata": {},
          "execution_count": 30
        }
      ]
    },
    {
      "cell_type": "markdown",
      "source": [
        "Region 5 (**Southeast (AL, AR, FL, GA, KY, LA, MS, NC, SC, TN, VA, WV**) has the highest proportion of schools with a cost of tuition between 10k and 35k\n",
        "\n",
        "- 25% of the schools in region 5 are between 10k and 35k per year."
      ],
      "metadata": {
        "id": "mpom3M9D3_yD"
      }
    },
    {
      "cell_type": "code",
      "source": [
        "# using control as the hue\n",
        "proportion(df, col=\"COSTT4_A\", lower_bound=10000, upper_bound=20000, hue=\"CONTROL\")"
      ],
      "metadata": {
        "colab": {
          "base_uri": "https://localhost:8080/"
        },
        "id": "a8kanwV19Mm7",
        "outputId": "20ac08f3-13f4-41f0-c0a4-d67b703df73d"
      },
      "execution_count": null,
      "outputs": [
        {
          "output_type": "stream",
          "name": "stdout",
          "text": [
            "The proportion of schools between $10000 and $20000 in CONTROL 0 is:\n",
            "75.79%\n",
            "\n",
            "\n",
            "The proportion of schools between $10000 and $20000 in CONTROL 1 is:\n",
            "15.21%\n",
            "\n",
            "\n",
            "The proportion of schools between $10000 and $20000 in CONTROL 2 is:\n",
            "9.0%\n",
            "\n",
            "\n"
          ]
        },
        {
          "output_type": "execute_result",
          "data": {
            "text/plain": [
              "CONTROL\n",
              "1    1061\n",
              "2     213\n",
              "3     126\n",
              "Name: COSTT4_A, dtype: int64"
            ]
          },
          "metadata": {},
          "execution_count": 31
        }
      ]
    },
    {
      "cell_type": "markdown",
      "source": [
        "- More than half of the public universities in the US cost between 10k and 35k for attendance for 1 year"
      ],
      "metadata": {
        "id": "XZTTWdze9UQM"
      }
    },
    {
      "cell_type": "code",
      "source": [
        "# using high degree as the hue\n",
        "proportion(df, col=\"COSTT4_A\", lower_bound=20000, upper_bound=35000, hue=\"HIGHDEG\")"
      ],
      "metadata": {
        "colab": {
          "base_uri": "https://localhost:8080/"
        },
        "id": "P4ZqvQjK9lAa",
        "outputId": "15794a75-4bc7-44cb-cac9-0fa44139baa9"
      },
      "execution_count": null,
      "outputs": [
        {
          "output_type": "stream",
          "name": "stdout",
          "text": [
            "The proportion of schools between $20000 and $35000 in HIGHDEG 0 is:\n",
            "21.740000000000002%\n",
            "\n",
            "\n",
            "The proportion of schools between $20000 and $35000 in HIGHDEG 1 is:\n",
            "19.06%\n",
            "\n",
            "\n",
            "The proportion of schools between $20000 and $35000 in HIGHDEG 2 is:\n",
            "59.199999999999996%\n",
            "\n",
            "\n"
          ]
        },
        {
          "output_type": "execute_result",
          "data": {
            "text/plain": [
              "HIGHDEG\n",
              "2    300\n",
              "3    263\n",
              "4    817\n",
              "Name: COSTT4_A, dtype: int64"
            ]
          },
          "metadata": {},
          "execution_count": 32
        }
      ]
    },
    {
      "cell_type": "code",
      "source": [
        "# using stabbr as hue\n",
        "proportion(df, col=\"COSTT4_A\", lower_bound=10000, upper_bound=20000, hue=\"STABBR\")"
      ],
      "metadata": {
        "colab": {
          "base_uri": "https://localhost:8080/"
        },
        "id": "uSo3i6_d-QGA",
        "outputId": "39430e04-3026-4983-f4d7-725ab30b4e02"
      },
      "execution_count": null,
      "outputs": [
        {
          "output_type": "stream",
          "name": "stdout",
          "text": [
            "The proportion of schools between $10000 and $20000 in STABBR 0 is:\n",
            "0.21%\n",
            "\n",
            "\n",
            "The proportion of schools between $10000 and $20000 in STABBR 1 is:\n",
            "1.79%\n",
            "\n",
            "\n",
            "The proportion of schools between $10000 and $20000 in STABBR 2 is:\n",
            "1.9300000000000002%\n",
            "\n",
            "\n",
            "The proportion of schools between $10000 and $20000 in STABBR 3 is:\n",
            "2.07%\n",
            "\n",
            "\n",
            "The proportion of schools between $10000 and $20000 in STABBR 4 is:\n",
            "11.360000000000001%\n",
            "\n",
            "\n",
            "The proportion of schools between $10000 and $20000 in STABBR 5 is:\n",
            "1.5699999999999998%\n",
            "\n",
            "\n",
            "The proportion of schools between $10000 and $20000 in STABBR 6 is:\n",
            "1.21%\n",
            "\n",
            "\n",
            "The proportion of schools between $10000 and $20000 in STABBR 7 is:\n",
            "0.06999999999999999%\n",
            "\n",
            "\n",
            "The proportion of schools between $10000 and $20000 in STABBR 8 is:\n",
            "0.13999999999999999%\n",
            "\n",
            "\n",
            "The proportion of schools between $10000 and $20000 in STABBR 9 is:\n",
            "2.71%\n",
            "\n",
            "\n",
            "The proportion of schools between $10000 and $20000 in STABBR 10 is:\n",
            "2.79%\n",
            "\n",
            "\n",
            "The proportion of schools between $10000 and $20000 in STABBR 11 is:\n",
            "0.7100000000000001%\n",
            "\n",
            "\n",
            "The proportion of schools between $10000 and $20000 in STABBR 12 is:\n",
            "1.1400000000000001%\n",
            "\n",
            "\n",
            "The proportion of schools between $10000 and $20000 in STABBR 13 is:\n",
            "0.43%\n",
            "\n",
            "\n",
            "The proportion of schools between $10000 and $20000 in STABBR 14 is:\n",
            "3.64%\n",
            "\n",
            "\n",
            "The proportion of schools between $10000 and $20000 in STABBR 15 is:\n",
            "1.21%\n",
            "\n",
            "\n",
            "The proportion of schools between $10000 and $20000 in STABBR 16 is:\n",
            "2.21%\n",
            "\n",
            "\n",
            "The proportion of schools between $10000 and $20000 in STABBR 17 is:\n",
            "1.79%\n",
            "\n",
            "\n",
            "The proportion of schools between $10000 and $20000 in STABBR 18 is:\n",
            "1.6400000000000001%\n",
            "\n",
            "\n",
            "The proportion of schools between $10000 and $20000 in STABBR 19 is:\n",
            "1.43%\n",
            "\n",
            "\n",
            "The proportion of schools between $10000 and $20000 in STABBR 20 is:\n",
            "1.29%\n",
            "\n",
            "\n",
            "The proportion of schools between $10000 and $20000 in STABBR 21 is:\n",
            "0.9299999999999999%\n",
            "\n",
            "\n",
            "The proportion of schools between $10000 and $20000 in STABBR 22 is:\n",
            "1.9300000000000002%\n",
            "\n",
            "\n",
            "The proportion of schools between $10000 and $20000 in STABBR 23 is:\n",
            "2.93%\n",
            "\n",
            "\n",
            "The proportion of schools between $10000 and $20000 in STABBR 24 is:\n",
            "2.21%\n",
            "\n",
            "\n",
            "The proportion of schools between $10000 and $20000 in STABBR 25 is:\n",
            "1.1400000000000001%\n",
            "\n",
            "\n",
            "The proportion of schools between $10000 and $20000 in STABBR 26 is:\n",
            "1.21%\n",
            "\n",
            "\n",
            "The proportion of schools between $10000 and $20000 in STABBR 27 is:\n",
            "4.79%\n",
            "\n",
            "\n",
            "The proportion of schools between $10000 and $20000 in STABBR 28 is:\n",
            "1.0%\n",
            "\n",
            "\n",
            "The proportion of schools between $10000 and $20000 in STABBR 29 is:\n",
            "0.79%\n",
            "\n",
            "\n",
            "The proportion of schools between $10000 and $20000 in STABBR 30 is:\n",
            "0.36%\n",
            "\n",
            "\n",
            "The proportion of schools between $10000 and $20000 in STABBR 31 is:\n",
            "2.5700000000000003%\n",
            "\n",
            "\n",
            "The proportion of schools between $10000 and $20000 in STABBR 32 is:\n",
            "1.79%\n",
            "\n",
            "\n",
            "The proportion of schools between $10000 and $20000 in STABBR 33 is:\n",
            "0.5700000000000001%\n",
            "\n",
            "\n",
            "The proportion of schools between $10000 and $20000 in STABBR 34 is:\n",
            "6.93%\n",
            "\n",
            "\n",
            "The proportion of schools between $10000 and $20000 in STABBR 35 is:\n",
            "3.2099999999999995%\n",
            "\n",
            "\n",
            "The proportion of schools between $10000 and $20000 in STABBR 36 is:\n",
            "1.5699999999999998%\n",
            "\n",
            "\n",
            "The proportion of schools between $10000 and $20000 in STABBR 37 is:\n",
            "1.29%\n",
            "\n",
            "\n",
            "The proportion of schools between $10000 and $20000 in STABBR 38 is:\n",
            "2.0%\n",
            "\n",
            "\n",
            "The proportion of schools between $10000 and $20000 in STABBR 39 is:\n",
            "0.21%\n",
            "\n",
            "\n",
            "The proportion of schools between $10000 and $20000 in STABBR 40 is:\n",
            "1.5699999999999998%\n",
            "\n",
            "\n",
            "The proportion of schools between $10000 and $20000 in STABBR 41 is:\n",
            "0.43%\n",
            "\n",
            "\n",
            "The proportion of schools between $10000 and $20000 in STABBR 42 is:\n",
            "1.5699999999999998%\n",
            "\n",
            "\n",
            "The proportion of schools between $10000 and $20000 in STABBR 43 is:\n",
            "7.140000000000001%\n",
            "\n",
            "\n",
            "The proportion of schools between $10000 and $20000 in STABBR 44 is:\n",
            "0.86%\n",
            "\n",
            "\n",
            "The proportion of schools between $10000 and $20000 in STABBR 45 is:\n",
            "2.29%\n",
            "\n",
            "\n",
            "The proportion of schools between $10000 and $20000 in STABBR 46 is:\n",
            "0.13999999999999999%\n",
            "\n",
            "\n",
            "The proportion of schools between $10000 and $20000 in STABBR 47 is:\n",
            "2.86%\n",
            "\n",
            "\n",
            "The proportion of schools between $10000 and $20000 in STABBR 48 is:\n",
            "2.29%\n",
            "\n",
            "\n",
            "The proportion of schools between $10000 and $20000 in STABBR 49 is:\n",
            "1.5%\n",
            "\n",
            "\n",
            "The proportion of schools between $10000 and $20000 in STABBR 50 is:\n",
            "0.5700000000000001%\n",
            "\n",
            "\n"
          ]
        },
        {
          "output_type": "execute_result",
          "data": {
            "text/plain": [
              "STABBR\n",
              "AK      3\n",
              "AL     25\n",
              "AR     27\n",
              "AZ     29\n",
              "CA    159\n",
              "CO     22\n",
              "CT     17\n",
              "DC      1\n",
              "DE      2\n",
              "FL     38\n",
              "GA     39\n",
              "HI     10\n",
              "IA     16\n",
              "ID      6\n",
              "IL     51\n",
              "IN     17\n",
              "KS     31\n",
              "KY     25\n",
              "LA     23\n",
              "MA     20\n",
              "MD     18\n",
              "ME     13\n",
              "MI     27\n",
              "MN     41\n",
              "MO     31\n",
              "MS     16\n",
              "MT     17\n",
              "NC     67\n",
              "ND     14\n",
              "NE     11\n",
              "NH      5\n",
              "NJ     36\n",
              "NM     25\n",
              "NV      8\n",
              "NY     97\n",
              "OH     45\n",
              "OK     22\n",
              "OR     18\n",
              "PA     28\n",
              "RI      3\n",
              "SC     22\n",
              "SD      6\n",
              "TN     22\n",
              "TX    100\n",
              "UT     12\n",
              "VA     32\n",
              "VT      2\n",
              "WA     40\n",
              "WI     32\n",
              "WV     21\n",
              "WY      8\n",
              "Name: COSTT4_A, dtype: int64"
            ]
          },
          "metadata": {},
          "execution_count": 85
        }
      ]
    },
    {
      "cell_type": "code",
      "source": [
        "# make figure\n",
        "fig = plt.figure(figsize=(12,7))\n",
        "fig = sns.boxplot(data=df, x=\"REGION\", y=\"COSTT4_A\")\n",
        "\n",
        "# set style\n",
        "sns.set_style(style=\"ticks\")\n",
        "sns.despine()"
      ],
      "metadata": {
        "colab": {
          "base_uri": "https://localhost:8080/",
          "height": 442
        },
        "id": "i8Cz6qqr5e_v",
        "outputId": "d6b3497f-cf0b-402e-dd0f-8f519d08396d"
      },
      "execution_count": null,
      "outputs": [
        {
          "output_type": "display_data",
          "data": {
            "text/plain": [
              "<Figure size 864x504 with 1 Axes>"
            ],
            "image/png": "[encoded data removed]"
          },
          "metadata": {}
        }
      ]
    },
    {
      "cell_type": "code",
      "source": [
        "# make figure\n",
        "fig = plt.figure(figsize=(12,7))\n",
        "fig = sns.boxplot(data=df, x=\"HIGHDEG\", y=\"COSTT4_A\")\n",
        "\n",
        "# set style\n",
        "sns.set_style(style=\"ticks\")\n",
        "sns.despine()\n"
      ],
      "metadata": {
        "colab": {
          "base_uri": "https://localhost:8080/",
          "height": 442
        },
        "id": "a7dQrYtTmieq",
        "outputId": "ab96451b-f12e-4a9b-e3b7-a3fb0e05f439"
      },
      "execution_count": null,
      "outputs": [
        {
          "output_type": "display_data",
          "data": {
            "text/plain": [
              "<Figure size 864x504 with 1 Axes>"
            ],
            "image/png": "[encoded data removed]"
          },
          "metadata": {}
        }
      ]
    },
    {
      "cell_type": "markdown",
      "source": [
        "- it looks like instituitions which primarily award associates degrees are heavily positively skewed"
      ],
      "metadata": {
        "id": "-PqUwu6lnMfy"
      }
    },
    {
      "cell_type": "code",
      "source": [
        "# make figure\n",
        "fig = plt.figure(figsize=(12,7))\n",
        "fig = sns.histplot(data=df, x=\"COSTT4_A\", hue=\"HIGHDEG\", kde=True)\n",
        "\n",
        "# set style\n",
        "sns.set_style(style=\"ticks\")\n",
        "sns.despine()"
      ],
      "metadata": {
        "colab": {
          "base_uri": "https://localhost:8080/",
          "height": 443
        },
        "id": "tcI2Fww_m6qK",
        "outputId": "ad350c0d-eb36-41b3-ea33-de2ad27c1c41"
      },
      "execution_count": null,
      "outputs": [
        {
          "output_type": "display_data",
          "data": {
            "text/plain": [
              "<Figure size 864x504 with 1 Axes>"
            ],
            "image/png": "[encoded data removed]"
          },
          "metadata": {}
        }
      ]
    },
    {
      "cell_type": "markdown",
      "source": [
        "# Plotly Visualizations"
      ],
      "metadata": {
        "id": "AIzNygklA65u"
      }
    },
    {
      "cell_type": "code",
      "source": [
        ""
      ],
      "metadata": {
        "id": "OLrQ5wj2n4Ew"
      },
      "execution_count": null,
      "outputs": []
    }
  ]
}
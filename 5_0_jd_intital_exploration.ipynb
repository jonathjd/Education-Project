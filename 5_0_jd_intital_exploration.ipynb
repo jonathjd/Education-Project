{
  "nbformat": 4,
  "nbformat_minor": 0,
  "metadata": {
    "colab": {
      "name": "5.0-jd-intital-exploration.ipynb",
      "provenance": [],
      "collapsed_sections": [
        "2NvHO8Fw8Z5D",
        "s2bJOl_7G01-",
        "bTHdhFRiMlTg",
        "5BmXW-ReosBV",
        "f58GXemFmT_1"
      ],
      "authorship_tag": "ABX9TyMKOVx/DRxQE6Qzk5kpfLyU",
      "include_colab_link": true
    },
    "kernelspec": {
      "name": "python3",
      "display_name": "Python 3"
    },
    "language_info": {
      "name": "python"
    }
  },
  "cells": [
    {
      "cell_type": "markdown",
      "metadata": {
        "id": "view-in-github",
        "colab_type": "text"
      },
      "source": [
        "<a href=\"https://colab.research.google.com/github/jonathjd/Education-Project/blob/main/5_0_jd_intital_exploration.ipynb\" target=\"_parent\"><img src=\"https://colab.research.google.com/assets/colab-badge.svg\" alt=\"Open In Colab\"/></a>"
      ]
    },
    {
      "cell_type": "markdown",
      "source": [
        "# Exploratory Data Analysis Continued"
      ],
      "metadata": {
        "id": "fBkGb42efe8F"
      }
    },
    {
      "cell_type": "markdown",
      "source": [
        "We will continue our EDA of the cost dataset using pandas. We will also be using some Matplotlib as well.\n",
        "\n",
        "We will be looking at:\n",
        "1. Descriptive statistics such as mean, trimmed mean, median, mode for institutions which primarily confer:\n",
        "- Associates degrees\n",
        "- Bachelors degrees\n",
        "- Graduate degrees\n",
        " both in the US, Northwest region, and Washington (my current state), and for both public, private for-profit, and private non-profit.\n",
        " 2. We will generate some visualizations such as histograms, boxplots, and bar charts."
      ],
      "metadata": {
        "id": "sz22IlDmfk5E"
      }
    },
    {
      "cell_type": "markdown",
      "source": [
        "## Columns of interest"
      ],
      "metadata": {
        "id": "IvAOVZwOkXlp"
      }
    },
    {
      "cell_type": "markdown",
      "source": [
        " 1. **Control**:\n",
        " - 1: Public\n",
        " - 2: Private non-proft\n",
        " - 3: Private for-profit\n",
        " 2. **Region**:\n",
        " - 8: Far West (AK, CA, HI, NV, OR, WA)\n",
        " 3. **HIGHDEG**:\n",
        " - 2: Associates degree\n",
        " - 3: Bachelors degree\n",
        " - 4: Graduate degree "
      ],
      "metadata": {
        "id": "igaQOLaYkXpY"
      }
    },
    {
      "cell_type": "code",
      "source": [
        "# import libraries\n",
        "import pandas as pd\n",
        "import numpy as np\n",
        "import seaborn as sns\n",
        "import matplotlib.pyplot as plt\n",
        "%matplotlib inline"
      ],
      "metadata": {
        "id": "XjPtHnCEffId"
      },
      "execution_count": null,
      "outputs": []
    },
    {
      "cell_type": "code",
      "source": [
        "df = pd.read_csv(\"https://raw.githubusercontent.com/jonathjd/Education-Project/main/data/processed/cleaned_data.csv\")\n",
        "df.head()"
      ],
      "metadata": {
        "id": "yREU8c24krnN"
      },
      "execution_count": null,
      "outputs": []
    },
    {
      "cell_type": "code",
      "source": [
        "df.describe().transpose()"
      ],
      "metadata": {
        "id": "huvjXL-5jtVZ"
      },
      "execution_count": null,
      "outputs": []
    },
    {
      "cell_type": "code",
      "source": [
        "# create new feature student spending\n",
        "df[\"Student Spending Ratio\"] = df[\"TUITFTE\"] / df[\"INEXPFTE\"]"
      ],
      "metadata": {
        "id": "_d-_YUkF7qm2"
      },
      "execution_count": null,
      "outputs": []
    },
    {
      "cell_type": "code",
      "source": [
        "# Create new df separating all institutions into the degree they primarily grant\n",
        "us_associates_df = df[df[\"HIGHDEG\"] == 2].copy()\n",
        "us_associates_df.describe().transpose()"
      ],
      "metadata": {
        "id": "OikWR3silHDv"
      },
      "execution_count": null,
      "outputs": []
    },
    {
      "cell_type": "code",
      "source": [
        "# trimmed mean\n",
        "from scipy.stats import trim_mean\n",
        "trim_mean(us_associates_df[\"COSTT4_A\"], 0.1)"
      ],
      "metadata": {
        "id": "xj7hZ37pnbwD"
      },
      "execution_count": null,
      "outputs": []
    },
    {
      "cell_type": "code",
      "source": [
        "# Median\n",
        "us_associates_df[\"COSTT4_A\"].median()"
      ],
      "metadata": {
        "id": "yKeL-ZounyGK"
      },
      "execution_count": null,
      "outputs": []
    },
    {
      "cell_type": "code",
      "source": [
        "# mode\n",
        "us_associates_df[\"COSTT4_A\"].mode()"
      ],
      "metadata": {
        "id": "I50KbPrnoXcI"
      },
      "execution_count": null,
      "outputs": []
    },
    {
      "cell_type": "code",
      "source": [
        "us_bachelors_df = df[df[\"HIGHDEG\"] == 3].copy()\n",
        "us_bachelors_df.describe().transpose()"
      ],
      "metadata": {
        "id": "251H2Mmsl6sn"
      },
      "execution_count": null,
      "outputs": []
    },
    {
      "cell_type": "markdown",
      "source": [
        "# Descriptive Statistics"
      ],
      "metadata": {
        "id": "qqpDYQgxoyyW"
      }
    },
    {
      "cell_type": "code",
      "source": [
        "# trimmed mean\n",
        "trim_mean(us_bachelors_df[\"COSTT4_A\"], 0.1)"
      ],
      "metadata": {
        "id": "Sj72wwk-oCjQ"
      },
      "execution_count": null,
      "outputs": []
    },
    {
      "cell_type": "code",
      "source": [
        "# median\n",
        "us_bachelors_df[\"COSTT4_A\"].median()"
      ],
      "metadata": {
        "id": "7h2zsoubnwyK"
      },
      "execution_count": null,
      "outputs": []
    },
    {
      "cell_type": "code",
      "source": [
        "# mode\n",
        "us_bachelors_df[\"COSTT4_A\"].mode()"
      ],
      "metadata": {
        "id": "vjJAxz4XodUh"
      },
      "execution_count": null,
      "outputs": []
    },
    {
      "cell_type": "code",
      "source": [
        "us_graduate_df = df[df[\"HIGHDEG\"] == 4].copy()\n",
        "us_graduate_df.describe().transpose()"
      ],
      "metadata": {
        "id": "qVpcQDacl61c"
      },
      "execution_count": null,
      "outputs": []
    },
    {
      "cell_type": "code",
      "source": [
        "# trimmed mean\n",
        "trim_mean(us_graduate_df[\"COSTT4_A\"], 0.1)"
      ],
      "metadata": {
        "id": "vGvoioFwnxRK"
      },
      "execution_count": null,
      "outputs": []
    },
    {
      "cell_type": "code",
      "source": [
        "# median\n",
        "us_graduate_df[\"COSTT4_A\"].median()"
      ],
      "metadata": {
        "id": "lxsbPRpPo4Nw"
      },
      "execution_count": null,
      "outputs": []
    },
    {
      "cell_type": "code",
      "source": [
        "# mode\n",
        "us_graduate_df[\"COSTT4_A\"].mode()"
      ],
      "metadata": {
        "id": "ajy5GHjoo9o4"
      },
      "execution_count": null,
      "outputs": []
    },
    {
      "cell_type": "code",
      "source": [
        "# private non-profit school that primarily awards graduate degrees\n",
        "private_graduate_np = us_graduate_df[df[\"CONTROL\"] == 2].copy()"
      ],
      "metadata": {
        "id": "LSIK3nzFovI8"
      },
      "execution_count": null,
      "outputs": []
    },
    {
      "cell_type": "code",
      "source": [
        "private_graduate_np.describe().transpose()"
      ],
      "metadata": {
        "id": "NlxPO8QLpK5b"
      },
      "execution_count": null,
      "outputs": []
    },
    {
      "cell_type": "code",
      "source": [
        "# private for-profit school that primarily awards graduate degrees\n",
        "private_graduate_fp = us_graduate_df[df[\"CONTROL\"] == 3].copy()"
      ],
      "metadata": {
        "id": "bJQF21cAVcOT"
      },
      "execution_count": null,
      "outputs": []
    },
    {
      "cell_type": "code",
      "source": [
        "private_graduate_fp.describe()"
      ],
      "metadata": {
        "id": "47wKK1kIV2IX"
      },
      "execution_count": null,
      "outputs": []
    },
    {
      "cell_type": "code",
      "source": [
        "# Public degree that primarily awards bachelors degrees\n",
        "public_bachelors = us_bachelors_df[df[\"CONTROL\"] == 1].copy()"
      ],
      "metadata": {
        "id": "ECIq8VXspcSq"
      },
      "execution_count": null,
      "outputs": []
    },
    {
      "cell_type": "code",
      "source": [
        "public_bachelors.describe()"
      ],
      "metadata": {
        "id": "IzS2UXGppW6r"
      },
      "execution_count": null,
      "outputs": []
    },
    {
      "cell_type": "code",
      "source": [
        "Public_Bachelors_Degree = public_bachelors[\"COSTT4_A\"]\n",
        "Private_Graduate_Degree_np = private_graduate_np[\"COSTT4_A\"]\n",
        "Private_Graduate_Degree_fp = private_graduate_fp[\"COSTT4_A\"]"
      ],
      "metadata": {
        "id": "uQA8l9qqp03p"
      },
      "execution_count": null,
      "outputs": []
    },
    {
      "cell_type": "markdown",
      "source": [
        "# Average Faculty Salary vs Cost of attendance"
      ],
      "metadata": {
        "id": "2NvHO8Fw8Z5D"
      }
    },
    {
      "cell_type": "code",
      "source": [
        "sns.set_style('ticks')\n",
        "sns.set_context('talk')\n",
        "fig = plt.figure(figsize=(12,7))\n",
        "ax = sns.scatterplot(data=df,y=df[\"AVGFACSAL\"], x=df[\"COSTT4_A\"])\n",
        "ax.set(xlabel=\"Cost of Attendance (1 year)\", ylabel=\"Average Faculty Salary (Monthly)\")\n",
        "\n",
        "plt.savefig('costta_vs_facsal', dpi=300)"
      ],
      "metadata": {
        "id": "COHgqD044H3S"
      },
      "execution_count": null,
      "outputs": []
    },
    {
      "cell_type": "code",
      "source": [
        "sns.set_style('ticks')\n",
        "sns.set_context('talk')\n",
        "fig = plt.figure(figsize=(12,7))\n",
        "ax = sns.scatterplot(data=df,y=df[\"AVGFACSAL\"], x=df[\"COSTT4_A\"], hue=df[\"CONTROL\"])\n",
        "ax.set(xlabel=\"Cost of Attendance (1 year)\", ylabel=\"Average Faculty Salary (Monthly)\")\n",
        "plt.legend(labels=[\"Public\", \"Private for-profit\", \"Private non-profit\"], loc = 2, bbox_to_anchor = (1,1))\n",
        "\n",
        "plt.savefig('costta_vs_facsal_hue', dpi=300)"
      ],
      "metadata": {
        "id": "uOCjwY106EK5"
      },
      "execution_count": null,
      "outputs": []
    },
    {
      "cell_type": "code",
      "source": [
        "private_non_profit = df[df[\"CONTROL\"] == 2].copy()"
      ],
      "metadata": {
        "id": "ujwo-87o6fg5"
      },
      "execution_count": null,
      "outputs": []
    },
    {
      "cell_type": "code",
      "source": [
        "sns.set_style('ticks')\n",
        "sns.set_context('talk')\n",
        "fig = plt.figure(figsize=(12,7))\n",
        "ax = sns.scatterplot(data=private_non_profit,y=private_non_profit[\"AVGFACSAL\"], x=private_non_profit[\"COSTT4_A\"])\n",
        "ax.set(xlabel=\"Cost of Attendance (1 year)\", ylabel=\"Average Faculty Salary (Monthly)\")\n",
        "\n",
        "# Save image\n",
        "plt.savefig('costta_vs_facsal_priv', dpi=300)"
      ],
      "metadata": {
        "id": "LBCK-I0B6Qwo"
      },
      "execution_count": null,
      "outputs": []
    },
    {
      "cell_type": "markdown",
      "source": [
        "Is there a correlation/can we model it?"
      ],
      "metadata": {
        "id": "0ovcNz3n_A-W"
      }
    },
    {
      "cell_type": "code",
      "source": [
        "private_non_profit.corr()"
      ],
      "metadata": {
        "id": "VkzY78Z4_Emb"
      },
      "execution_count": null,
      "outputs": []
    },
    {
      "cell_type": "markdown",
      "source": [
        "There is a moderate correlation (p=0.61, R2=0.37)"
      ],
      "metadata": {
        "id": "qmSiMCRD_-DO"
      }
    },
    {
      "cell_type": "code",
      "source": [
        "sns.set_style('ticks')\n",
        "sns.set_context('talk')\n",
        "fig = plt.figure(figsize=(12,7))\n",
        "ax = sns.regplot(data=private_non_profit,y=private_non_profit[\"AVGFACSAL\"], x=private_non_profit[\"COSTT4_A\"])\n",
        "ax.set(xlabel=\"Cost of Attendance (1 year)\", ylabel=\"Average Faculty Salary (Monthly)\")"
      ],
      "metadata": {
        "id": "Lubcce58Bm6I"
      },
      "execution_count": null,
      "outputs": []
    },
    {
      "cell_type": "markdown",
      "source": [
        "# Linear Regression model"
      ],
      "metadata": {
        "id": "s2bJOl_7G01-"
      }
    },
    {
      "cell_type": "code",
      "source": [
        "from sklearn.model_selection import train_test_split"
      ],
      "metadata": {
        "id": "XGnemTkjGorR"
      },
      "execution_count": null,
      "outputs": []
    },
    {
      "cell_type": "code",
      "source": [
        "X = private_non_profit.COSTT4_A.to_numpy()\n",
        "Y = private_non_profit.AVGFACSAL.to_numpy()"
      ],
      "metadata": {
        "id": "TAzerrMTICTL"
      },
      "execution_count": null,
      "outputs": []
    },
    {
      "cell_type": "code",
      "source": [
        "X.shape, Y.shape"
      ],
      "metadata": {
        "id": "F7zhyrJ6INKM"
      },
      "execution_count": null,
      "outputs": []
    },
    {
      "cell_type": "code",
      "source": [
        "X_train, X_test, Y_train, Y_test = train_test_split(X, Y, test_size=0.2)"
      ],
      "metadata": {
        "id": "eE0yQhoUHE2f"
      },
      "execution_count": null,
      "outputs": []
    },
    {
      "cell_type": "code",
      "source": [
        "X_train= X_train.reshape(-1, 1)\n",
        "Y_train= Y_train.reshape(-1, 1)\n",
        "X_test = X_test.reshape(-1, 1)"
      ],
      "metadata": {
        "id": "DffitxtxI62I"
      },
      "execution_count": null,
      "outputs": []
    },
    {
      "cell_type": "code",
      "source": [
        "# import model\n",
        "from sklearn import linear_model\n",
        "from sklearn.metrics import mean_squared_error, r2_score, mean_absolute_error"
      ],
      "metadata": {
        "id": "Xsb1YKUR7ZX5"
      },
      "execution_count": null,
      "outputs": []
    },
    {
      "cell_type": "code",
      "source": [
        "model = linear_model.LinearRegression()"
      ],
      "metadata": {
        "id": "cys1znKYDYfD"
      },
      "execution_count": null,
      "outputs": []
    },
    {
      "cell_type": "code",
      "source": [
        "model.fit(X_train, Y_train)"
      ],
      "metadata": {
        "id": "DsAa9pG8HwA3"
      },
      "execution_count": null,
      "outputs": []
    },
    {
      "cell_type": "code",
      "source": [
        "Y_pred = model.predict(X_test)"
      ],
      "metadata": {
        "id": "HFBxljqpJPXA"
      },
      "execution_count": null,
      "outputs": []
    },
    {
      "cell_type": "code",
      "source": [
        "# Calculate MSE & R2\n",
        "MSE = mean_squared_error(Y_test, Y_pred)\n",
        "R2 = r2_score(Y_test, Y_pred)\n",
        "MAE = mean_absolute_error(Y_test, Y_pred)\n",
        "\n",
        "# model performance\n",
        "print(\"Coefficients: \", model.coef_)\n",
        "print('Intercept: ', model.intercept_)\n",
        "print(f'Mean square error (MSE): {MSE}')\n",
        "print(f'Mean Absolute Error (MAE): {MAE}')\n",
        "print(f\"Coefficient of determination (R^2): {R2}\")"
      ],
      "metadata": {
        "id": "Dwug_seYJW13"
      },
      "execution_count": null,
      "outputs": []
    },
    {
      "cell_type": "markdown",
      "source": [
        ""
      ],
      "metadata": {
        "id": "jK22pHrKLRTV"
      }
    },
    {
      "cell_type": "markdown",
      "source": [
        "#Private bachelors vs public bachelors"
      ],
      "metadata": {
        "id": "ZiCukkxC8emc"
      }
    },
    {
      "cell_type": "code",
      "source": [
        "# Bar plot contrasting a bachelors degree at a primarily undergraduate program and primarily graduate program that\n",
        "# is private\n",
        "sns.set_style('ticks')\n",
        "sns.set_context('notebook')\n",
        "fig = plt.figure(figsize=(11.5,5))\n",
        "ax = sns.barplot(data=[Public_Bachelors_Degree, Private_Graduate_Degree_np, Private_Graduate_Degree_fp], \n",
        "                 palette='Blues', \n",
        "                 ci=\"sd\", \n",
        "                 zorder=5,\n",
        "                 capsize=.05)\n",
        "ax.set(xlabel=\"University Level\", ylabel=\"Cost of Attendance (1 year)\")\n",
        "ax.set_xticklabels([\"Public Bachelors Degree\", \"Private Non-Profit Bachelors Degree\", \"Private For-Profit Bachelors Degree\"])\n",
        "sns.despine()\n",
        "\n",
        "plt.savefig('control_barplot')"
      ],
      "metadata": {
        "id": "vZDrF8NEq2fo"
      },
      "execution_count": null,
      "outputs": []
    },
    {
      "cell_type": "code",
      "source": [
        "# Swarm plot depicting the same data to show distribution\n",
        "sns.set_style('ticks')\n",
        "sns.set_context('notebook', font_scale=1.4)\n",
        "fig = plt.figure(figsize=(9,9))\n",
        "ax = sns.swarmplot(data=[Public_Bachelors_Degree, Private_Graduate_Degree_np, Private_Graduate_Degree_fp], \n",
        "                 palette='Reds')\n",
        "ax.set(ylabel=\"Cost of Attendance (1 year)\")\n",
        "ax.set_xticklabels([\"Public\", \"Private non-profit\", \"Private for-profit\"])\n",
        "sns.despine()\n",
        "\n",
        "# Save the figure\n",
        "plt.savefig('swarm_plot', dpi=300)"
      ],
      "metadata": {
        "id": "S8tfsAzO10-e"
      },
      "execution_count": null,
      "outputs": []
    },
    {
      "cell_type": "code",
      "source": [
        "sns.set_style('ticks')\n",
        "sns.set_context('notebook', font_scale=1.5)\n",
        "fig = plt.figure(figsize=(9,9))\n",
        "ax = sns.boxplot(data=[Public_Bachelors_Degree, Private_Graduate_Degree_np, Private_Graduate_Degree_fp], \n",
        "                 palette='Blues')\n",
        "ax = sns.swarmplot(data=[Public_Bachelors_Degree, Private_Graduate_Degree_np, Private_Graduate_Degree_fp], \n",
        "                 palette='Reds')\n",
        "ax.set(ylabel=\"Cost of Attendance (1 year)\")\n",
        "ax.set_xticklabels([\"Public\", \"Private non-profit\", \"Private for-profit\"])\n",
        "sns.despine()\n",
        "\n",
        "# save fig\n",
        "plt.savefig('swarm_plot_boxplot', dpi=300)"
      ],
      "metadata": {
        "id": "D_SJPLpR0pN4"
      },
      "execution_count": null,
      "outputs": []
    },
    {
      "cell_type": "markdown",
      "source": [
        "# Student spending ratio"
      ],
      "metadata": {
        "id": "bTHdhFRiMlTg"
      }
    },
    {
      "cell_type": "code",
      "source": [
        "sns.set_style('ticks')\n",
        "sns.set_context('talk')\n",
        "fig = plt.figure(figsize=(12,7))\n",
        "ax = sns.histplot(data=df, x=\"Student Spending Ratio\")"
      ],
      "metadata": {
        "id": "fi7jORC5X_E_"
      },
      "execution_count": null,
      "outputs": []
    },
    {
      "cell_type": "code",
      "source": [
        "sns.set_style('ticks')\n",
        "sns.set_context('talk')\n",
        "fig = plt.figure(figsize=(12,7))\n",
        "ax = sns.histplot(data=df, x=\"Student Spending Ratio\", hue=\"HIGHDEG\")"
      ],
      "metadata": {
        "id": "aaYKqk6MYgV7"
      },
      "execution_count": null,
      "outputs": []
    },
    {
      "cell_type": "code",
      "source": [
        "# Compare the student spending between institutions based on the degree they grant\n",
        "sns.set_style('ticks')\n",
        "sns.set_context('talk')\n",
        "fig = plt.figure(figsize=(18,7))\n",
        "ax = sns.barplot(data=df,\n",
        "                 x=\"HIGHDEG\",\n",
        "                 y=\"Student Spending Ratio\",\n",
        "                 palette='Blues')\n",
        "sns.despine()"
      ],
      "metadata": {
        "id": "IIlmQnWSMsEI"
      },
      "execution_count": null,
      "outputs": []
    },
    {
      "cell_type": "code",
      "source": [
        ""
      ],
      "metadata": {
        "id": "j5aIonjSMk2G"
      },
      "execution_count": null,
      "outputs": []
    },
    {
      "cell_type": "markdown",
      "source": [
        "# Miscellaneous Visualizations"
      ],
      "metadata": {
        "id": "5BmXW-ReosBV"
      }
    },
    {
      "cell_type": "code",
      "source": [
        "\n",
        "# make figure\n",
        "fig = plt.figure(figsize=(12,7))\n",
        "fig = sns.histplot(data=df, x=\"COSTT4_A\", hue=\"HIGHDEG\", bins=40)\n",
        "\n",
        "# set style\n",
        "sns.set_style(style=\"ticks\")\n",
        "sns.despine()\n"
      ],
      "metadata": {
        "id": "-gSepVBcl75J"
      },
      "execution_count": null,
      "outputs": []
    },
    {
      "cell_type": "code",
      "source": [
        "# make figure\n",
        "fig = plt.figure(figsize=(12,7))\n",
        "fig = sns.histplot(data=df, x=\"COSTT4_A\", hue=\"CONTROL\", bins=40)\n",
        "\n",
        "# set style\n",
        "sns.set_style(style=\"ticks\")\n",
        "sns.despine()"
      ],
      "metadata": {
        "id": "ex5TgSvIoa_v"
      },
      "execution_count": null,
      "outputs": []
    },
    {
      "cell_type": "code",
      "source": [
        "# make figure\n",
        "fig = plt.figure(figsize=(12,7))\n",
        "fig = sns.histplot(data=df, x=\"COSTT4_A\", hue=\"REGION\", bins=40)\n",
        "\n",
        "# set style\n",
        "sns.set_style(style=\"ticks\")\n",
        "sns.despine()"
      ],
      "metadata": {
        "id": "kieG_zRcpF1b"
      },
      "execution_count": null,
      "outputs": []
    },
    {
      "cell_type": "markdown",
      "source": [
        "- It seems as if there is a higher density of instituions between ~10k and ~35k in region 6 but this isnt clear, let's try and put some numbers to these estimates."
      ],
      "metadata": {
        "id": "-dulJs3gpRsB"
      }
    },
    {
      "cell_type": "code",
      "source": [
        "def proportion(dataframe, col, upper_bound: int, lower_bound: int, hue=None):\n",
        "  \"\"\"\n",
        "  Returns None.\n",
        "\n",
        "  Keyword Arguments:\n",
        "  dataframe -- dataframe\n",
        "  col -- column dataType = str\n",
        "  upper_bound -- the upper bound\n",
        "  lower_bound -- the lower bound\n",
        "  hue --- how to categorize the data dataType = str (default=None)\n",
        "  \"\"\"\n",
        "\n",
        "  # Grab whole subset\n",
        "  whole_subset = dataframe[(dataframe[col] >= lower_bound) & (dataframe[col] <= upper_bound)]\n",
        "\n",
        "  if hue == None: # if no hue is defined\n",
        "    proportion = round(whole_subset[col].count() / df[col].count(), 2) * 100\n",
        "    print(f\"The proportion of the data that falls within the upper and lower bounds is {proportion}%\")\n",
        "  \n",
        "  else: # if hue is defined\n",
        "    hue_subset = whole_subset.groupby(by=hue).count()\n",
        "    for i in range(len(hue_subset)):\n",
        "      proportion = round(hue_subset[col].iloc[i] / whole_subset[col].count(), 4) * 100\n",
        "      print(f\"The proportion of schools between ${lower_bound} and ${upper_bound} in {hue} {i} is:\")\n",
        "      print(f\"{proportion}%\")\n",
        "      print(\"\\n\")\n",
        "    return hue_subset[col]"
      ],
      "metadata": {
        "id": "Y4-_GUDsqMeV"
      },
      "execution_count": null,
      "outputs": []
    },
    {
      "cell_type": "code",
      "source": [
        "proportion(df, col=\"COSTT4_A\", lower_bound=10000, upper_bound=25000, hue=\"REGION\")"
      ],
      "metadata": {
        "id": "C7cKOdQp37wz"
      },
      "execution_count": null,
      "outputs": []
    },
    {
      "cell_type": "markdown",
      "source": [
        "Region 5 (**Southeast (AL, AR, FL, GA, KY, LA, MS, NC, SC, TN, VA, WV**) has the highest proportion of schools with a cost of tuition between 10k and 35k\n",
        "\n",
        "- 25% of the schools in region 5 are between 10k and 35k per year."
      ],
      "metadata": {
        "id": "mpom3M9D3_yD"
      }
    },
    {
      "cell_type": "code",
      "source": [
        "# using control as the hue\n",
        "proportion(df, col=\"COSTT4_A\", lower_bound=20000, upper_bound=25000, hue=\"CONTROL\")"
      ],
      "metadata": {
        "id": "a8kanwV19Mm7"
      },
      "execution_count": null,
      "outputs": []
    },
    {
      "cell_type": "markdown",
      "source": [
        "- More than half of the public universities in the US cost between 10k and 35k for attendance for 1 year"
      ],
      "metadata": {
        "id": "XZTTWdze9UQM"
      }
    },
    {
      "cell_type": "code",
      "source": [
        "# using high degree as the hue\n",
        "proportion(df, col=\"COSTT4_A\", lower_bound=20000, upper_bound=25000, hue=\"HIGHDEG\")"
      ],
      "metadata": {
        "id": "P4ZqvQjK9lAa"
      },
      "execution_count": null,
      "outputs": []
    },
    {
      "cell_type": "code",
      "source": [
        "# using stabbr as hue\n",
        "proportion(df, col=\"COSTT4_A\", lower_bound=10000, upper_bound=20000, hue=\"STABBR\")"
      ],
      "metadata": {
        "id": "uSo3i6_d-QGA"
      },
      "execution_count": null,
      "outputs": []
    },
    {
      "cell_type": "markdown",
      "source": [
        "### Descriptives:\n",
        "The mean/median/mode cost of attendance for one year at an instituiton which primarily confers:\n",
        "1. Associates degrees: 17,667 / 14,379 / 11,349\n",
        "2. Bachelors degrees: 29,529 / $25,406 / 23,776\n",
        "3. Graduate degrees: 34,549 / 29,990 / 28,149"
      ],
      "metadata": {
        "id": "f58GXemFmT_1"
      }
    },
    {
      "cell_type": "code",
      "source": [
        "us_associates_df[\"COSTT4_A\"].hist(bins=50)"
      ],
      "metadata": {
        "id": "kSO7WhmXmSn8"
      },
      "execution_count": null,
      "outputs": []
    },
    {
      "cell_type": "code",
      "source": [
        "us_bachelors_df[\"COSTT4_A\"].hist(bins=40)"
      ],
      "metadata": {
        "id": "hbj0Trb2ppYU"
      },
      "execution_count": null,
      "outputs": []
    },
    {
      "cell_type": "code",
      "source": [
        "us_graduate_df[\"COSTT4_A\"].hist(bins=40)"
      ],
      "metadata": {
        "id": "6jogyfPIp2tU"
      },
      "execution_count": null,
      "outputs": []
    },
    {
      "cell_type": "code",
      "source": [
        "#What is the variance in the cost of attendance?\n",
        "from statistics import variance\n",
        "\n",
        "variance(us_associates_df[\"COSTT4_A\"])"
      ],
      "metadata": {
        "id": "-adr--ncwN_i"
      },
      "execution_count": null,
      "outputs": []
    },
    {
      "cell_type": "code",
      "source": [
        "variance(us_bachelors_df[\"COSTT4_A\"])"
      ],
      "metadata": {
        "id": "y4wvdxcJx_YO"
      },
      "execution_count": null,
      "outputs": []
    },
    {
      "cell_type": "code",
      "source": [
        "variance(us_graduate_df[\"COSTT4_A\"])"
      ],
      "metadata": {
        "id": "wUyhxfcByEmd"
      },
      "execution_count": null,
      "outputs": []
    },
    {
      "cell_type": "code",
      "source": [
        "#Standard deviation\n",
        "from statistics import stdev\n",
        "\n",
        "stdev(us_associates_df[\"COSTT4_A\"])"
      ],
      "metadata": {
        "id": "E3cxGpXXyG8C"
      },
      "execution_count": null,
      "outputs": []
    },
    {
      "cell_type": "code",
      "source": [
        "stdev(us_bachelors_df[\"COSTT4_A\"])"
      ],
      "metadata": {
        "id": "AYKDdUy6yLFC"
      },
      "execution_count": null,
      "outputs": []
    },
    {
      "cell_type": "code",
      "source": [
        "stdev(us_graduate_df[\"COSTT4_A\"])"
      ],
      "metadata": {
        "id": "yRs76yhnyVKx"
      },
      "execution_count": null,
      "outputs": []
    },
    {
      "cell_type": "code",
      "source": [
        "# Mean absolute deviation\n",
        "import numpy as np\n",
        "\n",
        "np.mean(np.absolute(us_associates_df[\"COSTT4_A\"] - np.mean(us_associates_df[\"COSTT4_A\"])))"
      ],
      "metadata": {
        "id": "z32R719AyZhL"
      },
      "execution_count": null,
      "outputs": []
    },
    {
      "cell_type": "markdown",
      "source": [
        ""
      ],
      "metadata": {
        "id": "SWA4SMAvMeLA"
      }
    },
    {
      "cell_type": "code",
      "source": [
        "# make figure\n",
        "fig = plt.figure(figsize=(12,7))\n",
        "fig = sns.histplot(data=df, x=\"COSTT4_A\", hue=\"HIGHDEG\", kde=True)\n",
        "\n",
        "# set style\n",
        "sns.set_style(style=\"ticks\")\n",
        "sns.despine()"
      ],
      "metadata": {
        "id": "tcI2Fww_m6qK"
      },
      "execution_count": null,
      "outputs": []
    },
    {
      "cell_type": "code",
      "source": [
        "# make figure\n",
        "fig = plt.figure(figsize=(12,7))\n",
        "fig = sns.boxplot(data=df, x=\"REGION\", y=\"COSTT4_A\")\n",
        "\n",
        "# set style\n",
        "sns.set_style(style=\"ticks\")\n",
        "sns.despine()"
      ],
      "metadata": {
        "id": "i8Cz6qqr5e_v"
      },
      "execution_count": null,
      "outputs": []
    },
    {
      "cell_type": "code",
      "source": [
        "# make figure\n",
        "fig = plt.figure(figsize=(12,7))\n",
        "fig = sns.boxplot(data=df, x=\"HIGHDEG\", y=\"COSTT4_A\")\n",
        "\n",
        "# set style\n",
        "sns.set_style(style=\"ticks\")\n",
        "sns.despine()\n"
      ],
      "metadata": {
        "id": "a7dQrYtTmieq"
      },
      "execution_count": null,
      "outputs": []
    },
    {
      "cell_type": "markdown",
      "source": [
        "- it looks like instituitions which primarily award associates degrees are heavily positively skewed"
      ],
      "metadata": {
        "id": "-PqUwu6lnMfy"
      }
    },
    {
      "cell_type": "code",
      "source": [
        ""
      ],
      "metadata": {
        "id": "MBtKT1MbbLQG"
      },
      "execution_count": null,
      "outputs": []
    }
  ]
}
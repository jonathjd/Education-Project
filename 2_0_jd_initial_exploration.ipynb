{
  "nbformat": 4,
  "nbformat_minor": 0,
  "metadata": {
    "colab": {
      "name": "2.0-jd-initial-exploration.ipynb",
      "provenance": [],
      "authorship_tag": "ABX9TyO6DIc+5+tIf5Tioi/dzcI+",
      "include_colab_link": true
    },
    "kernelspec": {
      "name": "python3",
      "display_name": "Python 3"
    },
    "language_info": {
      "name": "python"
    }
  },
  "cells": [
    {
      "cell_type": "markdown",
      "metadata": {
        "id": "view-in-github",
        "colab_type": "text"
      },
      "source": [
        "<a href=\"https://colab.research.google.com/github/jonathjd/Education-Project/blob/main/2_0_jd_initial_exploration.ipynb\" target=\"_parent\"><img src=\"https://colab.research.google.com/assets/colab-badge.svg\" alt=\"Open In Colab\"/></a>"
      ]
    },
    {
      "cell_type": "code",
      "execution_count": 1,
      "metadata": {
        "id": "I4ZUT19Si4ew"
      },
      "outputs": [],
      "source": [
        "# import necessary libraries\n",
        "import pandas as pd"
      ]
    },
    {
      "cell_type": "code",
      "source": [
        "# read in data\n",
        "df = pd.read_csv(\"/selected_columns.csv\")"
      ],
      "metadata": {
        "id": "Kdm7Ak0qjCN-"
      },
      "execution_count": 2,
      "outputs": []
    },
    {
      "cell_type": "code",
      "source": [
        "# check data\n",
        "df"
      ],
      "metadata": {
        "colab": {
          "base_uri": "https://localhost:8080/",
          "height": 973
        },
        "id": "Nq4rfb1pjOpW",
        "outputId": "111e90e9-79ba-4797-d4af-fdfd5c51c810"
      },
      "execution_count": 3,
      "outputs": [
        {
          "output_type": "execute_result",
          "data": {
            "text/plain": [
              "      Unnamed: 0    UNITID                                    INSTNM  \\\n",
              "0              0    100654                  Alabama A & M University   \n",
              "1              1    100663       University of Alabama at Birmingham   \n",
              "2              2    100690                        Amridge University   \n",
              "3              3    100706       University of Alabama in Huntsville   \n",
              "4              4    100724                  Alabama State University   \n",
              "...          ...       ...                                       ...   \n",
              "6689        6689  48511113        Georgia Military College - Eastman   \n",
              "6690        6690  48616901  American College of Barbering - Florence   \n",
              "6691        6691  49005401      HCI College - Fort Lauderdale Campus   \n",
              "6692        6692  49146401          ABC Adult School - Cabrillo Lane   \n",
              "6693        6693  49175601           Urban Barber College - San Jose   \n",
              "\n",
              "                 CITY STABBR         ZIP                        INSTURL  \\\n",
              "0              Normal     AL       35762                  www.aamu.edu/   \n",
              "1          Birmingham     AL  35294-0110           https://www.uab.edu/   \n",
              "2          Montgomery     AL  36117-3553     www.amridgeuniversity.edu/   \n",
              "3          Huntsville     AL       35899                   www.uah.edu/   \n",
              "4          Montgomery     AL  36104-0271                 www.alasu.edu/   \n",
              "...               ...    ...         ...                            ...   \n",
              "6689          Eastman     GA   310236109  https://www.gmc.edu/index.cms   \n",
              "6690         Florence     KY   410421801                            NaN   \n",
              "6691  Fort Lauderdale     FL       33309                   www.hci.edu/   \n",
              "6692         Cerritos     CA   907037748                            NaN   \n",
              "6693         San Jose     CA       95133    www.urbanbarbercollege.com/   \n",
              "\n",
              "      HIGHDEG  CONTROL  REGION  COSTT4_A  TUITIONFEE_IN  TUITIONFEE_OUT  \\\n",
              "0           4        1       5   23053.0        10024.0         18634.0   \n",
              "1           4        1       5   24495.0         8568.0         20400.0   \n",
              "2           4        2       5   14800.0         6950.0          6950.0   \n",
              "3           4        1       5   23917.0        11122.0         23518.0   \n",
              "4           4        1       5   21866.0        11068.0         19396.0   \n",
              "...       ...      ...     ...       ...            ...             ...   \n",
              "6689        0        1       5       NaN         6165.0             NaN   \n",
              "6690        0        3       5       NaN            NaN             NaN   \n",
              "6691        0        3       5       NaN        19404.0             NaN   \n",
              "6692        0        1       8       NaN            NaN             NaN   \n",
              "6693        0        3       8       NaN            NaN             NaN   \n",
              "\n",
              "      NPT4_PUB  NPT4_PRIV  TUITFTE  INEXPFTE  AVGFACSAL  \n",
              "0      14990.0        NaN   7870.0    5546.0     7709.0  \n",
              "1      16953.0        NaN  12096.0   14983.0    11049.0  \n",
              "2          NaN     8705.0  16403.0    5245.0     4187.0  \n",
              "3      15860.0        NaN   8275.0    8488.0     9688.0  \n",
              "4      13650.0        NaN   9587.0    9346.0     7221.0  \n",
              "...        ...        ...      ...       ...        ...  \n",
              "6689       NaN        NaN      NaN       NaN        NaN  \n",
              "6690       NaN        NaN      NaN       NaN        NaN  \n",
              "6691       NaN        NaN      NaN       NaN        NaN  \n",
              "6692       NaN        NaN      NaN       NaN        NaN  \n",
              "6693       NaN        NaN      NaN       NaN        NaN  \n",
              "\n",
              "[6694 rows x 18 columns]"
            ],
            "text/html": [
              "\n",
              "  <div id=\"df-450373ea-f9c2-4395-b056-6a5a2f4ef410\">\n",
              "    <div class=\"colab-df-container\">\n",
              "      <div>\n",
              "<style scoped>\n",
              "    .dataframe tbody tr th:only-of-type {\n",
              "        vertical-align: middle;\n",
              "    }\n",
              "\n",
              "    .dataframe tbody tr th {\n",
              "        vertical-align: top;\n",
              "    }\n",
              "\n",
              "    .dataframe thead th {\n",
              "        text-align: right;\n",
              "    }\n",
              "</style>\n",
              "<table border=\"1\" class=\"dataframe\">\n",
              "  <thead>\n",
              "    <tr style=\"text-align: right;\">\n",
              "      <th></th>\n",
              "      <th>Unnamed: 0</th>\n",
              "      <th>UNITID</th>\n",
              "      <th>INSTNM</th>\n",
              "      <th>CITY</th>\n",
              "      <th>STABBR</th>\n",
              "      <th>ZIP</th>\n",
              "      <th>INSTURL</th>\n",
              "      <th>HIGHDEG</th>\n",
              "      <th>CONTROL</th>\n",
              "      <th>REGION</th>\n",
              "      <th>COSTT4_A</th>\n",
              "      <th>TUITIONFEE_IN</th>\n",
              "      <th>TUITIONFEE_OUT</th>\n",
              "      <th>NPT4_PUB</th>\n",
              "      <th>NPT4_PRIV</th>\n",
              "      <th>TUITFTE</th>\n",
              "      <th>INEXPFTE</th>\n",
              "      <th>AVGFACSAL</th>\n",
              "    </tr>\n",
              "  </thead>\n",
              "  <tbody>\n",
              "    <tr>\n",
              "      <th>0</th>\n",
              "      <td>0</td>\n",
              "      <td>100654</td>\n",
              "      <td>Alabama A &amp; M University</td>\n",
              "      <td>Normal</td>\n",
              "      <td>AL</td>\n",
              "      <td>35762</td>\n",
              "      <td>www.aamu.edu/</td>\n",
              "      <td>4</td>\n",
              "      <td>1</td>\n",
              "      <td>5</td>\n",
              "      <td>23053.0</td>\n",
              "      <td>10024.0</td>\n",
              "      <td>18634.0</td>\n",
              "      <td>14990.0</td>\n",
              "      <td>NaN</td>\n",
              "      <td>7870.0</td>\n",
              "      <td>5546.0</td>\n",
              "      <td>7709.0</td>\n",
              "    </tr>\n",
              "    <tr>\n",
              "      <th>1</th>\n",
              "      <td>1</td>\n",
              "      <td>100663</td>\n",
              "      <td>University of Alabama at Birmingham</td>\n",
              "      <td>Birmingham</td>\n",
              "      <td>AL</td>\n",
              "      <td>35294-0110</td>\n",
              "      <td>https://www.uab.edu/</td>\n",
              "      <td>4</td>\n",
              "      <td>1</td>\n",
              "      <td>5</td>\n",
              "      <td>24495.0</td>\n",
              "      <td>8568.0</td>\n",
              "      <td>20400.0</td>\n",
              "      <td>16953.0</td>\n",
              "      <td>NaN</td>\n",
              "      <td>12096.0</td>\n",
              "      <td>14983.0</td>\n",
              "      <td>11049.0</td>\n",
              "    </tr>\n",
              "    <tr>\n",
              "      <th>2</th>\n",
              "      <td>2</td>\n",
              "      <td>100690</td>\n",
              "      <td>Amridge University</td>\n",
              "      <td>Montgomery</td>\n",
              "      <td>AL</td>\n",
              "      <td>36117-3553</td>\n",
              "      <td>www.amridgeuniversity.edu/</td>\n",
              "      <td>4</td>\n",
              "      <td>2</td>\n",
              "      <td>5</td>\n",
              "      <td>14800.0</td>\n",
              "      <td>6950.0</td>\n",
              "      <td>6950.0</td>\n",
              "      <td>NaN</td>\n",
              "      <td>8705.0</td>\n",
              "      <td>16403.0</td>\n",
              "      <td>5245.0</td>\n",
              "      <td>4187.0</td>\n",
              "    </tr>\n",
              "    <tr>\n",
              "      <th>3</th>\n",
              "      <td>3</td>\n",
              "      <td>100706</td>\n",
              "      <td>University of Alabama in Huntsville</td>\n",
              "      <td>Huntsville</td>\n",
              "      <td>AL</td>\n",
              "      <td>35899</td>\n",
              "      <td>www.uah.edu/</td>\n",
              "      <td>4</td>\n",
              "      <td>1</td>\n",
              "      <td>5</td>\n",
              "      <td>23917.0</td>\n",
              "      <td>11122.0</td>\n",
              "      <td>23518.0</td>\n",
              "      <td>15860.0</td>\n",
              "      <td>NaN</td>\n",
              "      <td>8275.0</td>\n",
              "      <td>8488.0</td>\n",
              "      <td>9688.0</td>\n",
              "    </tr>\n",
              "    <tr>\n",
              "      <th>4</th>\n",
              "      <td>4</td>\n",
              "      <td>100724</td>\n",
              "      <td>Alabama State University</td>\n",
              "      <td>Montgomery</td>\n",
              "      <td>AL</td>\n",
              "      <td>36104-0271</td>\n",
              "      <td>www.alasu.edu/</td>\n",
              "      <td>4</td>\n",
              "      <td>1</td>\n",
              "      <td>5</td>\n",
              "      <td>21866.0</td>\n",
              "      <td>11068.0</td>\n",
              "      <td>19396.0</td>\n",
              "      <td>13650.0</td>\n",
              "      <td>NaN</td>\n",
              "      <td>9587.0</td>\n",
              "      <td>9346.0</td>\n",
              "      <td>7221.0</td>\n",
              "    </tr>\n",
              "    <tr>\n",
              "      <th>...</th>\n",
              "      <td>...</td>\n",
              "      <td>...</td>\n",
              "      <td>...</td>\n",
              "      <td>...</td>\n",
              "      <td>...</td>\n",
              "      <td>...</td>\n",
              "      <td>...</td>\n",
              "      <td>...</td>\n",
              "      <td>...</td>\n",
              "      <td>...</td>\n",
              "      <td>...</td>\n",
              "      <td>...</td>\n",
              "      <td>...</td>\n",
              "      <td>...</td>\n",
              "      <td>...</td>\n",
              "      <td>...</td>\n",
              "      <td>...</td>\n",
              "      <td>...</td>\n",
              "    </tr>\n",
              "    <tr>\n",
              "      <th>6689</th>\n",
              "      <td>6689</td>\n",
              "      <td>48511113</td>\n",
              "      <td>Georgia Military College - Eastman</td>\n",
              "      <td>Eastman</td>\n",
              "      <td>GA</td>\n",
              "      <td>310236109</td>\n",
              "      <td>https://www.gmc.edu/index.cms</td>\n",
              "      <td>0</td>\n",
              "      <td>1</td>\n",
              "      <td>5</td>\n",
              "      <td>NaN</td>\n",
              "      <td>6165.0</td>\n",
              "      <td>NaN</td>\n",
              "      <td>NaN</td>\n",
              "      <td>NaN</td>\n",
              "      <td>NaN</td>\n",
              "      <td>NaN</td>\n",
              "      <td>NaN</td>\n",
              "    </tr>\n",
              "    <tr>\n",
              "      <th>6690</th>\n",
              "      <td>6690</td>\n",
              "      <td>48616901</td>\n",
              "      <td>American College of Barbering - Florence</td>\n",
              "      <td>Florence</td>\n",
              "      <td>KY</td>\n",
              "      <td>410421801</td>\n",
              "      <td>NaN</td>\n",
              "      <td>0</td>\n",
              "      <td>3</td>\n",
              "      <td>5</td>\n",
              "      <td>NaN</td>\n",
              "      <td>NaN</td>\n",
              "      <td>NaN</td>\n",
              "      <td>NaN</td>\n",
              "      <td>NaN</td>\n",
              "      <td>NaN</td>\n",
              "      <td>NaN</td>\n",
              "      <td>NaN</td>\n",
              "    </tr>\n",
              "    <tr>\n",
              "      <th>6691</th>\n",
              "      <td>6691</td>\n",
              "      <td>49005401</td>\n",
              "      <td>HCI College - Fort Lauderdale Campus</td>\n",
              "      <td>Fort Lauderdale</td>\n",
              "      <td>FL</td>\n",
              "      <td>33309</td>\n",
              "      <td>www.hci.edu/</td>\n",
              "      <td>0</td>\n",
              "      <td>3</td>\n",
              "      <td>5</td>\n",
              "      <td>NaN</td>\n",
              "      <td>19404.0</td>\n",
              "      <td>NaN</td>\n",
              "      <td>NaN</td>\n",
              "      <td>NaN</td>\n",
              "      <td>NaN</td>\n",
              "      <td>NaN</td>\n",
              "      <td>NaN</td>\n",
              "    </tr>\n",
              "    <tr>\n",
              "      <th>6692</th>\n",
              "      <td>6692</td>\n",
              "      <td>49146401</td>\n",
              "      <td>ABC Adult School - Cabrillo Lane</td>\n",
              "      <td>Cerritos</td>\n",
              "      <td>CA</td>\n",
              "      <td>907037748</td>\n",
              "      <td>NaN</td>\n",
              "      <td>0</td>\n",
              "      <td>1</td>\n",
              "      <td>8</td>\n",
              "      <td>NaN</td>\n",
              "      <td>NaN</td>\n",
              "      <td>NaN</td>\n",
              "      <td>NaN</td>\n",
              "      <td>NaN</td>\n",
              "      <td>NaN</td>\n",
              "      <td>NaN</td>\n",
              "      <td>NaN</td>\n",
              "    </tr>\n",
              "    <tr>\n",
              "      <th>6693</th>\n",
              "      <td>6693</td>\n",
              "      <td>49175601</td>\n",
              "      <td>Urban Barber College - San Jose</td>\n",
              "      <td>San Jose</td>\n",
              "      <td>CA</td>\n",
              "      <td>95133</td>\n",
              "      <td>www.urbanbarbercollege.com/</td>\n",
              "      <td>0</td>\n",
              "      <td>3</td>\n",
              "      <td>8</td>\n",
              "      <td>NaN</td>\n",
              "      <td>NaN</td>\n",
              "      <td>NaN</td>\n",
              "      <td>NaN</td>\n",
              "      <td>NaN</td>\n",
              "      <td>NaN</td>\n",
              "      <td>NaN</td>\n",
              "      <td>NaN</td>\n",
              "    </tr>\n",
              "  </tbody>\n",
              "</table>\n",
              "<p>6694 rows × 18 columns</p>\n",
              "</div>\n",
              "      <button class=\"colab-df-convert\" onclick=\"convertToInteractive('df-450373ea-f9c2-4395-b056-6a5a2f4ef410')\"\n",
              "              title=\"Convert this dataframe to an interactive table.\"\n",
              "              style=\"display:none;\">\n",
              "        \n",
              "  <svg xmlns=\"http://www.w3.org/2000/svg\" height=\"24px\"viewBox=\"0 0 24 24\"\n",
              "       width=\"24px\">\n",
              "    <path d=\"M0 0h24v24H0V0z\" fill=\"none\"/>\n",
              "    <path d=\"M18.56 5.44l.94 2.06.94-2.06 2.06-.94-2.06-.94-.94-2.06-.94 2.06-2.06.94zm-11 1L8.5 8.5l.94-2.06 2.06-.94-2.06-.94L8.5 2.5l-.94 2.06-2.06.94zm10 10l.94 2.06.94-2.06 2.06-.94-2.06-.94-.94-2.06-.94 2.06-2.06.94z\"/><path d=\"M17.41 7.96l-1.37-1.37c-.4-.4-.92-.59-1.43-.59-.52 0-1.04.2-1.43.59L10.3 9.45l-7.72 7.72c-.78.78-.78 2.05 0 2.83L4 21.41c.39.39.9.59 1.41.59.51 0 1.02-.2 1.41-.59l7.78-7.78 2.81-2.81c.8-.78.8-2.07 0-2.86zM5.41 20L4 18.59l7.72-7.72 1.47 1.35L5.41 20z\"/>\n",
              "  </svg>\n",
              "      </button>\n",
              "      \n",
              "  <style>\n",
              "    .colab-df-container {\n",
              "      display:flex;\n",
              "      flex-wrap:wrap;\n",
              "      gap: 12px;\n",
              "    }\n",
              "\n",
              "    .colab-df-convert {\n",
              "      background-color: #E8F0FE;\n",
              "      border: none;\n",
              "      border-radius: 50%;\n",
              "      cursor: pointer;\n",
              "      display: none;\n",
              "      fill: #1967D2;\n",
              "      height: 32px;\n",
              "      padding: 0 0 0 0;\n",
              "      width: 32px;\n",
              "    }\n",
              "\n",
              "    .colab-df-convert:hover {\n",
              "      background-color: #E2EBFA;\n",
              "      box-shadow: 0px 1px 2px rgba(60, 64, 67, 0.3), 0px 1px 3px 1px rgba(60, 64, 67, 0.15);\n",
              "      fill: #174EA6;\n",
              "    }\n",
              "\n",
              "    [theme=dark] .colab-df-convert {\n",
              "      background-color: #3B4455;\n",
              "      fill: #D2E3FC;\n",
              "    }\n",
              "\n",
              "    [theme=dark] .colab-df-convert:hover {\n",
              "      background-color: #434B5C;\n",
              "      box-shadow: 0px 1px 3px 1px rgba(0, 0, 0, 0.15);\n",
              "      filter: drop-shadow(0px 1px 2px rgba(0, 0, 0, 0.3));\n",
              "      fill: #FFFFFF;\n",
              "    }\n",
              "  </style>\n",
              "\n",
              "      <script>\n",
              "        const buttonEl =\n",
              "          document.querySelector('#df-450373ea-f9c2-4395-b056-6a5a2f4ef410 button.colab-df-convert');\n",
              "        buttonEl.style.display =\n",
              "          google.colab.kernel.accessAllowed ? 'block' : 'none';\n",
              "\n",
              "        async function convertToInteractive(key) {\n",
              "          const element = document.querySelector('#df-450373ea-f9c2-4395-b056-6a5a2f4ef410');\n",
              "          const dataTable =\n",
              "            await google.colab.kernel.invokeFunction('convertToInteractive',\n",
              "                                                     [key], {});\n",
              "          if (!dataTable) return;\n",
              "\n",
              "          const docLinkHtml = 'Like what you see? Visit the ' +\n",
              "            '<a target=\"_blank\" href=https://colab.research.google.com/notebooks/data_table.ipynb>data table notebook</a>'\n",
              "            + ' to learn more about interactive tables.';\n",
              "          element.innerHTML = '';\n",
              "          dataTable['output_type'] = 'display_data';\n",
              "          await google.colab.output.renderOutput(dataTable, element);\n",
              "          const docLink = document.createElement('div');\n",
              "          docLink.innerHTML = docLinkHtml;\n",
              "          element.appendChild(docLink);\n",
              "        }\n",
              "      </script>\n",
              "    </div>\n",
              "  </div>\n",
              "  "
            ]
          },
          "metadata": {},
          "execution_count": 3
        }
      ]
    },
    {
      "cell_type": "code",
      "source": [
        "# when exporting, need to export without the index, for now, drop index\n",
        "df.drop(\"Unnamed: 0\", axis=1, inplace=True)"
      ],
      "metadata": {
        "id": "DKJrcWOdjS5I"
      },
      "execution_count": 4,
      "outputs": []
    },
    {
      "cell_type": "code",
      "source": [
        "df.head()"
      ],
      "metadata": {
        "colab": {
          "base_uri": "https://localhost:8080/",
          "height": 461
        },
        "id": "JZYKjjfGjf_Y",
        "outputId": "9c75689d-9eca-49f1-d5b7-6bfc7b027e4a"
      },
      "execution_count": 5,
      "outputs": [
        {
          "output_type": "execute_result",
          "data": {
            "text/plain": [
              "   UNITID                               INSTNM        CITY STABBR         ZIP  \\\n",
              "0  100654             Alabama A & M University      Normal     AL       35762   \n",
              "1  100663  University of Alabama at Birmingham  Birmingham     AL  35294-0110   \n",
              "2  100690                   Amridge University  Montgomery     AL  36117-3553   \n",
              "3  100706  University of Alabama in Huntsville  Huntsville     AL       35899   \n",
              "4  100724             Alabama State University  Montgomery     AL  36104-0271   \n",
              "\n",
              "                      INSTURL  HIGHDEG  CONTROL  REGION  COSTT4_A  \\\n",
              "0               www.aamu.edu/        4        1       5   23053.0   \n",
              "1        https://www.uab.edu/        4        1       5   24495.0   \n",
              "2  www.amridgeuniversity.edu/        4        2       5   14800.0   \n",
              "3                www.uah.edu/        4        1       5   23917.0   \n",
              "4              www.alasu.edu/        4        1       5   21866.0   \n",
              "\n",
              "   TUITIONFEE_IN  TUITIONFEE_OUT  NPT4_PUB  NPT4_PRIV  TUITFTE  INEXPFTE  \\\n",
              "0        10024.0         18634.0   14990.0        NaN   7870.0    5546.0   \n",
              "1         8568.0         20400.0   16953.0        NaN  12096.0   14983.0   \n",
              "2         6950.0          6950.0       NaN     8705.0  16403.0    5245.0   \n",
              "3        11122.0         23518.0   15860.0        NaN   8275.0    8488.0   \n",
              "4        11068.0         19396.0   13650.0        NaN   9587.0    9346.0   \n",
              "\n",
              "   AVGFACSAL  \n",
              "0     7709.0  \n",
              "1    11049.0  \n",
              "2     4187.0  \n",
              "3     9688.0  \n",
              "4     7221.0  "
            ],
            "text/html": [
              "\n",
              "  <div id=\"df-cda70132-1606-425f-9b27-6f31424024e1\">\n",
              "    <div class=\"colab-df-container\">\n",
              "      <div>\n",
              "<style scoped>\n",
              "    .dataframe tbody tr th:only-of-type {\n",
              "        vertical-align: middle;\n",
              "    }\n",
              "\n",
              "    .dataframe tbody tr th {\n",
              "        vertical-align: top;\n",
              "    }\n",
              "\n",
              "    .dataframe thead th {\n",
              "        text-align: right;\n",
              "    }\n",
              "</style>\n",
              "<table border=\"1\" class=\"dataframe\">\n",
              "  <thead>\n",
              "    <tr style=\"text-align: right;\">\n",
              "      <th></th>\n",
              "      <th>UNITID</th>\n",
              "      <th>INSTNM</th>\n",
              "      <th>CITY</th>\n",
              "      <th>STABBR</th>\n",
              "      <th>ZIP</th>\n",
              "      <th>INSTURL</th>\n",
              "      <th>HIGHDEG</th>\n",
              "      <th>CONTROL</th>\n",
              "      <th>REGION</th>\n",
              "      <th>COSTT4_A</th>\n",
              "      <th>TUITIONFEE_IN</th>\n",
              "      <th>TUITIONFEE_OUT</th>\n",
              "      <th>NPT4_PUB</th>\n",
              "      <th>NPT4_PRIV</th>\n",
              "      <th>TUITFTE</th>\n",
              "      <th>INEXPFTE</th>\n",
              "      <th>AVGFACSAL</th>\n",
              "    </tr>\n",
              "  </thead>\n",
              "  <tbody>\n",
              "    <tr>\n",
              "      <th>0</th>\n",
              "      <td>100654</td>\n",
              "      <td>Alabama A &amp; M University</td>\n",
              "      <td>Normal</td>\n",
              "      <td>AL</td>\n",
              "      <td>35762</td>\n",
              "      <td>www.aamu.edu/</td>\n",
              "      <td>4</td>\n",
              "      <td>1</td>\n",
              "      <td>5</td>\n",
              "      <td>23053.0</td>\n",
              "      <td>10024.0</td>\n",
              "      <td>18634.0</td>\n",
              "      <td>14990.0</td>\n",
              "      <td>NaN</td>\n",
              "      <td>7870.0</td>\n",
              "      <td>5546.0</td>\n",
              "      <td>7709.0</td>\n",
              "    </tr>\n",
              "    <tr>\n",
              "      <th>1</th>\n",
              "      <td>100663</td>\n",
              "      <td>University of Alabama at Birmingham</td>\n",
              "      <td>Birmingham</td>\n",
              "      <td>AL</td>\n",
              "      <td>35294-0110</td>\n",
              "      <td>https://www.uab.edu/</td>\n",
              "      <td>4</td>\n",
              "      <td>1</td>\n",
              "      <td>5</td>\n",
              "      <td>24495.0</td>\n",
              "      <td>8568.0</td>\n",
              "      <td>20400.0</td>\n",
              "      <td>16953.0</td>\n",
              "      <td>NaN</td>\n",
              "      <td>12096.0</td>\n",
              "      <td>14983.0</td>\n",
              "      <td>11049.0</td>\n",
              "    </tr>\n",
              "    <tr>\n",
              "      <th>2</th>\n",
              "      <td>100690</td>\n",
              "      <td>Amridge University</td>\n",
              "      <td>Montgomery</td>\n",
              "      <td>AL</td>\n",
              "      <td>36117-3553</td>\n",
              "      <td>www.amridgeuniversity.edu/</td>\n",
              "      <td>4</td>\n",
              "      <td>2</td>\n",
              "      <td>5</td>\n",
              "      <td>14800.0</td>\n",
              "      <td>6950.0</td>\n",
              "      <td>6950.0</td>\n",
              "      <td>NaN</td>\n",
              "      <td>8705.0</td>\n",
              "      <td>16403.0</td>\n",
              "      <td>5245.0</td>\n",
              "      <td>4187.0</td>\n",
              "    </tr>\n",
              "    <tr>\n",
              "      <th>3</th>\n",
              "      <td>100706</td>\n",
              "      <td>University of Alabama in Huntsville</td>\n",
              "      <td>Huntsville</td>\n",
              "      <td>AL</td>\n",
              "      <td>35899</td>\n",
              "      <td>www.uah.edu/</td>\n",
              "      <td>4</td>\n",
              "      <td>1</td>\n",
              "      <td>5</td>\n",
              "      <td>23917.0</td>\n",
              "      <td>11122.0</td>\n",
              "      <td>23518.0</td>\n",
              "      <td>15860.0</td>\n",
              "      <td>NaN</td>\n",
              "      <td>8275.0</td>\n",
              "      <td>8488.0</td>\n",
              "      <td>9688.0</td>\n",
              "    </tr>\n",
              "    <tr>\n",
              "      <th>4</th>\n",
              "      <td>100724</td>\n",
              "      <td>Alabama State University</td>\n",
              "      <td>Montgomery</td>\n",
              "      <td>AL</td>\n",
              "      <td>36104-0271</td>\n",
              "      <td>www.alasu.edu/</td>\n",
              "      <td>4</td>\n",
              "      <td>1</td>\n",
              "      <td>5</td>\n",
              "      <td>21866.0</td>\n",
              "      <td>11068.0</td>\n",
              "      <td>19396.0</td>\n",
              "      <td>13650.0</td>\n",
              "      <td>NaN</td>\n",
              "      <td>9587.0</td>\n",
              "      <td>9346.0</td>\n",
              "      <td>7221.0</td>\n",
              "    </tr>\n",
              "  </tbody>\n",
              "</table>\n",
              "</div>\n",
              "      <button class=\"colab-df-convert\" onclick=\"convertToInteractive('df-cda70132-1606-425f-9b27-6f31424024e1')\"\n",
              "              title=\"Convert this dataframe to an interactive table.\"\n",
              "              style=\"display:none;\">\n",
              "        \n",
              "  <svg xmlns=\"http://www.w3.org/2000/svg\" height=\"24px\"viewBox=\"0 0 24 24\"\n",
              "       width=\"24px\">\n",
              "    <path d=\"M0 0h24v24H0V0z\" fill=\"none\"/>\n",
              "    <path d=\"M18.56 5.44l.94 2.06.94-2.06 2.06-.94-2.06-.94-.94-2.06-.94 2.06-2.06.94zm-11 1L8.5 8.5l.94-2.06 2.06-.94-2.06-.94L8.5 2.5l-.94 2.06-2.06.94zm10 10l.94 2.06.94-2.06 2.06-.94-2.06-.94-.94-2.06-.94 2.06-2.06.94z\"/><path d=\"M17.41 7.96l-1.37-1.37c-.4-.4-.92-.59-1.43-.59-.52 0-1.04.2-1.43.59L10.3 9.45l-7.72 7.72c-.78.78-.78 2.05 0 2.83L4 21.41c.39.39.9.59 1.41.59.51 0 1.02-.2 1.41-.59l7.78-7.78 2.81-2.81c.8-.78.8-2.07 0-2.86zM5.41 20L4 18.59l7.72-7.72 1.47 1.35L5.41 20z\"/>\n",
              "  </svg>\n",
              "      </button>\n",
              "      \n",
              "  <style>\n",
              "    .colab-df-container {\n",
              "      display:flex;\n",
              "      flex-wrap:wrap;\n",
              "      gap: 12px;\n",
              "    }\n",
              "\n",
              "    .colab-df-convert {\n",
              "      background-color: #E8F0FE;\n",
              "      border: none;\n",
              "      border-radius: 50%;\n",
              "      cursor: pointer;\n",
              "      display: none;\n",
              "      fill: #1967D2;\n",
              "      height: 32px;\n",
              "      padding: 0 0 0 0;\n",
              "      width: 32px;\n",
              "    }\n",
              "\n",
              "    .colab-df-convert:hover {\n",
              "      background-color: #E2EBFA;\n",
              "      box-shadow: 0px 1px 2px rgba(60, 64, 67, 0.3), 0px 1px 3px 1px rgba(60, 64, 67, 0.15);\n",
              "      fill: #174EA6;\n",
              "    }\n",
              "\n",
              "    [theme=dark] .colab-df-convert {\n",
              "      background-color: #3B4455;\n",
              "      fill: #D2E3FC;\n",
              "    }\n",
              "\n",
              "    [theme=dark] .colab-df-convert:hover {\n",
              "      background-color: #434B5C;\n",
              "      box-shadow: 0px 1px 3px 1px rgba(0, 0, 0, 0.15);\n",
              "      filter: drop-shadow(0px 1px 2px rgba(0, 0, 0, 0.3));\n",
              "      fill: #FFFFFF;\n",
              "    }\n",
              "  </style>\n",
              "\n",
              "      <script>\n",
              "        const buttonEl =\n",
              "          document.querySelector('#df-cda70132-1606-425f-9b27-6f31424024e1 button.colab-df-convert');\n",
              "        buttonEl.style.display =\n",
              "          google.colab.kernel.accessAllowed ? 'block' : 'none';\n",
              "\n",
              "        async function convertToInteractive(key) {\n",
              "          const element = document.querySelector('#df-cda70132-1606-425f-9b27-6f31424024e1');\n",
              "          const dataTable =\n",
              "            await google.colab.kernel.invokeFunction('convertToInteractive',\n",
              "                                                     [key], {});\n",
              "          if (!dataTable) return;\n",
              "\n",
              "          const docLinkHtml = 'Like what you see? Visit the ' +\n",
              "            '<a target=\"_blank\" href=https://colab.research.google.com/notebooks/data_table.ipynb>data table notebook</a>'\n",
              "            + ' to learn more about interactive tables.';\n",
              "          element.innerHTML = '';\n",
              "          dataTable['output_type'] = 'display_data';\n",
              "          await google.colab.output.renderOutput(dataTable, element);\n",
              "          const docLink = document.createElement('div');\n",
              "          docLink.innerHTML = docLinkHtml;\n",
              "          element.appendChild(docLink);\n",
              "        }\n",
              "      </script>\n",
              "    </div>\n",
              "  </div>\n",
              "  "
            ]
          },
          "metadata": {},
          "execution_count": 5
        }
      ]
    },
    {
      "cell_type": "markdown",
      "source": [
        "# Drop data that is not relevant\n",
        "We are going to limit the data to the following criteria:\n",
        "1. The institution grants an associates degree or higher: **HIGHDEG** (rows < 2)\n",
        "2. Outlying Areas will be dropped: **REGION** (rows==9)"
      ],
      "metadata": {
        "id": "61xVXEYYj0Gn"
      }
    },
    {
      "cell_type": "code",
      "source": [
        "# grab all rows that are in the outlying regions\n",
        "reg9 = df[df[\"REGION\"]==9]"
      ],
      "metadata": {
        "id": "HSoKjGgjkwnH"
      },
      "execution_count": 6,
      "outputs": []
    },
    {
      "cell_type": "code",
      "source": [
        "# Drop them\n",
        "df.drop(reg9.index, inplace=True)"
      ],
      "metadata": {
        "id": "faQL7SZpmJ0W"
      },
      "execution_count": 7,
      "outputs": []
    },
    {
      "cell_type": "code",
      "source": [
        "# Check shape\n",
        "df.shape"
      ],
      "metadata": {
        "colab": {
          "base_uri": "https://localhost:8080/"
        },
        "id": "2476SUcGlb9m",
        "outputId": "8ddfb282-251f-4e1d-e533-defb66fb0286"
      },
      "execution_count": 8,
      "outputs": [
        {
          "output_type": "execute_result",
          "data": {
            "text/plain": [
              "(6540, 17)"
            ]
          },
          "metadata": {},
          "execution_count": 8
        }
      ]
    },
    {
      "cell_type": "code",
      "source": [
        "# Grab all the rows that have a highdeg of less than 2\n",
        "deg = df[df[\"HIGHDEG\"]<2]"
      ],
      "metadata": {
        "id": "8gnK_Zd6l21F"
      },
      "execution_count": 9,
      "outputs": []
    },
    {
      "cell_type": "code",
      "source": [
        "# Drop them\n",
        "df.drop(deg.index, inplace=True)"
      ],
      "metadata": {
        "id": "csVuIhUJoktq"
      },
      "execution_count": 10,
      "outputs": []
    },
    {
      "cell_type": "code",
      "source": [
        "# Check shape\n",
        "df.shape"
      ],
      "metadata": {
        "colab": {
          "base_uri": "https://localhost:8080/"
        },
        "id": "hNwHq7DEosWj",
        "outputId": "449ae6af-af81-44d8-bb08-fafe889df3d4"
      },
      "execution_count": 11,
      "outputs": [
        {
          "output_type": "execute_result",
          "data": {
            "text/plain": [
              "(3946, 17)"
            ]
          },
          "metadata": {},
          "execution_count": 11
        }
      ]
    },
    {
      "cell_type": "markdown",
      "source": [
        "# Now we that we have the rows we want to work with, we can begin cleaning"
      ],
      "metadata": {
        "id": "Os5D8P75pKu8"
      }
    },
    {
      "cell_type": "code",
      "source": [
        "# Check for null values\n",
        "df.isna().sum()"
      ],
      "metadata": {
        "colab": {
          "base_uri": "https://localhost:8080/"
        },
        "id": "Za1w-vmBkH1N",
        "outputId": "abc23351-1995-441a-c71d-7f4252ef7e40"
      },
      "execution_count": 12,
      "outputs": [
        {
          "output_type": "execute_result",
          "data": {
            "text/plain": [
              "UNITID               0\n",
              "INSTNM               0\n",
              "CITY                 0\n",
              "STABBR               0\n",
              "ZIP                  0\n",
              "INSTURL              0\n",
              "HIGHDEG              0\n",
              "CONTROL              0\n",
              "REGION               0\n",
              "COSTT4_A           777\n",
              "TUITIONFEE_IN      651\n",
              "TUITIONFEE_OUT     651\n",
              "NPT4_PUB          2392\n",
              "NPT4_PRIV         2103\n",
              "TUITFTE              6\n",
              "INEXPFTE             6\n",
              "AVGFACSAL          156\n",
              "dtype: int64"
            ]
          },
          "metadata": {},
          "execution_count": 12
        }
      ]
    },
    {
      "cell_type": "code",
      "source": [
        "# check for outliers\n",
        "df.hist(bins=80, figsize=(20,20))"
      ],
      "metadata": {
        "colab": {
          "base_uri": "https://localhost:8080/",
          "height": 1000
        },
        "id": "vYE2qgRPvKK2",
        "outputId": "2bfa0526-ffbb-4cf3-836a-4aca5f2db58c"
      },
      "execution_count": 13,
      "outputs": [
        {
          "output_type": "execute_result",
          "data": {
            "text/plain": [
              "array([[<matplotlib.axes._subplots.AxesSubplot object at 0x7fdf268ddc90>,\n",
              "        <matplotlib.axes._subplots.AxesSubplot object at 0x7fdf268bc210>,\n",
              "        <matplotlib.axes._subplots.AxesSubplot object at 0x7fdf26875810>],\n",
              "       [<matplotlib.axes._subplots.AxesSubplot object at 0x7fdf2682ce10>,\n",
              "        <matplotlib.axes._subplots.AxesSubplot object at 0x7fdf267ee450>,\n",
              "        <matplotlib.axes._subplots.AxesSubplot object at 0x7fdf267a5a50>],\n",
              "       [<matplotlib.axes._subplots.AxesSubplot object at 0x7fdf267d2b90>,\n",
              "        <matplotlib.axes._subplots.AxesSubplot object at 0x7fdf26720650>,\n",
              "        <matplotlib.axes._subplots.AxesSubplot object at 0x7fdf26720690>],\n",
              "       [<matplotlib.axes._subplots.AxesSubplot object at 0x7fdf26754d90>,\n",
              "        <matplotlib.axes._subplots.AxesSubplot object at 0x7fdf266d18d0>,\n",
              "        <matplotlib.axes._subplots.AxesSubplot object at 0x7fdf26686ed0>]],\n",
              "      dtype=object)"
            ]
          },
          "metadata": {},
          "execution_count": 13
        },
        {
          "output_type": "display_data",
          "data": {
            "text/plain": [
              "<Figure size 1440x1440 with 12 Axes>"
            ],
            "image/png": "[encoded data removed]"
          },
          "metadata": {
            "needs_background": "light"
          }
        }
      ]
    },
    {
      "cell_type": "markdown",
      "source": [
        "### Some quick insights:\n",
        "- Unfortunately, we have a lot of null values *(~2,200/4,000)* in average net price of public and private universities.\n",
        "- 777/4,000 values are null for cost of attendance.\n",
        "\n",
        "### Plan to clean data:\n",
        "- Average net price will be dropped because of the amount of null data\n",
        "- We will impute the data with the median of variables because the data seems to be positiviely skewed\n",
        "- We're going to create subsets of the data depending on the whether the institution primarily grants **associates**, **bachelors**, or **graduate** degrees\n",
        "- Find the **median** and impute the values, then join the subset back to the original dataframe"
      ],
      "metadata": {
        "id": "3fBc40udqd9i"
      }
    },
    {
      "cell_type": "code",
      "source": [
        "# Drop data with too many missing values\n",
        "df.drop([\"NPT4_PRIV\",\"NPT4_PUB\"], axis=1, inplace=True)"
      ],
      "metadata": {
        "id": "ovwILUS4vbzu"
      },
      "execution_count": 14,
      "outputs": []
    },
    {
      "cell_type": "code",
      "source": [
        "cost_median = df[\"COSTT4_A\"].median()\n",
        "intuition_median = df[\"TUITIONFEE_IN\"].median()\n",
        "outtuition_median = df['TUITIONFEE_OUT'].median()\n",
        "avgfacsal_median = df['AVGFACSAL'].median()"
      ],
      "metadata": {
        "id": "XFFsgSco76Bh"
      },
      "execution_count": 18,
      "outputs": []
    },
    {
      "cell_type": "code",
      "source": [
        "df['COSTT4_A'].fillna(cost_median, inplace=True)\n",
        "df['TUITIONFEE_IN'].fillna(intuition_median, inplace=True)\n",
        "df['TUITIONFEE_OUT'].fillna(outtuition_median, inplace=True)\n",
        "df['AVGFACSAL'].fillna(avgfacsal_median, inplace=True)"
      ],
      "metadata": {
        "id": "b7ONHBrS8cOR"
      },
      "execution_count": 19,
      "outputs": []
    },
    {
      "cell_type": "code",
      "source": [
        "df.isna().sum()"
      ],
      "metadata": {
        "colab": {
          "base_uri": "https://localhost:8080/"
        },
        "id": "c24djDp64M48",
        "outputId": "633ed53d-9fd8-4e26-d012-423da938adf6"
      },
      "execution_count": 20,
      "outputs": [
        {
          "output_type": "execute_result",
          "data": {
            "text/plain": [
              "UNITID            0\n",
              "INSTNM            0\n",
              "CITY              0\n",
              "STABBR            0\n",
              "ZIP               0\n",
              "INSTURL           0\n",
              "HIGHDEG           0\n",
              "CONTROL           0\n",
              "REGION            0\n",
              "COSTT4_A          0\n",
              "TUITIONFEE_IN     0\n",
              "TUITIONFEE_OUT    0\n",
              "TUITFTE           6\n",
              "INEXPFTE          6\n",
              "AVGFACSAL         0\n",
              "dtype: int64"
            ]
          },
          "metadata": {},
          "execution_count": 20
        }
      ]
    },
    {
      "cell_type": "code",
      "source": [
        "tuitfte_median = df['TUITFTE'].median()\n",
        "inexpfte_median = df['INEXPFTE'].median()"
      ],
      "metadata": {
        "id": "tqWS7nSf4WXb"
      },
      "execution_count": 22,
      "outputs": []
    },
    {
      "cell_type": "code",
      "source": [
        "df['TUITFTE'].fillna(tuitfte_median, inplace=True)\n",
        "df['INEXPFTE'].fillna(inexpfte_median, inplace=True)"
      ],
      "metadata": {
        "id": "_S0mAe0X9H3M"
      },
      "execution_count": 23,
      "outputs": []
    },
    {
      "cell_type": "code",
      "source": [
        "df.isna().sum()"
      ],
      "metadata": {
        "colab": {
          "base_uri": "https://localhost:8080/"
        },
        "id": "3Od-weIl9pzG",
        "outputId": "7c1896ac-03ec-4280-8e8b-8e122f364e3e"
      },
      "execution_count": 26,
      "outputs": [
        {
          "output_type": "execute_result",
          "data": {
            "text/plain": [
              "UNITID            0\n",
              "INSTNM            0\n",
              "CITY              0\n",
              "STABBR            0\n",
              "ZIP               0\n",
              "INSTURL           0\n",
              "HIGHDEG           0\n",
              "CONTROL           0\n",
              "REGION            0\n",
              "COSTT4_A          0\n",
              "TUITIONFEE_IN     0\n",
              "TUITIONFEE_OUT    0\n",
              "TUITFTE           0\n",
              "INEXPFTE          0\n",
              "AVGFACSAL         0\n",
              "dtype: int64"
            ]
          },
          "metadata": {},
          "execution_count": 26
        }
      ]
    },
    {
      "cell_type": "code",
      "source": [
        "# Lets export this dataset as a CSV to clean further later\n",
        "df.to_csv(\"cleaned_data.csv\", index=False)"
      ],
      "metadata": {
        "id": "R_hIlfRV96sR"
      },
      "execution_count": 29,
      "outputs": []
    },
    {
      "cell_type": "code",
      "source": [
        "# export data for further analysis\n",
        "from google.colab import files\n",
        "files.download(\"cleaned_data.csv\")"
      ],
      "metadata": {
        "colab": {
          "base_uri": "https://localhost:8080/",
          "height": 17
        },
        "id": "JNPQaLl29rMH",
        "outputId": "e815f4cb-20c8-4586-e911-dbda00654839"
      },
      "execution_count": 30,
      "outputs": [
        {
          "output_type": "display_data",
          "data": {
            "text/plain": [
              "<IPython.core.display.Javascript object>"
            ],
            "application/javascript": [
              "\n",
              "    async function download(id, filename, size) {\n",
              "      if (!google.colab.kernel.accessAllowed) {\n",
              "        return;\n",
              "      }\n",
              "      const div = document.createElement('div');\n",
              "      const label = document.createElement('label');\n",
              "      label.textContent = `Downloading \"${filename}\": `;\n",
              "      div.appendChild(label);\n",
              "      const progress = document.createElement('progress');\n",
              "      progress.max = size;\n",
              "      div.appendChild(progress);\n",
              "      document.body.appendChild(div);\n",
              "\n",
              "      const buffers = [];\n",
              "      let downloaded = 0;\n",
              "\n",
              "      const channel = await google.colab.kernel.comms.open(id);\n",
              "      // Send a message to notify the kernel that we're ready.\n",
              "      channel.send({})\n",
              "\n",
              "      for await (const message of channel.messages) {\n",
              "        // Send a message to notify the kernel that we're ready.\n",
              "        channel.send({})\n",
              "        if (message.buffers) {\n",
              "          for (const buffer of message.buffers) {\n",
              "            buffers.push(buffer);\n",
              "            downloaded += buffer.byteLength;\n",
              "            progress.value = downloaded;\n",
              "          }\n",
              "        }\n",
              "      }\n",
              "      const blob = new Blob(buffers, {type: 'application/binary'});\n",
              "      const a = document.createElement('a');\n",
              "      a.href = window.URL.createObjectURL(blob);\n",
              "      a.download = filename;\n",
              "      div.appendChild(a);\n",
              "      a.click();\n",
              "      div.remove();\n",
              "    }\n",
              "  "
            ]
          },
          "metadata": {}
        },
        {
          "output_type": "display_data",
          "data": {
            "text/plain": [
              "<IPython.core.display.Javascript object>"
            ],
            "application/javascript": [
              "download(\"download_84571a10-44c9-4f46-903c-b08882afe2e0\", \"cleaned_data.csv\", 510484)"
            ]
          },
          "metadata": {}
        }
      ]
    }
  ]
}